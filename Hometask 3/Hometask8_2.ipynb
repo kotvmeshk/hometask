{
 "cells": [
  {
   "cell_type": "code",
   "execution_count": 17,
   "metadata": {},
   "outputs": [
    {
     "name": "stdout",
     "output_type": "stream",
     "text": [
      "1.273302064528599 1.6620391224277693\n",
      "1.273302064528599 1.6620391224277693 1\n"
     ]
    }
   ],
   "source": [
    "from scipy.optimize import  fsolve, broyden2\n",
    "import math\n",
    "import numpy as np\n",
    "\n",
    "\n",
    "def equations (p):\n",
    "    x,y=p\n",
    "    return ((x**2) - (y**2) +3*x*(y**3)-2*(x**2)*(y**2)+2 *x-3*y - 5,3*(y**3) - 2*(x**2) +2*(x**3)*y-5*(x**2)*(y**2)+5)\n",
    "x,y = fsolve(equations, (10,10))  \n",
    "print (x,y) \n",
    "(x,y), info, ier, mesg = fsolve(equations,(10,10), full_output=True)\n",
    "print (x,y, ier)\n",
    "# for x0 in np.arange (-10,10,2):\n",
    "#     x, info, ier, mesg = fsolve(equations,x0, full_output=True)\n",
    "#     print (float(x), ier)"
   ]
  }
 ],
 "metadata": {
  "interpreter": {
   "hash": "f47e27b6adae66f011a5b107fe07cd7a05071e3e7f8ab6b0e20bec49ac3143c6"
  },
  "kernelspec": {
   "display_name": "Python 3.9.4 64-bit ('venv': venv)",
   "language": "python",
   "name": "python3"
  },
  "language_info": {
   "codemirror_mode": {
    "name": "ipython",
    "version": 3
   },
   "file_extension": ".py",
   "mimetype": "text/x-python",
   "name": "python",
   "nbconvert_exporter": "python",
   "pygments_lexer": "ipython3",
   "version": "3.9.4"
  },
  "orig_nbformat": 4
 },
 "nbformat": 4,
 "nbformat_minor": 2
}
