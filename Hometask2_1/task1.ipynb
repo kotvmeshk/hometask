{
 "cells": [
  {
   "cell_type": "markdown",
   "metadata": {},
   "source": [
    "# Markdown"
   ]
  },
  {
   "cell_type": "code",
   "execution_count": 3,
   "metadata": {},
   "outputs": [
    {
     "name": "stdout",
     "output_type": "stream",
     "text": [
      "Hello world\n",
      "HEllo\n"
     ]
    }
   ],
   "source": [
    "print(\"Hello world\")\n",
    "print(\"HEllo\")"
   ]
  },
  {
   "cell_type": "code",
   "execution_count": 30,
   "metadata": {},
   "outputs": [
    {
     "name": "stdout",
     "output_type": "stream",
     "text": [
      "[[ 45.   90. ]\n",
      " [ 63.  108. ]\n",
      " [101.7  45. ]\n",
      " [225.  270. ]]\n"
     ]
    }
   ],
   "source": [
    "import numpy as np\n",
    "m = np.array([[5,10],[7,12], [11.3,5], [25,30]])\n",
    "# a = 7\n",
    "# b =2 \n",
    "c = np.dot(7,m) + np.dot(2,m)\n",
    "# d = np.dot(b,m)\n",
    "# e = c + d\n",
    "\n",
    "print (c)\n",
    "\n",
    "\n",
    "# class Matrix:\n",
    "#     def _init_ (self,my_list):\n",
    "#       self.my_list = deepcopy(my_list)\n",
    " \n",
    "#     def _str_(self):\n",
    "#         return'\\n.join('\\t'.join(map(str,row)) for row in self.my_list)\n",
    "\n",
    "#     #   for row in self.my_list:\n",
    "#     #       for i in row:\n",
    "#     #           print (f\"{i:4}\", end = \" \")\n",
    "#     #       print ()\n",
    "#     #   return \"\"\n",
    "#     # def _add_(self, other):\n",
    "#     #     for i in range(len(self.my_list)):\n",
    "#     #         for i_2 in range (len(other.my_list[i])):\n",
    "#     #             self.my_list[i][i_2]=self.my_list[i][i_2] + other.my_list[i][i_2]\n",
    "#     #     return Matrix._str_(self)\n",
    "\n",
    "\n",
    "# m = Matrix([5,7,11.3,25],[10,12,5,30])\n",
    "# m_2 = Matrix([5,7,11.3,25],[10,12,5,30])\n",
    "# # print(m._add_(new_m))"
   ]
  }
 ],
 "metadata": {
  "interpreter": {
   "hash": "f47e27b6adae66f011a5b107fe07cd7a05071e3e7f8ab6b0e20bec49ac3143c6"
  },
  "kernelspec": {
   "display_name": "Python 3.9.4 64-bit ('venv': venv)",
   "language": "python",
   "name": "python3"
  },
  "language_info": {
   "codemirror_mode": {
    "name": "ipython",
    "version": 3
   },
   "file_extension": ".py",
   "mimetype": "text/x-python",
   "name": "python",
   "nbconvert_exporter": "python",
   "pygments_lexer": "ipython3",
   "version": "3.9.4"
  },
  "orig_nbformat": 4
 },
 "nbformat": 4,
 "nbformat_minor": 2
}
