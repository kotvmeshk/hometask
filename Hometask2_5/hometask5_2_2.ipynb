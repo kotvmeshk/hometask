{
 "cells": [
  {
   "cell_type": "code",
   "execution_count": 42,
   "metadata": {},
   "outputs": [
    {
     "name": "stdout",
     "output_type": "stream",
     "text": [
      "[4.248318286811379, 6.112709910874056, 4.644004897631826, 4.814610802551254, 3.3110841190576545, 4.753434224362279, 5.913828933961699, 5.021014478399155, 4.927052323029156, 5.253491423873899]\n",
      "[array([0.11666678, 0.43453718, 0.25395916, 0.45279265, 0.91554396,\n",
      "       0.75828314, 0.48972701, 0.46275077, 0.33422014, 0.02983749]), array([0.1768024 , 0.78500382, 0.6876987 , 0.99919093, 0.98187696,\n",
      "       0.31706069, 0.82837704, 0.792879  , 0.47159109, 0.07222928]), array([0.43291456, 0.2168384 , 0.65511619, 0.18980678, 0.06250061,\n",
      "       0.96341174, 0.24786899, 0.97601624, 0.30328656, 0.59624482]), array([0.14558622, 0.70276958, 0.58784229, 0.39489104, 0.09541158,\n",
      "       0.47728718, 0.27355316, 0.52336886, 0.91682472, 0.69707617]), array([0.35545815, 0.63094331, 0.25853033, 0.01928586, 0.42940351,\n",
      "       0.18938816, 0.14188761, 0.2970204 , 0.76704364, 0.22212316]), array([0.16336239, 0.75899921, 0.17955233, 0.25798959, 0.57334897,\n",
      "       0.90427688, 0.84143001, 0.08516831, 0.83727495, 0.15203159]), array([0.81292894, 0.42275286, 0.48044022, 0.93343406, 0.1211098 ,\n",
      "       0.81385406, 0.91894959, 0.34273315, 0.83958613, 0.22804013]), array([0.57951993, 0.49770074, 0.63937078, 0.88921746, 0.4057348 ,\n",
      "       0.47441152, 0.44926049, 0.80520758, 0.17950939, 0.10108179]), array([0.9721641 , 0.86147378, 0.03548218, 0.8659593 , 0.13007799,\n",
      "       0.17799697, 0.50613565, 0.55984106, 0.23415738, 0.5837639 ]), array([0.60804045, 0.44412096, 0.36292428, 0.84098057, 0.54326638,\n",
      "       0.15881883, 0.88992791, 0.23156884, 0.17681457, 0.99702864])]\n"
     ]
    },
    {
     "data": {
      "image/png": "[encoded data removed]",
      "text/plain": [
       "<Figure size 432x288 with 1 Axes>"
      ]
     },
     "metadata": {
      "needs_background": "light"
     },
     "output_type": "display_data"
    }
   ],
   "source": [
    "%matplotlib inline\n",
    "import numpy as np\n",
    "import matplotlib.pyplot as plt\n",
    "import matplotlib.mlab as mlab\n",
    "x = []\n",
    "list = []\n",
    "for i in range (0,10):\n",
    "    # list.append(0)\n",
    "    x.append(np.random.rand(10))\n",
    "for y in x:\n",
    "    k = sum(y)\n",
    "    list.append(k)\n",
    "       \n",
    "    # list_s = sum(x[i])\n",
    "    # list[i] =list[i]+list_s\n",
    "    # list[i] = list[i] + list\n",
    "# list = np.random.rand(10)\n",
    "# x= sum(list)\n",
    "print (list)\n",
    "\n",
    "print (x)\n",
    "num_bins = 4\n",
    "n, bins, patches = plt.hist(list, num_bins)\n",
    "plt.xlabel ('sum')\n",
    "plt.ylabel ('probability')\n",
    "plt.title('histogram')\n",
    "plt.show()"
   ]
  }
 ],
 "metadata": {
  "interpreter": {
   "hash": "f47e27b6adae66f011a5b107fe07cd7a05071e3e7f8ab6b0e20bec49ac3143c6"
  },
  "kernelspec": {
   "display_name": "Python 3.9.4 64-bit ('venv': venv)",
   "language": "python",
   "name": "python3"
  },
  "language_info": {
   "codemirror_mode": {
    "name": "ipython",
    "version": 3
   },
   "file_extension": ".py",
   "mimetype": "text/x-python",
   "name": "python",
   "nbconvert_exporter": "python",
   "pygments_lexer": "ipython3",
   "version": "3.9.4"
  },
  "orig_nbformat": 4
 },
 "nbformat": 4,
 "nbformat_minor": 2
}
