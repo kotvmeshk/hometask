{
 "cells": [
  {
   "cell_type": "code",
   "execution_count": 15,
   "metadata": {},
   "outputs": [
    {
     "name": "stdout",
     "output_type": "stream",
     "text": [
      "Вероятность по Монте-Карло: 391 1000 0.391\n",
      "Вероятность по Бернулли: 1.0217819463380604e-12\n"
     ]
    }
   ],
   "source": [
    "import numpy as np\n",
    "import math\n",
    "\n",
    "import itertools\n",
    "k=0\n",
    "n=1000\n",
    "a = np.random.randint(0,2 ,n)\n",
    "b = np.random.randint(0,2 ,n)\n",
    "c = np.random.randint(0,2 ,n)\n",
    "d = np.random.randint(0,2 ,n)\n",
    "x = a + b + c + d\n",
    "for i in range(0,n):\n",
    "        if x[i] == 2:  \n",
    "            k = k + 1\n",
    "print (\"Вероятность по Монте-Карло:\", k, n, k/n)\n",
    "\n",
    "\n",
    "C = math.factorial(n)/(math.factorial(k)*math.factorial(n-k))\n",
    "P = C * 1/2**n\n",
    "print(\"Вероятность по Бернулли:\", P)\n",
    "    "
   ]
  },
  {
   "cell_type": "markdown",
   "metadata": {},
   "source": [
    "Задание 3_2"
   ]
  },
  {
   "cell_type": "code",
   "execution_count": 19,
   "metadata": {},
   "outputs": [
    {
     "name": "stdout",
     "output_type": "stream",
     "text": [
      "Вероятность по Монте-Карло: 75 200 0.375\n",
      "Вероятность по Бернулли: 0.00010507561131534872\n"
     ]
    }
   ],
   "source": [
    "import numpy as np\n",
    "import math\n",
    "\n",
    "import itertools\n",
    "k=0\n",
    "n=200\n",
    "\n",
    "a = np.random.randint(0,2 ,n)\n",
    "b = np.random.randint(0,2 ,n)\n",
    "c = np.random.randint(0,2 ,n)\n",
    "d = np.random.randint(0,2 ,n)\n",
    "e = np.random.randint(0,2 ,n)\n",
    "x = a + b + c + d + e\n",
    "for i in range(0,n):\n",
    "        if x[i] == 3:  \n",
    "            k = k + 1\n",
    "print (\"Метод Монте-Карло:\", k, n, k/n)\n",
    "\n",
    "\n",
    "C = math.factorial(n)/(math.factorial(k)*math.factorial(n-k))\n",
    "P = C * 1/2**n\n",
    "print(\"Вероятность по Бернулли:\", P)\n",
    "    "
   ]
  }
 ],
 "metadata": {
  "interpreter": {
   "hash": "f47e27b6adae66f011a5b107fe07cd7a05071e3e7f8ab6b0e20bec49ac3143c6"
  },
  "kernelspec": {
   "display_name": "Python 3.9.4 64-bit ('venv': venv)",
   "language": "python",
   "name": "python3"
  },
  "language_info": {
   "codemirror_mode": {
    "name": "ipython",
    "version": 3
   },
   "file_extension": ".py",
   "mimetype": "text/x-python",
   "name": "python",
   "nbconvert_exporter": "python",
   "pygments_lexer": "ipython3",
   "version": "3.9.4"
  },
  "orig_nbformat": 4
 },
 "nbformat": 4,
 "nbformat_minor": 2
}
