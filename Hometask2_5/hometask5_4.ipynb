{
 "cells": [
  {
   "cell_type": "code",
   "execution_count": 9,
   "metadata": {},
   "outputs": [
    {
     "name": "stdout",
     "output_type": "stream",
     "text": [
      "00000\n",
      "00001\n",
      "00010\n",
      "00011\n",
      "00100\n",
      "00101\n",
      "00110\n",
      "00111\n",
      "01000\n",
      "01001\n",
      "01010\n",
      "01011\n",
      "01100\n",
      "01101\n",
      "01110\n",
      "01111\n",
      "10000\n",
      "10001\n",
      "10010\n",
      "10011\n",
      "10100\n",
      "10101\n",
      "10110\n",
      "10111\n",
      "11000\n",
      "11001\n",
      "11010\n",
      "11011\n",
      "11100\n",
      "11101\n",
      "11110\n",
      "11111\n"
     ]
    }
   ],
   "source": [
    "# import numpy as np\n",
    "# import math\n",
    "\n",
    "# import itertools\n",
    "# k=0\n",
    "# n=10\n",
    "\n",
    "# a = np.random.randint(0,2 ,n)\n",
    "# b = np.random.randint(0,2 ,n)\n",
    "# c = np.random.randint(0,2 ,n)\n",
    "# d = np.random.randint(0,2 ,n)\n",
    "# e = np.random.randint(0,2 ,n)\n",
    "# x = a + b + c + d + e\n",
    "# for i in range(0,n):\n",
    "#         if x[i] == 3:  \n",
    "#             k = k + 1\n",
    "# print (\"Метод Монте-Карло:\", k, n, k/n)\n",
    "for p in itertools.product ('01', repeat = 5):\n",
    "    print (''. join (p))"
   ]
  }
 ],
 "metadata": {
  "interpreter": {
   "hash": "f47e27b6adae66f011a5b107fe07cd7a05071e3e7f8ab6b0e20bec49ac3143c6"
  },
  "kernelspec": {
   "display_name": "Python 3.9.4 64-bit ('venv': venv)",
   "language": "python",
   "name": "python3"
  },
  "language_info": {
   "codemirror_mode": {
    "name": "ipython",
    "version": 3
   },
   "file_extension": ".py",
   "mimetype": "text/x-python",
   "name": "python",
   "nbconvert_exporter": "python",
   "pygments_lexer": "ipython3",
   "version": "3.9.4"
  },
  "orig_nbformat": 4
 },
 "nbformat": 4,
 "nbformat_minor": 2
}
