{
 "cells": [
  {
   "cell_type": "code",
   "execution_count": 91,
   "metadata": {},
   "outputs": [],
   "source": [
    "from math import factorial\n",
    "import numpy as np\n",
    "def combi(n,k):\n",
    "    return int(factorial(n)/(factorial(k)*factorial(n-k)))"
   ]
  },
  {
   "cell_type": "markdown",
   "metadata": {},
   "source": [
    "1. "
   ]
  },
  {
   "cell_type": "code",
   "execution_count": 92,
   "metadata": {},
   "outputs": [
    {
     "data": {
      "text/plain": [
       "253338471349988640"
      ]
     },
     "execution_count": 92,
     "metadata": {},
     "output_type": "execute_result"
    }
   ],
   "source": [
    "# Сочетание 85 из 100)\n",
    "c = combi(100,85)\n",
    "c \n",
    "\n",
    " \n"
   ]
  },
  {
   "cell_type": "code",
   "execution_count": 93,
   "metadata": {},
   "outputs": [],
   "source": [
    "def bern (n,k,p,c):\n",
    "    a = p**k\n",
    "    b = (1-p)**(n-k)\n",
    "    return (c * a*b)"
   ]
  },
  {
   "cell_type": "code",
   "execution_count": 94,
   "metadata": {},
   "outputs": [],
   "source": [
    "# по формуле биноминального распределения\n",
    "# c = combi(100,85)\n",
    "# a = 0.8**85\n",
    "# b = 0.2**15\n",
    "# p = c*a*b\n",
    "\n"
   ]
  },
  {
   "cell_type": "code",
   "execution_count": 100,
   "metadata": {},
   "outputs": [
    {
     "data": {
      "text/plain": [
       "0.048061793700746355"
      ]
     },
     "execution_count": 100,
     "metadata": {},
     "output_type": "execute_result"
    }
   ],
   "source": [
    "v = bern(100,85,0.8, combi(100,85))\n",
    "v\n"
   ]
  },
  {
   "cell_type": "markdown",
   "metadata": {},
   "source": [
    "2."
   ]
  },
  {
   "cell_type": "code",
   "execution_count": 96,
   "metadata": {},
   "outputs": [
    {
     "data": {
      "text/plain": [
       "0.1353352832366127"
      ]
     },
     "execution_count": 96,
     "metadata": {},
     "output_type": "execute_result"
    }
   ],
   "source": [
    "# вероятность, что в первый день не перегорит не одна лампочка из 5000\n",
    "def puason (n,m,p):\n",
    "    lambda_ = n*p\n",
    "    return (lambda_**m/factorial(m))* np.exp(-lambda_)\n",
    "lamp_0 = puason(5000, 0, 0.0004)\n",
    "lamp_0"
   ]
  },
  {
   "cell_type": "code",
   "execution_count": 97,
   "metadata": {},
   "outputs": [
    {
     "data": {
      "text/plain": [
       "0.2706705664732254"
      ]
     },
     "execution_count": 97,
     "metadata": {},
     "output_type": "execute_result"
    }
   ],
   "source": [
    "# вероятность, что в первый день перегорят 2 лампочки из 5000\n",
    "lamp_2 = puason(5000, 2, 0.0004)\n",
    "lamp_2"
   ]
  },
  {
   "cell_type": "markdown",
   "metadata": {},
   "source": [
    "3."
   ]
  },
  {
   "cell_type": "code",
   "execution_count": 101,
   "metadata": {},
   "outputs": [
    {
     "data": {
      "text/plain": [
       "0.06281178035144776"
      ]
     },
     "execution_count": 101,
     "metadata": {},
     "output_type": "execute_result"
    }
   ],
   "source": [
    "# вероятность выпадения монеты 70 раз из 144\n",
    "# По формуле бернулли\n",
    "\n",
    "coin = bern (144,70,0.5, combi(144,70))\n",
    "coin"
   ]
  },
  {
   "cell_type": "markdown",
   "metadata": {},
   "source": [
    "4."
   ]
  },
  {
   "cell_type": "code",
   "execution_count": 108,
   "metadata": {},
   "outputs": [
    {
     "data": {
      "text/plain": [
       "0.30545454545454537"
      ]
     },
     "execution_count": 108,
     "metadata": {},
     "output_type": "execute_result"
    }
   ],
   "source": [
    "# все белые шары\n",
    "# вероятность вытащить из первого ящика 2 белых шара\n",
    "c_1 = 7/10*6/9\n",
    "# вероятность вытащить из второго ящика 2 белых шара\n",
    "c_2 = 9/11*8/10\n",
    "# Общая вероятность вытащить все белые шары\n",
    "c_tot = c_1*c_2\n",
    "c_tot\n"
   ]
  },
  {
   "cell_type": "code",
   "execution_count": 122,
   "metadata": {},
   "outputs": [
    {
     "data": {
      "text/plain": [
       "9.6e-06"
      ]
     },
     "execution_count": 122,
     "metadata": {},
     "output_type": "execute_result"
    }
   ],
   "source": [
    "# ровно 2 белых шара\n",
    "# вероятность вытащить из первого ящика 2 белых шара\n",
    "c_1 = 7/10*6/9\n",
    "# вероятность вытащить из второго ящика 2 черных шара\n",
    "c_2 = 2/11*1/10\n",
    "c_t_1 = c_1*c_2\n",
    "c_t_1\n",
    "# вероятность вытащить из первого ящика 1 белый шар и один черный\n",
    "c_3 = 7/10*3/9\n",
    "# вероятность вытащить из второго ящика 1 белый шар и один черный\n",
    "c_4 = 9/11*2/10\n",
    "c_t_2 = c_3*c_4\n",
    "c_t_2\n",
    "# вероятность вытащить из первого ящика 2 черных шара\n",
    "c_5 = 3/10*2/9\n",
    "# вероятность вытащить из второго ящика 2 белых шара\n",
    "c_6 = 9/11*8/10\n",
    "c_t_3 = c_5*c_6\n",
    "c_t = c_t_1*c_t_2*c_t_3\n",
    "\n",
    "c_t_ = 0.04*0.03*0.008\n",
    "c_t_\n"
   ]
  },
  {
   "cell_type": "code",
   "execution_count": 125,
   "metadata": {},
   "outputs": [
    {
     "data": {
      "text/plain": [
       "0.9999537190082645"
      ]
     },
     "execution_count": 125,
     "metadata": {},
     "output_type": "execute_result"
    }
   ],
   "source": [
    "# хотя бы один белый\n",
    "# вероятность вытащить из первого ящика 2 черных шара\n",
    "c_1 = 3/10*2/9\n",
    "# вероятность вытащить из второго ящика 1 белый шар и один черный\n",
    "c_2 = 9/11*2/10\n",
    "c_t_1 = c_1*c_2\n",
    "c_t_1\n",
    "# вероятность вытащить из второго ящика 2 черных шара\n",
    "c_3 = 2/11*1/10\n",
    "# вероятность вытащить из первого ящика 1 белый шар и один черный\n",
    "c_4 = 7/10*3/9\n",
    "c_t_2 = c_3*c_4\n",
    "c_t_2\n",
    "c_t = 1-(c_t_2*c_t_1)\n",
    "c_t\n"
   ]
  }
 ],
 "metadata": {
  "kernelspec": {
   "display_name": "Python 3.9.13 ('venv': venv)",
   "language": "python",
   "name": "python3"
  },
  "language_info": {
   "codemirror_mode": {
    "name": "ipython",
    "version": 3
   },
   "file_extension": ".py",
   "mimetype": "text/x-python",
   "name": "python",
   "nbconvert_exporter": "python",
   "pygments_lexer": "ipython3",
   "version": "3.9.13"
  },
  "orig_nbformat": 4,
  "vscode": {
   "interpreter": {
    "hash": "617a553ad79216cfdc544a93bbe728cc3e48d24e2ccce165ef10e305764cfb76"
   }
  }
 },
 "nbformat": 4,
 "nbformat_minor": 2
}
