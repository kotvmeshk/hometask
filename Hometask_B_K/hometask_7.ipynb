{
 "cells": [
  {
   "cell_type": "markdown",
   "metadata": {},
   "source": [
    "1. "
   ]
  },
  {
   "cell_type": "code",
   "execution_count": null,
   "metadata": {},
   "outputs": [],
   "source": [
    "import statistics\n",
    "import math\n",
    "import numpy as np\n",
    "import matplotlib.pyplot as plt\n",
    "x= np.array([35,45,190,200,40,70,54,150,120,110])\n",
    "y = np.array([401,574,874,919,459,739,653,902,746,832])"
   ]
  },
  {
   "cell_type": "code",
   "execution_count": null,
   "metadata": {},
   "outputs": [
    {
     "data": {
      "image/png": "[encoded data removed]",
      "text/plain": [
       "<Figure size 432x288 with 1 Axes>"
      ]
     },
     "metadata": {
      "needs_background": "light"
     },
     "output_type": "display_data"
    }
   ],
   "source": [
    "plt.scatter(x,y)\n",
    "plt.show()"
   ]
  },
  {
   "cell_type": "code",
   "execution_count": null,
   "metadata": {},
   "outputs": [
    {
     "data": {
      "text/plain": [
       "2.620538882402765"
      ]
     },
     "execution_count": 91,
     "metadata": {},
     "output_type": "execute_result"
    }
   ],
   "source": [
    "n=10\n",
    "b = (np.mean(x*y)-np.mean(x)*np.mean(y))/(np.mean(x**2)-np.mean(x)**2)\n",
    "b"
   ]
  },
  {
   "cell_type": "code",
   "execution_count": null,
   "metadata": {},
   "outputs": [
    {
     "data": {
      "text/plain": [
       "444.1773573243596"
      ]
     },
     "execution_count": 92,
     "metadata": {},
     "output_type": "execute_result"
    }
   ],
   "source": [
    "a = np.mean(y) - b*np.mean (x)\n",
    "a"
   ]
  },
  {
   "cell_type": "code",
   "execution_count": null,
   "metadata": {},
   "outputs": [],
   "source": [
    "# уравнение принимает вид y = 444.18 + 2.62x\n"
   ]
  },
  {
   "cell_type": "code",
   "execution_count": null,
   "metadata": {},
   "outputs": [
    {
     "data": {
      "text/plain": [
       "array([535.88, 562.08, 941.98, 968.18, 548.98, 627.58, 585.66, 837.18,\n",
       "       758.58, 732.38])"
      ]
     },
     "execution_count": 94,
     "metadata": {},
     "output_type": "execute_result"
    }
   ],
   "source": [
    "y_hat= 444.18 +2.62*x\n",
    "y_hat"
   ]
  },
  {
   "cell_type": "code",
   "execution_count": null,
   "metadata": {},
   "outputs": [
    {
     "data": {
      "text/plain": [
       "<function matplotlib.pyplot.show(close=None, block=None)>"
      ]
     },
     "execution_count": 95,
     "metadata": {},
     "output_type": "execute_result"
    },
    {
     "data": {
      "image/png": "[encoded data removed]",
      "text/plain": [
       "<Figure size 432x288 with 1 Axes>"
      ]
     },
     "metadata": {
      "needs_background": "light"
     },
     "output_type": "display_data"
    }
   ],
   "source": [
    "%matplotlib inline\n",
    "plt.scatter(x,y)\n",
    "plt.plot(x,444.18+2.62*x)\n",
    "plt.show"
   ]
  },
  {
   "cell_type": "code",
   "execution_count": null,
   "metadata": {},
   "outputs": [
    {
     "data": {
      "text/plain": [
       "6470.417919999998"
      ]
     },
     "execution_count": 96,
     "metadata": {},
     "output_type": "execute_result"
    }
   ],
   "source": [
    "mse = ((y-y_hat)**2).sum()/n\n",
    "mse"
   ]
  },
  {
   "cell_type": "code",
   "execution_count": null,
   "metadata": {},
   "outputs": [
    {
     "data": {
      "text/plain": [
       "array([[ 35],\n",
       "       [ 45],\n",
       "       [190],\n",
       "       [200],\n",
       "       [ 40],\n",
       "       [ 70],\n",
       "       [ 54],\n",
       "       [150],\n",
       "       [120],\n",
       "       [110]])"
      ]
     },
     "execution_count": 97,
     "metadata": {},
     "output_type": "execute_result"
    }
   ],
   "source": [
    "# находим коэф. без интерсепта\n",
    "X = x.reshape((10,1))\n",
    "X"
   ]
  },
  {
   "cell_type": "code",
   "execution_count": null,
   "metadata": {},
   "outputs": [
    {
     "data": {
      "text/plain": [
       "array([[401],\n",
       "       [574],\n",
       "       [874],\n",
       "       [919],\n",
       "       [459],\n",
       "       [739],\n",
       "       [653],\n",
       "       [902],\n",
       "       [746],\n",
       "       [832]])"
      ]
     },
     "execution_count": 98,
     "metadata": {},
     "output_type": "execute_result"
    }
   ],
   "source": [
    "y = y.reshape((10,1))\n",
    "y"
   ]
  },
  {
   "cell_type": "code",
   "execution_count": null,
   "metadata": {},
   "outputs": [
    {
     "data": {
      "text/plain": [
       "array([[5.88982042]])"
      ]
     },
     "execution_count": 99,
     "metadata": {},
     "output_type": "execute_result"
    }
   ],
   "source": [
    "b = np.dot(np.linalg.inv(np.dot(X.T,X)),X.T@y)\n",
    "b"
   ]
  },
  {
   "cell_type": "code",
   "execution_count": null,
   "metadata": {},
   "outputs": [],
   "source": [
    "# без интерсепта функция принимает вид y = 5.89*x, такой же результат через градиентный спуск."
   ]
  },
  {
   "cell_type": "markdown",
   "metadata": {},
   "source": [
    "2."
   ]
  },
  {
   "cell_type": "code",
   "execution_count": null,
   "metadata": {},
   "outputs": [],
   "source": [
    "x= np.array([35,45,190,200,40,70,54,150,120,110])\n",
    "y = np.array([401,574,874,919,459,739,653,902,746,832])"
   ]
  },
  {
   "cell_type": "code",
   "execution_count": null,
   "metadata": {},
   "outputs": [],
   "source": [
    "alfa = 1e-6\n",
    "b_1 = 0.1\n",
    "n =10"
   ]
  },
  {
   "cell_type": "code",
   "execution_count": null,
   "metadata": {},
   "outputs": [],
   "source": [
    "def mse (b_1, y=y,x=x, n=10):\n",
    "    return np.sum((b_1*x-y)**2)/n"
   ]
  },
  {
   "cell_type": "code",
   "execution_count": null,
   "metadata": {},
   "outputs": [
    {
     "name": "stdout",
     "output_type": "stream",
     "text": [
      "b_1 =0.25952808\n",
      "b_1 =0.414660650906144\n",
      "b_1 =0.5655188230595969\n",
      "b_1 =0.7122203698240712\n",
      "b_1 =0.8548798195302346\n",
      "b_1 =0.9936085448867542\n",
      "b_1 =1.1285148499277806\n",
      "b_1 =1.2597040545647504\n",
      "b_1 =1.387278576808517\n",
      "b_1 =1.5113380127259965\n"
     ]
    }
   ],
   "source": [
    "for i in range (10):\n",
    "    b_1 -= alfa*(2/n)*np.sum((b_1*x-y)*x)\n",
    "    print ('b_1 ={}'.format(b_1))"
   ]
  },
  {
   "cell_type": "code",
   "execution_count": null,
   "metadata": {},
   "outputs": [
    {
     "name": "stdout",
     "output_type": "stream",
     "text": [
      "iteration:0,b_1 =1.6319792141937546, mse = 306275.7568040035\n",
      "iteration:500,b_1 =5.889816771625289, mse = 56516.8584159028\n",
      "iteration:1000,b_1 =5.8898204201295625, mse = 56516.85841571941\n",
      "iteration:1500,b_1 =5.889820420132673, mse = 56516.85841571943\n",
      "iteration:2000,b_1 =5.889820420132673, mse = 56516.85841571943\n",
      "iteration:2500,b_1 =5.889820420132673, mse = 56516.85841571943\n",
      "iteration:3000,b_1 =5.889820420132673, mse = 56516.85841571943\n",
      "iteration:3500,b_1 =5.889820420132673, mse = 56516.85841571943\n",
      "iteration:4000,b_1 =5.889820420132673, mse = 56516.85841571943\n",
      "iteration:4500,b_1 =5.889820420132673, mse = 56516.85841571943\n"
     ]
    }
   ],
   "source": [
    "for i in range (5000):\n",
    "    b_1 -= alfa*(2/n)*np.sum((b_1*x-y)*x)\n",
    "    if i%500 == 0:\n",
    "        print ('iteration:{i},b_1 ={b_1}, mse = {mse}'.format(i=i,b_1=b_1, mse=mse(b_1)))"
   ]
  },
  {
   "cell_type": "markdown",
   "metadata": {},
   "source": [
    "3."
   ]
  },
  {
   "cell_type": "code",
   "execution_count": 113,
   "metadata": {},
   "outputs": [],
   "source": [
    "# 2/n*x (a+bx-y) производная mse\n",
    "a=0"
   ]
  },
  {
   "cell_type": "code",
   "execution_count": 114,
   "metadata": {},
   "outputs": [],
   "source": [
    "def mse (b_1,a=a, y=y,x=x, n=10):\n",
    "    return np.sum((a+b_1*x-y)**2)/n"
   ]
  },
  {
   "cell_type": "code",
   "execution_count": 124,
   "metadata": {},
   "outputs": [
    {
     "name": "stdout",
     "output_type": "stream",
     "text": [
      "iteration:0, a = 444.17735732435614, b_1 =2.620538882402799,  mse = 6470.414201176658\n",
      "iteration:500, a = 444.17735732435614, b_1 =2.620538882402799,  mse = 6470.414201176658\n",
      "iteration:1000, a = 444.17735732435614, b_1 =2.620538882402799,  mse = 6470.414201176658\n",
      "iteration:1500, a = 444.17735732435614, b_1 =2.620538882402799,  mse = 6470.414201176658\n",
      "iteration:2000, a = 444.17735732435614, b_1 =2.620538882402799,  mse = 6470.414201176658\n",
      "iteration:2500, a = 444.17735732435614, b_1 =2.620538882402799,  mse = 6470.414201176658\n",
      "iteration:3000, a = 444.17735732435614, b_1 =2.620538882402799,  mse = 6470.414201176658\n",
      "iteration:3500, a = 444.17735732435614, b_1 =2.620538882402799,  mse = 6470.414201176658\n",
      "iteration:4000, a = 444.17735732435614, b_1 =2.620538882402799,  mse = 6470.414201176658\n",
      "iteration:4500, a = 444.17735732435614, b_1 =2.620538882402799,  mse = 6470.414201176658\n"
     ]
    }
   ],
   "source": [
    "for i in range (5000):\n",
    "\n",
    "    b_1 -= alfa*(2/n)*np.sum((a + b_1*x-y)*x)\n",
    "    a = np.sum(y)/n - b_1*np.sum(x)/n\n",
    "    if i%500 == 0:\n",
    "        print ('iteration:{i}, a = {a}, b_1 ={b_1},  mse = {mse}'.format(i=i,b_1=b_1, a = a, mse=mse(b_1,a)))"
   ]
  },
  {
   "cell_type": "markdown",
   "metadata": {},
   "source": [
    "4."
   ]
  }
 ],
 "metadata": {
  "kernelspec": {
   "display_name": "Python 3.9.13 ('venv': venv)",
   "language": "python",
   "name": "python3"
  },
  "language_info": {
   "codemirror_mode": {
    "name": "ipython",
    "version": 3
   },
   "file_extension": ".py",
   "mimetype": "text/x-python",
   "name": "python",
   "nbconvert_exporter": "python",
   "pygments_lexer": "ipython3",
   "version": "3.9.13"
  },
  "orig_nbformat": 4,
  "vscode": {
   "interpreter": {
    "hash": "617a553ad79216cfdc544a93bbe728cc3e48d24e2ccce165ef10e305764cfb76"
   }
  }
 },
 "nbformat": 4,
 "nbformat_minor": 2
}
