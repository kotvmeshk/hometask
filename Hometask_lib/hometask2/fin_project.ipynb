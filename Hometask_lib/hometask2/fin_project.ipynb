{
 "cells": [
  {
   "cell_type": "code",
   "execution_count": 1,
   "metadata": {},
   "outputs": [
    {
     "ename": "ModuleNotFoundError",
     "evalue": "No module named 'plotly'",
     "output_type": "error",
     "traceback": [
      "\u001b[1;31m---------------------------------------------------------------------------\u001b[0m",
      "\u001b[1;31mModuleNotFoundError\u001b[0m                       Traceback (most recent call last)",
      "\u001b[1;32mc:\\piprojekts\\hometask\\Hometask_lib\\hometask2\\fin_project.ipynb Ячейка 1\u001b[0m in \u001b[0;36m<module>\u001b[1;34m\u001b[0m\n\u001b[0;32m     <a href='vscode-notebook-cell:/c%3A/piprojekts/hometask/Hometask_lib/hometask2/fin_project.ipynb#ch0000000?line=10'>11</a>\u001b[0m \u001b[39mimport\u001b[39;00m \u001b[39mmatplotlib\u001b[39;00m\n\u001b[0;32m     <a href='vscode-notebook-cell:/c%3A/piprojekts/hometask/Hometask_lib/hometask2/fin_project.ipynb#ch0000000?line=11'>12</a>\u001b[0m \u001b[39mimport\u001b[39;00m \u001b[39mmatplotlib\u001b[39;00m\u001b[39m.\u001b[39;00m\u001b[39mpyplot\u001b[39;00m \u001b[39mas\u001b[39;00m \u001b[39mplt\u001b[39;00m \n\u001b[1;32m---> <a href='vscode-notebook-cell:/c%3A/piprojekts/hometask/Hometask_lib/hometask2/fin_project.ipynb#ch0000000?line=12'>13</a>\u001b[0m \u001b[39mimport\u001b[39;00m \u001b[39mplotly\u001b[39;00m\u001b[39m.\u001b[39;00m\u001b[39mexpress\u001b[39;00m \u001b[39mas\u001b[39;00m \u001b[39mpx\u001b[39;00m\n\u001b[0;32m     <a href='vscode-notebook-cell:/c%3A/piprojekts/hometask/Hometask_lib/hometask2/fin_project.ipynb#ch0000000?line=15'>16</a>\u001b[0m get_ipython()\u001b[39m.\u001b[39mrun_line_magic(\u001b[39m'\u001b[39m\u001b[39mmatplotlib\u001b[39m\u001b[39m'\u001b[39m, \u001b[39m'\u001b[39m\u001b[39minline\u001b[39m\u001b[39m'\u001b[39m)\n",
      "\u001b[1;31mModuleNotFoundError\u001b[0m: No module named 'plotly'"
     ]
    }
   ],
   "source": [
    "import numpy as np\n",
    "import pandas as pd\n",
    "import random\n",
    "\n",
    "from sklearn.model_selection import train_test_split, cross_val_score\n",
    "from sklearn.preprocessing import StandardScaler\n",
    "from sklearn.ensemble import RandomForestRegressor\n",
    "from sklearn.metrics import r2_score as r2_score\n",
    "from sklearn.model_selection import KFold, GridSearchCV\n",
    "\n",
    "import matplotlib\n",
    "import matplotlib.pyplot as plt \n",
    "\n",
    "\n",
    "\n",
    "%matplotlib inline\n"
   ]
  },
  {
   "cell_type": "code",
   "execution_count": null,
   "metadata": {},
   "outputs": [],
   "source": []
  },
  {
   "cell_type": "code",
   "execution_count": 9156,
   "metadata": {},
   "outputs": [],
   "source": [
    "TEST_origin = './test.csv'\n",
    "TRAIN_origin = './train.csv'"
   ]
  },
  {
   "cell_type": "code",
   "execution_count": 9157,
   "metadata": {},
   "outputs": [
    {
     "data": {
      "text/html": [
       "<div>\n",
       "<style scoped>\n",
       "    .dataframe tbody tr th:only-of-type {\n",
       "        vertical-align: middle;\n",
       "    }\n",
       "\n",
       "    .dataframe tbody tr th {\n",
       "        vertical-align: top;\n",
       "    }\n",
       "\n",
       "    .dataframe thead th {\n",
       "        text-align: right;\n",
       "    }\n",
       "</style>\n",
       "<table border=\"1\" class=\"dataframe\">\n",
       "  <thead>\n",
       "    <tr style=\"text-align: right;\">\n",
       "      <th></th>\n",
       "      <th>Id</th>\n",
       "      <th>DistrictId</th>\n",
       "      <th>Rooms</th>\n",
       "      <th>Square</th>\n",
       "      <th>LifeSquare</th>\n",
       "      <th>KitchenSquare</th>\n",
       "      <th>Floor</th>\n",
       "      <th>HouseFloor</th>\n",
       "      <th>HouseYear</th>\n",
       "      <th>Ecology_1</th>\n",
       "      <th>Ecology_2</th>\n",
       "      <th>Ecology_3</th>\n",
       "      <th>Social_1</th>\n",
       "      <th>Social_2</th>\n",
       "      <th>Social_3</th>\n",
       "      <th>Healthcare_1</th>\n",
       "      <th>Helthcare_2</th>\n",
       "      <th>Shops_1</th>\n",
       "      <th>Shops_2</th>\n",
       "      <th>Price</th>\n",
       "    </tr>\n",
       "  </thead>\n",
       "  <tbody>\n",
       "    <tr>\n",
       "      <th>9997</th>\n",
       "      <td>2795</td>\n",
       "      <td>178</td>\n",
       "      <td>1.0</td>\n",
       "      <td>29.648057</td>\n",
       "      <td>16.555363</td>\n",
       "      <td>5.0</td>\n",
       "      <td>3</td>\n",
       "      <td>5.0</td>\n",
       "      <td>1958</td>\n",
       "      <td>0.460556</td>\n",
       "      <td>B</td>\n",
       "      <td>B</td>\n",
       "      <td>20</td>\n",
       "      <td>4386</td>\n",
       "      <td>14</td>\n",
       "      <td>NaN</td>\n",
       "      <td>1</td>\n",
       "      <td>5</td>\n",
       "      <td>B</td>\n",
       "      <td>165953.912580</td>\n",
       "    </tr>\n",
       "    <tr>\n",
       "      <th>9998</th>\n",
       "      <td>14561</td>\n",
       "      <td>21</td>\n",
       "      <td>1.0</td>\n",
       "      <td>32.330292</td>\n",
       "      <td>22.326870</td>\n",
       "      <td>5.0</td>\n",
       "      <td>3</td>\n",
       "      <td>9.0</td>\n",
       "      <td>1969</td>\n",
       "      <td>0.194489</td>\n",
       "      <td>B</td>\n",
       "      <td>B</td>\n",
       "      <td>47</td>\n",
       "      <td>8004</td>\n",
       "      <td>3</td>\n",
       "      <td>125.0</td>\n",
       "      <td>3</td>\n",
       "      <td>5</td>\n",
       "      <td>B</td>\n",
       "      <td>171842.411855</td>\n",
       "    </tr>\n",
       "    <tr>\n",
       "      <th>9999</th>\n",
       "      <td>7202</td>\n",
       "      <td>94</td>\n",
       "      <td>1.0</td>\n",
       "      <td>35.815476</td>\n",
       "      <td>22.301367</td>\n",
       "      <td>6.0</td>\n",
       "      <td>9</td>\n",
       "      <td>9.0</td>\n",
       "      <td>1975</td>\n",
       "      <td>0.127376</td>\n",
       "      <td>B</td>\n",
       "      <td>B</td>\n",
       "      <td>43</td>\n",
       "      <td>8429</td>\n",
       "      <td>3</td>\n",
       "      <td>NaN</td>\n",
       "      <td>3</td>\n",
       "      <td>9</td>\n",
       "      <td>B</td>\n",
       "      <td>177685.627486</td>\n",
       "    </tr>\n",
       "  </tbody>\n",
       "</table>\n",
       "</div>"
      ],
      "text/plain": [
       "         Id  DistrictId  Rooms     Square  LifeSquare  KitchenSquare  Floor  \\\n",
       "9997   2795         178    1.0  29.648057   16.555363            5.0      3   \n",
       "9998  14561          21    1.0  32.330292   22.326870            5.0      3   \n",
       "9999   7202          94    1.0  35.815476   22.301367            6.0      9   \n",
       "\n",
       "      HouseFloor  HouseYear  Ecology_1 Ecology_2 Ecology_3  Social_1  \\\n",
       "9997         5.0       1958   0.460556         B         B        20   \n",
       "9998         9.0       1969   0.194489         B         B        47   \n",
       "9999         9.0       1975   0.127376         B         B        43   \n",
       "\n",
       "      Social_2  Social_3  Healthcare_1  Helthcare_2  Shops_1 Shops_2  \\\n",
       "9997      4386        14           NaN            1        5       B   \n",
       "9998      8004         3         125.0            3        5       B   \n",
       "9999      8429         3           NaN            3        9       B   \n",
       "\n",
       "              Price  \n",
       "9997  165953.912580  \n",
       "9998  171842.411855  \n",
       "9999  177685.627486  "
      ]
     },
     "execution_count": 9157,
     "metadata": {},
     "output_type": "execute_result"
    }
   ],
   "source": [
    "train_df = pd.read_csv(TRAIN_origin)\n",
    "test_df = pd.read_csv(TEST_origin) \n",
    "train_df.tail(3)\n"
   ]
  },
  {
   "cell_type": "code",
   "execution_count": 9158,
   "metadata": {},
   "outputs": [
    {
     "data": {
      "text/html": [
       "<div>\n",
       "<style scoped>\n",
       "    .dataframe tbody tr th:only-of-type {\n",
       "        vertical-align: middle;\n",
       "    }\n",
       "\n",
       "    .dataframe tbody tr th {\n",
       "        vertical-align: top;\n",
       "    }\n",
       "\n",
       "    .dataframe thead th {\n",
       "        text-align: right;\n",
       "    }\n",
       "</style>\n",
       "<table border=\"1\" class=\"dataframe\">\n",
       "  <thead>\n",
       "    <tr style=\"text-align: right;\">\n",
       "      <th></th>\n",
       "      <th>Id</th>\n",
       "      <th>DistrictId</th>\n",
       "      <th>Rooms</th>\n",
       "      <th>Square</th>\n",
       "      <th>LifeSquare</th>\n",
       "      <th>KitchenSquare</th>\n",
       "      <th>Floor</th>\n",
       "      <th>HouseFloor</th>\n",
       "      <th>HouseYear</th>\n",
       "      <th>Ecology_1</th>\n",
       "      <th>Ecology_2</th>\n",
       "      <th>Ecology_3</th>\n",
       "      <th>Social_1</th>\n",
       "      <th>Social_2</th>\n",
       "      <th>Social_3</th>\n",
       "      <th>Healthcare_1</th>\n",
       "      <th>Helthcare_2</th>\n",
       "      <th>Shops_1</th>\n",
       "      <th>Shops_2</th>\n",
       "    </tr>\n",
       "  </thead>\n",
       "  <tbody>\n",
       "    <tr>\n",
       "      <th>4995</th>\n",
       "      <td>10379</td>\n",
       "      <td>29</td>\n",
       "      <td>2.0</td>\n",
       "      <td>43.177521</td>\n",
       "      <td>30.339945</td>\n",
       "      <td>5.0</td>\n",
       "      <td>6</td>\n",
       "      <td>5.0</td>\n",
       "      <td>1962</td>\n",
       "      <td>0.069660</td>\n",
       "      <td>B</td>\n",
       "      <td>B</td>\n",
       "      <td>31</td>\n",
       "      <td>6119</td>\n",
       "      <td>4</td>\n",
       "      <td>NaN</td>\n",
       "      <td>1</td>\n",
       "      <td>2</td>\n",
       "      <td>B</td>\n",
       "    </tr>\n",
       "    <tr>\n",
       "      <th>4996</th>\n",
       "      <td>16138</td>\n",
       "      <td>38</td>\n",
       "      <td>3.0</td>\n",
       "      <td>93.698122</td>\n",
       "      <td>94.521465</td>\n",
       "      <td>10.0</td>\n",
       "      <td>21</td>\n",
       "      <td>27.0</td>\n",
       "      <td>2018</td>\n",
       "      <td>0.060753</td>\n",
       "      <td>B</td>\n",
       "      <td>B</td>\n",
       "      <td>15</td>\n",
       "      <td>2787</td>\n",
       "      <td>2</td>\n",
       "      <td>520.0</td>\n",
       "      <td>0</td>\n",
       "      <td>7</td>\n",
       "      <td>B</td>\n",
       "    </tr>\n",
       "    <tr>\n",
       "      <th>4997</th>\n",
       "      <td>3912</td>\n",
       "      <td>101</td>\n",
       "      <td>1.0</td>\n",
       "      <td>33.656723</td>\n",
       "      <td>19.003259</td>\n",
       "      <td>5.0</td>\n",
       "      <td>2</td>\n",
       "      <td>5.0</td>\n",
       "      <td>1966</td>\n",
       "      <td>0.038693</td>\n",
       "      <td>B</td>\n",
       "      <td>B</td>\n",
       "      <td>28</td>\n",
       "      <td>6533</td>\n",
       "      <td>1</td>\n",
       "      <td>1015.0</td>\n",
       "      <td>2</td>\n",
       "      <td>5</td>\n",
       "      <td>B</td>\n",
       "    </tr>\n",
       "    <tr>\n",
       "      <th>4998</th>\n",
       "      <td>5722</td>\n",
       "      <td>10</td>\n",
       "      <td>1.0</td>\n",
       "      <td>38.635155</td>\n",
       "      <td>20.976257</td>\n",
       "      <td>9.0</td>\n",
       "      <td>8</td>\n",
       "      <td>14.0</td>\n",
       "      <td>1970</td>\n",
       "      <td>0.089040</td>\n",
       "      <td>B</td>\n",
       "      <td>B</td>\n",
       "      <td>33</td>\n",
       "      <td>7976</td>\n",
       "      <td>5</td>\n",
       "      <td>NaN</td>\n",
       "      <td>0</td>\n",
       "      <td>11</td>\n",
       "      <td>B</td>\n",
       "    </tr>\n",
       "    <tr>\n",
       "      <th>4999</th>\n",
       "      <td>11004</td>\n",
       "      <td>21</td>\n",
       "      <td>2.0</td>\n",
       "      <td>67.122742</td>\n",
       "      <td>33.944344</td>\n",
       "      <td>13.0</td>\n",
       "      <td>9</td>\n",
       "      <td>17.0</td>\n",
       "      <td>2009</td>\n",
       "      <td>0.194489</td>\n",
       "      <td>B</td>\n",
       "      <td>B</td>\n",
       "      <td>47</td>\n",
       "      <td>8004</td>\n",
       "      <td>3</td>\n",
       "      <td>125.0</td>\n",
       "      <td>3</td>\n",
       "      <td>5</td>\n",
       "      <td>B</td>\n",
       "    </tr>\n",
       "  </tbody>\n",
       "</table>\n",
       "</div>"
      ],
      "text/plain": [
       "         Id  DistrictId  Rooms     Square  LifeSquare  KitchenSquare  Floor  \\\n",
       "4995  10379          29    2.0  43.177521   30.339945            5.0      6   \n",
       "4996  16138          38    3.0  93.698122   94.521465           10.0     21   \n",
       "4997   3912         101    1.0  33.656723   19.003259            5.0      2   \n",
       "4998   5722          10    1.0  38.635155   20.976257            9.0      8   \n",
       "4999  11004          21    2.0  67.122742   33.944344           13.0      9   \n",
       "\n",
       "      HouseFloor  HouseYear  Ecology_1 Ecology_2 Ecology_3  Social_1  \\\n",
       "4995         5.0       1962   0.069660         B         B        31   \n",
       "4996        27.0       2018   0.060753         B         B        15   \n",
       "4997         5.0       1966   0.038693         B         B        28   \n",
       "4998        14.0       1970   0.089040         B         B        33   \n",
       "4999        17.0       2009   0.194489         B         B        47   \n",
       "\n",
       "      Social_2  Social_3  Healthcare_1  Helthcare_2  Shops_1 Shops_2  \n",
       "4995      6119         4           NaN            1        2       B  \n",
       "4996      2787         2         520.0            0        7       B  \n",
       "4997      6533         1        1015.0            2        5       B  \n",
       "4998      7976         5           NaN            0       11       B  \n",
       "4999      8004         3         125.0            3        5       B  "
      ]
     },
     "execution_count": 9158,
     "metadata": {},
     "output_type": "execute_result"
    }
   ],
   "source": [
    "test_df.tail()"
   ]
  },
  {
   "cell_type": "code",
   "execution_count": 9159,
   "metadata": {},
   "outputs": [
    {
     "name": "stdout",
     "output_type": "stream",
     "text": [
      "<class 'pandas.core.frame.DataFrame'>\n",
      "RangeIndex: 10000 entries, 0 to 9999\n",
      "Data columns (total 20 columns):\n",
      " #   Column         Non-Null Count  Dtype  \n",
      "---  ------         --------------  -----  \n",
      " 0   Id             10000 non-null  int64  \n",
      " 1   DistrictId     10000 non-null  int64  \n",
      " 2   Rooms          10000 non-null  float64\n",
      " 3   Square         10000 non-null  float64\n",
      " 4   LifeSquare     7887 non-null   float64\n",
      " 5   KitchenSquare  10000 non-null  float64\n",
      " 6   Floor          10000 non-null  int64  \n",
      " 7   HouseFloor     10000 non-null  float64\n",
      " 8   HouseYear      10000 non-null  int64  \n",
      " 9   Ecology_1      10000 non-null  float64\n",
      " 10  Ecology_2      10000 non-null  object \n",
      " 11  Ecology_3      10000 non-null  object \n",
      " 12  Social_1       10000 non-null  int64  \n",
      " 13  Social_2       10000 non-null  int64  \n",
      " 14  Social_3       10000 non-null  int64  \n",
      " 15  Healthcare_1   5202 non-null   float64\n",
      " 16  Helthcare_2    10000 non-null  int64  \n",
      " 17  Shops_1        10000 non-null  int64  \n",
      " 18  Shops_2        10000 non-null  object \n",
      " 19  Price          10000 non-null  float64\n",
      "dtypes: float64(8), int64(9), object(3)\n",
      "memory usage: 1.5+ MB\n"
     ]
    }
   ],
   "source": [
    "train_df.info()\n"
   ]
  },
  {
   "cell_type": "code",
   "execution_count": 9160,
   "metadata": {},
   "outputs": [
    {
     "data": {
      "text/html": [
       "<div>\n",
       "<style scoped>\n",
       "    .dataframe tbody tr th:only-of-type {\n",
       "        vertical-align: middle;\n",
       "    }\n",
       "\n",
       "    .dataframe tbody tr th {\n",
       "        vertical-align: top;\n",
       "    }\n",
       "\n",
       "    .dataframe thead th {\n",
       "        text-align: right;\n",
       "    }\n",
       "</style>\n",
       "<table border=\"1\" class=\"dataframe\">\n",
       "  <thead>\n",
       "    <tr style=\"text-align: right;\">\n",
       "      <th></th>\n",
       "      <th>Id</th>\n",
       "      <th>DistrictId</th>\n",
       "      <th>Rooms</th>\n",
       "      <th>Square</th>\n",
       "      <th>LifeSquare</th>\n",
       "      <th>KitchenSquare</th>\n",
       "      <th>Floor</th>\n",
       "      <th>HouseFloor</th>\n",
       "      <th>HouseYear</th>\n",
       "      <th>Ecology_1</th>\n",
       "      <th>Social_1</th>\n",
       "      <th>Social_2</th>\n",
       "      <th>Social_3</th>\n",
       "      <th>Healthcare_1</th>\n",
       "      <th>Helthcare_2</th>\n",
       "      <th>Shops_1</th>\n",
       "      <th>Price</th>\n",
       "    </tr>\n",
       "  </thead>\n",
       "  <tbody>\n",
       "    <tr>\n",
       "      <th>Id</th>\n",
       "      <td>1.00</td>\n",
       "      <td>0.01</td>\n",
       "      <td>-0.01</td>\n",
       "      <td>-0.01</td>\n",
       "      <td>0.02</td>\n",
       "      <td>0.02</td>\n",
       "      <td>0.00</td>\n",
       "      <td>-0.01</td>\n",
       "      <td>0.01</td>\n",
       "      <td>0.02</td>\n",
       "      <td>-0.00</td>\n",
       "      <td>-0.00</td>\n",
       "      <td>-0.01</td>\n",
       "      <td>-0.00</td>\n",
       "      <td>0.00</td>\n",
       "      <td>-0.01</td>\n",
       "      <td>0.01</td>\n",
       "    </tr>\n",
       "    <tr>\n",
       "      <th>DistrictId</th>\n",
       "      <td>0.01</td>\n",
       "      <td>1.00</td>\n",
       "      <td>0.07</td>\n",
       "      <td>-0.03</td>\n",
       "      <td>-0.02</td>\n",
       "      <td>0.04</td>\n",
       "      <td>-0.12</td>\n",
       "      <td>-0.15</td>\n",
       "      <td>0.01</td>\n",
       "      <td>0.07</td>\n",
       "      <td>0.25</td>\n",
       "      <td>0.17</td>\n",
       "      <td>0.14</td>\n",
       "      <td>0.30</td>\n",
       "      <td>0.31</td>\n",
       "      <td>0.17</td>\n",
       "      <td>0.27</td>\n",
       "    </tr>\n",
       "    <tr>\n",
       "      <th>Rooms</th>\n",
       "      <td>-0.01</td>\n",
       "      <td>0.07</td>\n",
       "      <td>1.00</td>\n",
       "      <td>0.66</td>\n",
       "      <td>0.13</td>\n",
       "      <td>0.01</td>\n",
       "      <td>-0.00</td>\n",
       "      <td>-0.03</td>\n",
       "      <td>-0.01</td>\n",
       "      <td>-0.03</td>\n",
       "      <td>0.08</td>\n",
       "      <td>0.07</td>\n",
       "      <td>0.01</td>\n",
       "      <td>0.04</td>\n",
       "      <td>0.06</td>\n",
       "      <td>0.05</td>\n",
       "      <td>0.55</td>\n",
       "    </tr>\n",
       "    <tr>\n",
       "      <th>Square</th>\n",
       "      <td>-0.01</td>\n",
       "      <td>-0.03</td>\n",
       "      <td>0.66</td>\n",
       "      <td>1.00</td>\n",
       "      <td>0.20</td>\n",
       "      <td>0.01</td>\n",
       "      <td>0.11</td>\n",
       "      <td>0.08</td>\n",
       "      <td>-0.01</td>\n",
       "      <td>-0.06</td>\n",
       "      <td>-0.07</td>\n",
       "      <td>-0.04</td>\n",
       "      <td>0.04</td>\n",
       "      <td>-0.04</td>\n",
       "      <td>-0.02</td>\n",
       "      <td>0.02</td>\n",
       "      <td>0.52</td>\n",
       "    </tr>\n",
       "    <tr>\n",
       "      <th>LifeSquare</th>\n",
       "      <td>0.02</td>\n",
       "      <td>-0.02</td>\n",
       "      <td>0.13</td>\n",
       "      <td>0.20</td>\n",
       "      <td>1.00</td>\n",
       "      <td>-0.00</td>\n",
       "      <td>0.02</td>\n",
       "      <td>0.03</td>\n",
       "      <td>-0.00</td>\n",
       "      <td>-0.02</td>\n",
       "      <td>-0.05</td>\n",
       "      <td>-0.04</td>\n",
       "      <td>0.01</td>\n",
       "      <td>-0.03</td>\n",
       "      <td>-0.02</td>\n",
       "      <td>-0.01</td>\n",
       "      <td>0.08</td>\n",
       "    </tr>\n",
       "    <tr>\n",
       "      <th>KitchenSquare</th>\n",
       "      <td>0.02</td>\n",
       "      <td>0.04</td>\n",
       "      <td>0.01</td>\n",
       "      <td>0.01</td>\n",
       "      <td>-0.00</td>\n",
       "      <td>1.00</td>\n",
       "      <td>-0.01</td>\n",
       "      <td>0.00</td>\n",
       "      <td>0.00</td>\n",
       "      <td>-0.01</td>\n",
       "      <td>0.04</td>\n",
       "      <td>0.04</td>\n",
       "      <td>-0.02</td>\n",
       "      <td>0.01</td>\n",
       "      <td>0.04</td>\n",
       "      <td>0.01</td>\n",
       "      <td>0.03</td>\n",
       "    </tr>\n",
       "    <tr>\n",
       "      <th>Floor</th>\n",
       "      <td>0.00</td>\n",
       "      <td>-0.12</td>\n",
       "      <td>-0.00</td>\n",
       "      <td>0.11</td>\n",
       "      <td>0.02</td>\n",
       "      <td>-0.01</td>\n",
       "      <td>1.00</td>\n",
       "      <td>0.42</td>\n",
       "      <td>0.00</td>\n",
       "      <td>-0.02</td>\n",
       "      <td>-0.04</td>\n",
       "      <td>-0.02</td>\n",
       "      <td>-0.00</td>\n",
       "      <td>-0.14</td>\n",
       "      <td>-0.07</td>\n",
       "      <td>0.02</td>\n",
       "      <td>0.13</td>\n",
       "    </tr>\n",
       "    <tr>\n",
       "      <th>HouseFloor</th>\n",
       "      <td>-0.01</td>\n",
       "      <td>-0.15</td>\n",
       "      <td>-0.03</td>\n",
       "      <td>0.08</td>\n",
       "      <td>0.03</td>\n",
       "      <td>0.00</td>\n",
       "      <td>0.42</td>\n",
       "      <td>1.00</td>\n",
       "      <td>-0.00</td>\n",
       "      <td>-0.00</td>\n",
       "      <td>-0.02</td>\n",
       "      <td>0.01</td>\n",
       "      <td>-0.01</td>\n",
       "      <td>-0.14</td>\n",
       "      <td>-0.07</td>\n",
       "      <td>0.03</td>\n",
       "      <td>0.09</td>\n",
       "    </tr>\n",
       "    <tr>\n",
       "      <th>HouseYear</th>\n",
       "      <td>0.01</td>\n",
       "      <td>0.01</td>\n",
       "      <td>-0.01</td>\n",
       "      <td>-0.01</td>\n",
       "      <td>-0.00</td>\n",
       "      <td>0.00</td>\n",
       "      <td>0.00</td>\n",
       "      <td>-0.00</td>\n",
       "      <td>1.00</td>\n",
       "      <td>0.00</td>\n",
       "      <td>0.00</td>\n",
       "      <td>0.00</td>\n",
       "      <td>0.00</td>\n",
       "      <td>-0.01</td>\n",
       "      <td>0.01</td>\n",
       "      <td>0.00</td>\n",
       "      <td>0.00</td>\n",
       "    </tr>\n",
       "    <tr>\n",
       "      <th>Ecology_1</th>\n",
       "      <td>0.02</td>\n",
       "      <td>0.07</td>\n",
       "      <td>-0.03</td>\n",
       "      <td>-0.06</td>\n",
       "      <td>-0.02</td>\n",
       "      <td>-0.01</td>\n",
       "      <td>-0.02</td>\n",
       "      <td>-0.00</td>\n",
       "      <td>0.00</td>\n",
       "      <td>1.00</td>\n",
       "      <td>0.03</td>\n",
       "      <td>0.01</td>\n",
       "      <td>-0.12</td>\n",
       "      <td>-0.04</td>\n",
       "      <td>0.03</td>\n",
       "      <td>-0.08</td>\n",
       "      <td>-0.06</td>\n",
       "    </tr>\n",
       "    <tr>\n",
       "      <th>Social_1</th>\n",
       "      <td>-0.00</td>\n",
       "      <td>0.25</td>\n",
       "      <td>0.08</td>\n",
       "      <td>-0.07</td>\n",
       "      <td>-0.05</td>\n",
       "      <td>0.04</td>\n",
       "      <td>-0.04</td>\n",
       "      <td>-0.02</td>\n",
       "      <td>0.00</td>\n",
       "      <td>0.03</td>\n",
       "      <td>1.00</td>\n",
       "      <td>0.96</td>\n",
       "      <td>0.02</td>\n",
       "      <td>0.08</td>\n",
       "      <td>0.52</td>\n",
       "      <td>0.53</td>\n",
       "      <td>0.26</td>\n",
       "    </tr>\n",
       "    <tr>\n",
       "      <th>Social_2</th>\n",
       "      <td>-0.00</td>\n",
       "      <td>0.17</td>\n",
       "      <td>0.07</td>\n",
       "      <td>-0.04</td>\n",
       "      <td>-0.04</td>\n",
       "      <td>0.04</td>\n",
       "      <td>-0.02</td>\n",
       "      <td>0.01</td>\n",
       "      <td>0.00</td>\n",
       "      <td>0.01</td>\n",
       "      <td>0.96</td>\n",
       "      <td>1.00</td>\n",
       "      <td>0.07</td>\n",
       "      <td>0.05</td>\n",
       "      <td>0.47</td>\n",
       "      <td>0.56</td>\n",
       "      <td>0.24</td>\n",
       "    </tr>\n",
       "    <tr>\n",
       "      <th>Social_3</th>\n",
       "      <td>-0.01</td>\n",
       "      <td>0.14</td>\n",
       "      <td>0.01</td>\n",
       "      <td>0.04</td>\n",
       "      <td>0.01</td>\n",
       "      <td>-0.02</td>\n",
       "      <td>-0.00</td>\n",
       "      <td>-0.01</td>\n",
       "      <td>0.00</td>\n",
       "      <td>-0.12</td>\n",
       "      <td>0.02</td>\n",
       "      <td>0.07</td>\n",
       "      <td>1.00</td>\n",
       "      <td>0.13</td>\n",
       "      <td>0.29</td>\n",
       "      <td>0.66</td>\n",
       "      <td>0.07</td>\n",
       "    </tr>\n",
       "    <tr>\n",
       "      <th>Healthcare_1</th>\n",
       "      <td>-0.00</td>\n",
       "      <td>0.30</td>\n",
       "      <td>0.04</td>\n",
       "      <td>-0.04</td>\n",
       "      <td>-0.03</td>\n",
       "      <td>0.01</td>\n",
       "      <td>-0.14</td>\n",
       "      <td>-0.14</td>\n",
       "      <td>-0.01</td>\n",
       "      <td>-0.04</td>\n",
       "      <td>0.08</td>\n",
       "      <td>0.05</td>\n",
       "      <td>0.13</td>\n",
       "      <td>1.00</td>\n",
       "      <td>0.20</td>\n",
       "      <td>0.06</td>\n",
       "      <td>0.14</td>\n",
       "    </tr>\n",
       "    <tr>\n",
       "      <th>Helthcare_2</th>\n",
       "      <td>0.00</td>\n",
       "      <td>0.31</td>\n",
       "      <td>0.06</td>\n",
       "      <td>-0.02</td>\n",
       "      <td>-0.02</td>\n",
       "      <td>0.04</td>\n",
       "      <td>-0.07</td>\n",
       "      <td>-0.07</td>\n",
       "      <td>0.01</td>\n",
       "      <td>0.03</td>\n",
       "      <td>0.52</td>\n",
       "      <td>0.47</td>\n",
       "      <td>0.29</td>\n",
       "      <td>0.20</td>\n",
       "      <td>1.00</td>\n",
       "      <td>0.47</td>\n",
       "      <td>0.25</td>\n",
       "    </tr>\n",
       "    <tr>\n",
       "      <th>Shops_1</th>\n",
       "      <td>-0.01</td>\n",
       "      <td>0.17</td>\n",
       "      <td>0.05</td>\n",
       "      <td>0.02</td>\n",
       "      <td>-0.01</td>\n",
       "      <td>0.01</td>\n",
       "      <td>0.02</td>\n",
       "      <td>0.03</td>\n",
       "      <td>0.00</td>\n",
       "      <td>-0.08</td>\n",
       "      <td>0.53</td>\n",
       "      <td>0.56</td>\n",
       "      <td>0.66</td>\n",
       "      <td>0.06</td>\n",
       "      <td>0.47</td>\n",
       "      <td>1.00</td>\n",
       "      <td>0.18</td>\n",
       "    </tr>\n",
       "    <tr>\n",
       "      <th>Price</th>\n",
       "      <td>0.01</td>\n",
       "      <td>0.27</td>\n",
       "      <td>0.55</td>\n",
       "      <td>0.52</td>\n",
       "      <td>0.08</td>\n",
       "      <td>0.03</td>\n",
       "      <td>0.13</td>\n",
       "      <td>0.09</td>\n",
       "      <td>0.00</td>\n",
       "      <td>-0.06</td>\n",
       "      <td>0.26</td>\n",
       "      <td>0.24</td>\n",
       "      <td>0.07</td>\n",
       "      <td>0.14</td>\n",
       "      <td>0.25</td>\n",
       "      <td>0.18</td>\n",
       "      <td>1.00</td>\n",
       "    </tr>\n",
       "  </tbody>\n",
       "</table>\n",
       "</div>"
      ],
      "text/plain": [
       "                 Id  DistrictId  Rooms  Square  LifeSquare  KitchenSquare  \\\n",
       "Id             1.00        0.01  -0.01   -0.01        0.02           0.02   \n",
       "DistrictId     0.01        1.00   0.07   -0.03       -0.02           0.04   \n",
       "Rooms         -0.01        0.07   1.00    0.66        0.13           0.01   \n",
       "Square        -0.01       -0.03   0.66    1.00        0.20           0.01   \n",
       "LifeSquare     0.02       -0.02   0.13    0.20        1.00          -0.00   \n",
       "KitchenSquare  0.02        0.04   0.01    0.01       -0.00           1.00   \n",
       "Floor          0.00       -0.12  -0.00    0.11        0.02          -0.01   \n",
       "HouseFloor    -0.01       -0.15  -0.03    0.08        0.03           0.00   \n",
       "HouseYear      0.01        0.01  -0.01   -0.01       -0.00           0.00   \n",
       "Ecology_1      0.02        0.07  -0.03   -0.06       -0.02          -0.01   \n",
       "Social_1      -0.00        0.25   0.08   -0.07       -0.05           0.04   \n",
       "Social_2      -0.00        0.17   0.07   -0.04       -0.04           0.04   \n",
       "Social_3      -0.01        0.14   0.01    0.04        0.01          -0.02   \n",
       "Healthcare_1  -0.00        0.30   0.04   -0.04       -0.03           0.01   \n",
       "Helthcare_2    0.00        0.31   0.06   -0.02       -0.02           0.04   \n",
       "Shops_1       -0.01        0.17   0.05    0.02       -0.01           0.01   \n",
       "Price          0.01        0.27   0.55    0.52        0.08           0.03   \n",
       "\n",
       "               Floor  HouseFloor  HouseYear  Ecology_1  Social_1  Social_2  \\\n",
       "Id              0.00       -0.01       0.01       0.02     -0.00     -0.00   \n",
       "DistrictId     -0.12       -0.15       0.01       0.07      0.25      0.17   \n",
       "Rooms          -0.00       -0.03      -0.01      -0.03      0.08      0.07   \n",
       "Square          0.11        0.08      -0.01      -0.06     -0.07     -0.04   \n",
       "LifeSquare      0.02        0.03      -0.00      -0.02     -0.05     -0.04   \n",
       "KitchenSquare  -0.01        0.00       0.00      -0.01      0.04      0.04   \n",
       "Floor           1.00        0.42       0.00      -0.02     -0.04     -0.02   \n",
       "HouseFloor      0.42        1.00      -0.00      -0.00     -0.02      0.01   \n",
       "HouseYear       0.00       -0.00       1.00       0.00      0.00      0.00   \n",
       "Ecology_1      -0.02       -0.00       0.00       1.00      0.03      0.01   \n",
       "Social_1       -0.04       -0.02       0.00       0.03      1.00      0.96   \n",
       "Social_2       -0.02        0.01       0.00       0.01      0.96      1.00   \n",
       "Social_3       -0.00       -0.01       0.00      -0.12      0.02      0.07   \n",
       "Healthcare_1   -0.14       -0.14      -0.01      -0.04      0.08      0.05   \n",
       "Helthcare_2    -0.07       -0.07       0.01       0.03      0.52      0.47   \n",
       "Shops_1         0.02        0.03       0.00      -0.08      0.53      0.56   \n",
       "Price           0.13        0.09       0.00      -0.06      0.26      0.24   \n",
       "\n",
       "               Social_3  Healthcare_1  Helthcare_2  Shops_1  Price  \n",
       "Id                -0.01         -0.00         0.00    -0.01   0.01  \n",
       "DistrictId         0.14          0.30         0.31     0.17   0.27  \n",
       "Rooms              0.01          0.04         0.06     0.05   0.55  \n",
       "Square             0.04         -0.04        -0.02     0.02   0.52  \n",
       "LifeSquare         0.01         -0.03        -0.02    -0.01   0.08  \n",
       "KitchenSquare     -0.02          0.01         0.04     0.01   0.03  \n",
       "Floor             -0.00         -0.14        -0.07     0.02   0.13  \n",
       "HouseFloor        -0.01         -0.14        -0.07     0.03   0.09  \n",
       "HouseYear          0.00         -0.01         0.01     0.00   0.00  \n",
       "Ecology_1         -0.12         -0.04         0.03    -0.08  -0.06  \n",
       "Social_1           0.02          0.08         0.52     0.53   0.26  \n",
       "Social_2           0.07          0.05         0.47     0.56   0.24  \n",
       "Social_3           1.00          0.13         0.29     0.66   0.07  \n",
       "Healthcare_1       0.13          1.00         0.20     0.06   0.14  \n",
       "Helthcare_2        0.29          0.20         1.00     0.47   0.25  \n",
       "Shops_1            0.66          0.06         0.47     1.00   0.18  \n",
       "Price              0.07          0.14         0.25     0.18   1.00  "
      ]
     },
     "execution_count": 9160,
     "metadata": {},
     "output_type": "execute_result"
    }
   ],
   "source": [
    "corr_matrix = train_df.corr().round(2)\n",
    "corr_matrix"
   ]
  },
  {
   "cell_type": "code",
   "execution_count": 9161,
   "metadata": {},
   "outputs": [
    {
     "name": "stdout",
     "output_type": "stream",
     "text": [
      "<class 'pandas.core.frame.DataFrame'>\n",
      "RangeIndex: 5000 entries, 0 to 4999\n",
      "Data columns (total 19 columns):\n",
      " #   Column         Non-Null Count  Dtype  \n",
      "---  ------         --------------  -----  \n",
      " 0   Id             5000 non-null   int64  \n",
      " 1   DistrictId     5000 non-null   int64  \n",
      " 2   Rooms          5000 non-null   float64\n",
      " 3   Square         5000 non-null   float64\n",
      " 4   LifeSquare     3959 non-null   float64\n",
      " 5   KitchenSquare  5000 non-null   float64\n",
      " 6   Floor          5000 non-null   int64  \n",
      " 7   HouseFloor     5000 non-null   float64\n",
      " 8   HouseYear      5000 non-null   int64  \n",
      " 9   Ecology_1      5000 non-null   float64\n",
      " 10  Ecology_2      5000 non-null   object \n",
      " 11  Ecology_3      5000 non-null   object \n",
      " 12  Social_1       5000 non-null   int64  \n",
      " 13  Social_2       5000 non-null   int64  \n",
      " 14  Social_3       5000 non-null   int64  \n",
      " 15  Healthcare_1   2623 non-null   float64\n",
      " 16  Helthcare_2    5000 non-null   int64  \n",
      " 17  Shops_1        5000 non-null   int64  \n",
      " 18  Shops_2        5000 non-null   object \n",
      "dtypes: float64(7), int64(9), object(3)\n",
      "memory usage: 742.3+ KB\n"
     ]
    }
   ],
   "source": [
    "test_df.info()"
   ]
  },
  {
   "cell_type": "code",
   "execution_count": 9162,
   "metadata": {},
   "outputs": [],
   "source": [
    "# train_df.DistrictId = train_df.DistrictId.tolist()\n",
    "# train_df['DistrictId'] = train_df['DistrictId'].apply(pd.to_numeric, downcast = 'float', errors=\"coerce\")\n",
    "train_df['DistrictId'] = train_df['DistrictId'].astype(int)\n",
    "test_df['DistrictId'] = test_df['DistrictId'].astype(int)"
   ]
  },
  {
   "cell_type": "code",
   "execution_count": 9163,
   "metadata": {},
   "outputs": [
    {
     "data": {
      "text/plain": [
       "array([1, 1, 1, ..., 0, 1, 0])"
      ]
     },
     "execution_count": 9163,
     "metadata": {},
     "output_type": "execute_result"
    }
   ],
   "source": [
    "from sklearn.cluster import KMeans\n",
    "model = KMeans(n_clusters =3, random_state = 100)\n",
    "from sklearn.preprocessing import MinMaxScaler\n",
    "scaler_1 = MinMaxScaler()\n",
    "# dist_sh_df = train_df.loc[train_df['DistrictId':'Shops_1'] ]\n",
    "feats = ['DistrictId','Shops_1' ]\n",
    "dist_sh_df = train_df [feats]\n",
    "test_dist_sh_df = test_df[feats]\n",
    "sk_dist_sh_df = scaler_1.fit_transform(dist_sh_df)\n",
    "test_dist_sh_df_sk = scaler_1.fit_transform(test_dist_sh_df)\n",
    "\n",
    "km_distr = model.fit_predict(sk_dist_sh_df )\n",
    "km_distr"
   ]
  },
  {
   "cell_type": "code",
   "execution_count": 9164,
   "metadata": {},
   "outputs": [
    {
     "data": {
      "text/plain": [
       "288.2828436586775"
      ]
     },
     "execution_count": 9164,
     "metadata": {},
     "output_type": "execute_result"
    }
   ],
   "source": [
    "model.inertia_"
   ]
  },
  {
   "cell_type": "code",
   "execution_count": 9165,
   "metadata": {},
   "outputs": [
    {
     "data": {
      "text/plain": [
       "array([2, 2, 2, ..., 0, 1, 2])"
      ]
     },
     "execution_count": 9165,
     "metadata": {},
     "output_type": "execute_result"
    }
   ],
   "source": [
    "T_km_distr = model.fit_predict(test_dist_sh_df_sk )\n",
    "T_km_distr"
   ]
  },
  {
   "cell_type": "code",
   "execution_count": 9166,
   "metadata": {},
   "outputs": [
    {
     "data": {
      "text/plain": [
       "144.27371650724842"
      ]
     },
     "execution_count": 9166,
     "metadata": {},
     "output_type": "execute_result"
    }
   ],
   "source": [
    "model.inertia_"
   ]
  },
  {
   "cell_type": "code",
   "execution_count": 9167,
   "metadata": {},
   "outputs": [
    {
     "data": {
      "text/plain": [
       "[<matplotlib.lines.Line2D at 0x12847fdc6a0>]"
      ]
     },
     "execution_count": 9167,
     "metadata": {},
     "output_type": "execute_result"
    },
    {
     "data": {
      "image/png": "[encoded data removed]",
      "text/plain": [
       "<Figure size 432x288 with 1 Axes>"
      ]
     },
     "metadata": {
      "needs_background": "light"
     },
     "output_type": "display_data"
    }
   ],
   "source": [
    "inertia_arr = []\n",
    "for i in range (2,8):\n",
    "    temp_model = KMeans(n_clusters=i, random_state=100)\n",
    "    temp_model.fit(sk_dist_sh_df)\n",
    "    temp_inertia = temp_model.inertia_\n",
    "    inertia_arr.append(temp_inertia)\n",
    "plt.plot([i for i in range (2,8)], inertia_arr)\n"
   ]
  },
  {
   "cell_type": "code",
   "execution_count": 9168,
   "metadata": {},
   "outputs": [],
   "source": [
    "train_df['shops_distr'] = km_distr\n",
    "test_df['shops_distr'] = T_km_distr"
   ]
  },
  {
   "cell_type": "code",
   "execution_count": 9169,
   "metadata": {},
   "outputs": [],
   "source": [
    "\n",
    "train_df = train_df.drop('Id',axis=1)\n",
    "\n",
    "test_df = test_df.drop('Id',axis=1)\n"
   ]
  },
  {
   "cell_type": "code",
   "execution_count": 9170,
   "metadata": {},
   "outputs": [
    {
     "name": "stdout",
     "output_type": "stream",
     "text": [
      "<class 'pandas.core.frame.DataFrame'>\n",
      "RangeIndex: 5000 entries, 0 to 4999\n",
      "Data columns (total 19 columns):\n",
      " #   Column         Non-Null Count  Dtype  \n",
      "---  ------         --------------  -----  \n",
      " 0   DistrictId     5000 non-null   int32  \n",
      " 1   Rooms          5000 non-null   float64\n",
      " 2   Square         5000 non-null   float64\n",
      " 3   LifeSquare     3959 non-null   float64\n",
      " 4   KitchenSquare  5000 non-null   float64\n",
      " 5   Floor          5000 non-null   int64  \n",
      " 6   HouseFloor     5000 non-null   float64\n",
      " 7   HouseYear      5000 non-null   int64  \n",
      " 8   Ecology_1      5000 non-null   float64\n",
      " 9   Ecology_2      5000 non-null   object \n",
      " 10  Ecology_3      5000 non-null   object \n",
      " 11  Social_1       5000 non-null   int64  \n",
      " 12  Social_2       5000 non-null   int64  \n",
      " 13  Social_3       5000 non-null   int64  \n",
      " 14  Healthcare_1   2623 non-null   float64\n",
      " 15  Helthcare_2    5000 non-null   int64  \n",
      " 16  Shops_1        5000 non-null   int64  \n",
      " 17  Shops_2        5000 non-null   object \n",
      " 18  shops_distr    5000 non-null   int32  \n",
      "dtypes: float64(7), int32(2), int64(7), object(3)\n",
      "memory usage: 703.2+ KB\n"
     ]
    }
   ],
   "source": [
    " test_df.info()"
   ]
  },
  {
   "cell_type": "code",
   "execution_count": 9171,
   "metadata": {},
   "outputs": [
    {
     "name": "stdout",
     "output_type": "stream",
     "text": [
      "<class 'pandas.core.frame.DataFrame'>\n",
      "RangeIndex: 10000 entries, 0 to 9999\n",
      "Data columns (total 20 columns):\n",
      " #   Column         Non-Null Count  Dtype  \n",
      "---  ------         --------------  -----  \n",
      " 0   DistrictId     10000 non-null  int32  \n",
      " 1   Rooms          10000 non-null  float64\n",
      " 2   Square         10000 non-null  float64\n",
      " 3   LifeSquare     7887 non-null   float64\n",
      " 4   KitchenSquare  10000 non-null  float64\n",
      " 5   Floor          10000 non-null  int64  \n",
      " 6   HouseFloor     10000 non-null  float64\n",
      " 7   HouseYear      10000 non-null  int64  \n",
      " 8   Ecology_1      10000 non-null  float64\n",
      " 9   Ecology_2      10000 non-null  object \n",
      " 10  Ecology_3      10000 non-null  object \n",
      " 11  Social_1       10000 non-null  int64  \n",
      " 12  Social_2       10000 non-null  int64  \n",
      " 13  Social_3       10000 non-null  int64  \n",
      " 14  Healthcare_1   5202 non-null   float64\n",
      " 15  Helthcare_2    10000 non-null  int64  \n",
      " 16  Shops_1        10000 non-null  int64  \n",
      " 17  Shops_2        10000 non-null  object \n",
      " 18  Price          10000 non-null  float64\n",
      " 19  shops_distr    10000 non-null  int32  \n",
      "dtypes: float64(8), int32(2), int64(7), object(3)\n",
      "memory usage: 1.4+ MB\n"
     ]
    }
   ],
   "source": [
    " train_df.info()"
   ]
  },
  {
   "cell_type": "markdown",
   "metadata": {},
   "source": [
    "### Обзор целевой переменной\n"
   ]
  },
  {
   "cell_type": "code",
   "execution_count": 9172,
   "metadata": {},
   "outputs": [
    {
     "data": {
      "image/png": "[encoded data removed]",
      "text/plain": [
       "<Figure size 1152x576 with 1 Axes>"
      ]
     },
     "metadata": {
      "needs_background": "light"
     },
     "output_type": "display_data"
    }
   ],
   "source": [
    "plt.figure (figsize=(16,8))\n",
    "train_df['Price'].hist(bins = 40)\n",
    "plt.ylabel('Count')\n",
    "plt.xlabel('Price')\n",
    "\n",
    "plt.title ('Target distribution')\n",
    "plt.show()"
   ]
  },
  {
   "cell_type": "markdown",
   "metadata": {},
   "source": [
    "### Количественные переменные"
   ]
  },
  {
   "cell_type": "code",
   "execution_count": 9173,
   "metadata": {},
   "outputs": [
    {
     "data": {
      "text/html": [
       "<div>\n",
       "<style scoped>\n",
       "    .dataframe tbody tr th:only-of-type {\n",
       "        vertical-align: middle;\n",
       "    }\n",
       "\n",
       "    .dataframe tbody tr th {\n",
       "        vertical-align: top;\n",
       "    }\n",
       "\n",
       "    .dataframe thead th {\n",
       "        text-align: right;\n",
       "    }\n",
       "</style>\n",
       "<table border=\"1\" class=\"dataframe\">\n",
       "  <thead>\n",
       "    <tr style=\"text-align: right;\">\n",
       "      <th></th>\n",
       "      <th>DistrictId</th>\n",
       "      <th>Rooms</th>\n",
       "      <th>Square</th>\n",
       "      <th>LifeSquare</th>\n",
       "      <th>KitchenSquare</th>\n",
       "      <th>Floor</th>\n",
       "      <th>HouseFloor</th>\n",
       "      <th>HouseYear</th>\n",
       "      <th>Ecology_1</th>\n",
       "      <th>Social_1</th>\n",
       "      <th>Social_2</th>\n",
       "      <th>Social_3</th>\n",
       "      <th>Healthcare_1</th>\n",
       "      <th>Helthcare_2</th>\n",
       "      <th>Shops_1</th>\n",
       "      <th>Price</th>\n",
       "      <th>shops_distr</th>\n",
       "    </tr>\n",
       "  </thead>\n",
       "  <tbody>\n",
       "    <tr>\n",
       "      <th>count</th>\n",
       "      <td>10000.000000</td>\n",
       "      <td>10000.000000</td>\n",
       "      <td>10000.000000</td>\n",
       "      <td>7887.000000</td>\n",
       "      <td>10000.000000</td>\n",
       "      <td>10000.000000</td>\n",
       "      <td>10000.000000</td>\n",
       "      <td>1.000000e+04</td>\n",
       "      <td>10000.000000</td>\n",
       "      <td>10000.000000</td>\n",
       "      <td>10000.000000</td>\n",
       "      <td>10000.000000</td>\n",
       "      <td>5202.000000</td>\n",
       "      <td>10000.000000</td>\n",
       "      <td>10000.000000</td>\n",
       "      <td>10000.000000</td>\n",
       "      <td>10000.000000</td>\n",
       "    </tr>\n",
       "    <tr>\n",
       "      <th>mean</th>\n",
       "      <td>50.400800</td>\n",
       "      <td>1.890500</td>\n",
       "      <td>56.315775</td>\n",
       "      <td>37.199645</td>\n",
       "      <td>6.273300</td>\n",
       "      <td>8.526700</td>\n",
       "      <td>12.609400</td>\n",
       "      <td>3.990166e+03</td>\n",
       "      <td>0.118858</td>\n",
       "      <td>24.687000</td>\n",
       "      <td>5352.157400</td>\n",
       "      <td>8.039200</td>\n",
       "      <td>1142.904460</td>\n",
       "      <td>1.319500</td>\n",
       "      <td>4.231300</td>\n",
       "      <td>214138.857399</td>\n",
       "      <td>0.845900</td>\n",
       "    </tr>\n",
       "    <tr>\n",
       "      <th>std</th>\n",
       "      <td>43.587592</td>\n",
       "      <td>0.839512</td>\n",
       "      <td>21.058732</td>\n",
       "      <td>86.241209</td>\n",
       "      <td>28.560917</td>\n",
       "      <td>5.241148</td>\n",
       "      <td>6.775974</td>\n",
       "      <td>2.005003e+05</td>\n",
       "      <td>0.119025</td>\n",
       "      <td>17.532614</td>\n",
       "      <td>4006.799803</td>\n",
       "      <td>23.831875</td>\n",
       "      <td>1021.517264</td>\n",
       "      <td>1.493601</td>\n",
       "      <td>4.806341</td>\n",
       "      <td>92872.293865</td>\n",
       "      <td>0.611221</td>\n",
       "    </tr>\n",
       "    <tr>\n",
       "      <th>min</th>\n",
       "      <td>0.000000</td>\n",
       "      <td>0.000000</td>\n",
       "      <td>1.136859</td>\n",
       "      <td>0.370619</td>\n",
       "      <td>0.000000</td>\n",
       "      <td>1.000000</td>\n",
       "      <td>0.000000</td>\n",
       "      <td>1.910000e+03</td>\n",
       "      <td>0.000000</td>\n",
       "      <td>0.000000</td>\n",
       "      <td>168.000000</td>\n",
       "      <td>0.000000</td>\n",
       "      <td>0.000000</td>\n",
       "      <td>0.000000</td>\n",
       "      <td>0.000000</td>\n",
       "      <td>59174.778028</td>\n",
       "      <td>0.000000</td>\n",
       "    </tr>\n",
       "    <tr>\n",
       "      <th>25%</th>\n",
       "      <td>20.000000</td>\n",
       "      <td>1.000000</td>\n",
       "      <td>41.774881</td>\n",
       "      <td>22.769832</td>\n",
       "      <td>1.000000</td>\n",
       "      <td>4.000000</td>\n",
       "      <td>9.000000</td>\n",
       "      <td>1.974000e+03</td>\n",
       "      <td>0.017647</td>\n",
       "      <td>6.000000</td>\n",
       "      <td>1564.000000</td>\n",
       "      <td>0.000000</td>\n",
       "      <td>350.000000</td>\n",
       "      <td>0.000000</td>\n",
       "      <td>1.000000</td>\n",
       "      <td>153872.633942</td>\n",
       "      <td>0.000000</td>\n",
       "    </tr>\n",
       "    <tr>\n",
       "      <th>50%</th>\n",
       "      <td>36.000000</td>\n",
       "      <td>2.000000</td>\n",
       "      <td>52.513310</td>\n",
       "      <td>32.781260</td>\n",
       "      <td>6.000000</td>\n",
       "      <td>7.000000</td>\n",
       "      <td>13.000000</td>\n",
       "      <td>1.977000e+03</td>\n",
       "      <td>0.075424</td>\n",
       "      <td>25.000000</td>\n",
       "      <td>5285.000000</td>\n",
       "      <td>2.000000</td>\n",
       "      <td>900.000000</td>\n",
       "      <td>1.000000</td>\n",
       "      <td>3.000000</td>\n",
       "      <td>192269.644879</td>\n",
       "      <td>1.000000</td>\n",
       "    </tr>\n",
       "    <tr>\n",
       "      <th>75%</th>\n",
       "      <td>75.000000</td>\n",
       "      <td>2.000000</td>\n",
       "      <td>65.900625</td>\n",
       "      <td>45.128803</td>\n",
       "      <td>9.000000</td>\n",
       "      <td>12.000000</td>\n",
       "      <td>17.000000</td>\n",
       "      <td>2.001000e+03</td>\n",
       "      <td>0.195781</td>\n",
       "      <td>36.000000</td>\n",
       "      <td>7227.000000</td>\n",
       "      <td>5.000000</td>\n",
       "      <td>1548.000000</td>\n",
       "      <td>2.000000</td>\n",
       "      <td>6.000000</td>\n",
       "      <td>249135.462171</td>\n",
       "      <td>1.000000</td>\n",
       "    </tr>\n",
       "    <tr>\n",
       "      <th>max</th>\n",
       "      <td>209.000000</td>\n",
       "      <td>19.000000</td>\n",
       "      <td>641.065193</td>\n",
       "      <td>7480.592129</td>\n",
       "      <td>2014.000000</td>\n",
       "      <td>42.000000</td>\n",
       "      <td>117.000000</td>\n",
       "      <td>2.005201e+07</td>\n",
       "      <td>0.521867</td>\n",
       "      <td>74.000000</td>\n",
       "      <td>19083.000000</td>\n",
       "      <td>141.000000</td>\n",
       "      <td>4849.000000</td>\n",
       "      <td>6.000000</td>\n",
       "      <td>23.000000</td>\n",
       "      <td>633233.466570</td>\n",
       "      <td>2.000000</td>\n",
       "    </tr>\n",
       "  </tbody>\n",
       "</table>\n",
       "</div>"
      ],
      "text/plain": [
       "         DistrictId         Rooms        Square   LifeSquare  KitchenSquare  \\\n",
       "count  10000.000000  10000.000000  10000.000000  7887.000000   10000.000000   \n",
       "mean      50.400800      1.890500     56.315775    37.199645       6.273300   \n",
       "std       43.587592      0.839512     21.058732    86.241209      28.560917   \n",
       "min        0.000000      0.000000      1.136859     0.370619       0.000000   \n",
       "25%       20.000000      1.000000     41.774881    22.769832       1.000000   \n",
       "50%       36.000000      2.000000     52.513310    32.781260       6.000000   \n",
       "75%       75.000000      2.000000     65.900625    45.128803       9.000000   \n",
       "max      209.000000     19.000000    641.065193  7480.592129    2014.000000   \n",
       "\n",
       "              Floor    HouseFloor     HouseYear     Ecology_1      Social_1  \\\n",
       "count  10000.000000  10000.000000  1.000000e+04  10000.000000  10000.000000   \n",
       "mean       8.526700     12.609400  3.990166e+03      0.118858     24.687000   \n",
       "std        5.241148      6.775974  2.005003e+05      0.119025     17.532614   \n",
       "min        1.000000      0.000000  1.910000e+03      0.000000      0.000000   \n",
       "25%        4.000000      9.000000  1.974000e+03      0.017647      6.000000   \n",
       "50%        7.000000     13.000000  1.977000e+03      0.075424     25.000000   \n",
       "75%       12.000000     17.000000  2.001000e+03      0.195781     36.000000   \n",
       "max       42.000000    117.000000  2.005201e+07      0.521867     74.000000   \n",
       "\n",
       "           Social_2      Social_3  Healthcare_1   Helthcare_2       Shops_1  \\\n",
       "count  10000.000000  10000.000000   5202.000000  10000.000000  10000.000000   \n",
       "mean    5352.157400      8.039200   1142.904460      1.319500      4.231300   \n",
       "std     4006.799803     23.831875   1021.517264      1.493601      4.806341   \n",
       "min      168.000000      0.000000      0.000000      0.000000      0.000000   \n",
       "25%     1564.000000      0.000000    350.000000      0.000000      1.000000   \n",
       "50%     5285.000000      2.000000    900.000000      1.000000      3.000000   \n",
       "75%     7227.000000      5.000000   1548.000000      2.000000      6.000000   \n",
       "max    19083.000000    141.000000   4849.000000      6.000000     23.000000   \n",
       "\n",
       "               Price   shops_distr  \n",
       "count   10000.000000  10000.000000  \n",
       "mean   214138.857399      0.845900  \n",
       "std     92872.293865      0.611221  \n",
       "min     59174.778028      0.000000  \n",
       "25%    153872.633942      0.000000  \n",
       "50%    192269.644879      1.000000  \n",
       "75%    249135.462171      1.000000  \n",
       "max    633233.466570      2.000000  "
      ]
     },
     "execution_count": 9173,
     "metadata": {},
     "output_type": "execute_result"
    }
   ],
   "source": [
    "train_df.describe()\n"
   ]
  },
  {
   "cell_type": "markdown",
   "metadata": {},
   "source": [
    "### Качественные переменные."
   ]
  },
  {
   "cell_type": "code",
   "execution_count": 9174,
   "metadata": {},
   "outputs": [],
   "source": [
    "\n",
    "train_df = pd.get_dummies(train_df)\n",
    "test_df = pd.get_dummies(test_df)\n"
   ]
  },
  {
   "cell_type": "code",
   "execution_count": 9175,
   "metadata": {},
   "outputs": [
    {
     "name": "stdout",
     "output_type": "stream",
     "text": [
      "<class 'pandas.core.frame.DataFrame'>\n",
      "RangeIndex: 10000 entries, 0 to 9999\n",
      "Data columns (total 23 columns):\n",
      " #   Column         Non-Null Count  Dtype  \n",
      "---  ------         --------------  -----  \n",
      " 0   DistrictId     10000 non-null  int32  \n",
      " 1   Rooms          10000 non-null  float64\n",
      " 2   Square         10000 non-null  float64\n",
      " 3   LifeSquare     7887 non-null   float64\n",
      " 4   KitchenSquare  10000 non-null  float64\n",
      " 5   Floor          10000 non-null  int64  \n",
      " 6   HouseFloor     10000 non-null  float64\n",
      " 7   HouseYear      10000 non-null  int64  \n",
      " 8   Ecology_1      10000 non-null  float64\n",
      " 9   Social_1       10000 non-null  int64  \n",
      " 10  Social_2       10000 non-null  int64  \n",
      " 11  Social_3       10000 non-null  int64  \n",
      " 12  Healthcare_1   5202 non-null   float64\n",
      " 13  Helthcare_2    10000 non-null  int64  \n",
      " 14  Shops_1        10000 non-null  int64  \n",
      " 15  Price          10000 non-null  float64\n",
      " 16  shops_distr    10000 non-null  int32  \n",
      " 17  Ecology_2_A    10000 non-null  uint8  \n",
      " 18  Ecology_2_B    10000 non-null  uint8  \n",
      " 19  Ecology_3_A    10000 non-null  uint8  \n",
      " 20  Ecology_3_B    10000 non-null  uint8  \n",
      " 21  Shops_2_A      10000 non-null  uint8  \n",
      " 22  Shops_2_B      10000 non-null  uint8  \n",
      "dtypes: float64(8), int32(2), int64(7), uint8(6)\n",
      "memory usage: 1.3 MB\n"
     ]
    }
   ],
   "source": [
    "train_df.info()"
   ]
  },
  {
   "cell_type": "markdown",
   "metadata": {},
   "source": [
    "#### Ecology_2"
   ]
  },
  {
   "cell_type": "code",
   "execution_count": 9176,
   "metadata": {},
   "outputs": [],
   "source": [
    "# Ecology_2_df = train_df.loc[:,'Ecology_2_A':'Ecology_2_B' ]\n",
    "# from sklearn.decomposition import PCA\n",
    "# pca = PCA(n_components =1)\n",
    "# pca_Ecology_2 = pca.fit_transform(Ecology_2_df)\n",
    "# pca_Ecology_2\n"
   ]
  },
  {
   "cell_type": "code",
   "execution_count": 9177,
   "metadata": {},
   "outputs": [],
   "source": [
    "# pca.explained_variance_ratio_"
   ]
  },
  {
   "cell_type": "markdown",
   "metadata": {},
   "source": [
    "#### Ecology_3"
   ]
  },
  {
   "cell_type": "code",
   "execution_count": 9178,
   "metadata": {},
   "outputs": [],
   "source": [
    "# train_df['Ecology_3'] = train_df['Ecology_3'].fillna(0)\n",
    "# train_df['Ecology_3'].value_counts()\n",
    "# train_df = pd.get_dummies(train_df['Ecology_3'])\n",
    "# Ecology_3_df = train_df.loc[:,'Ecology_3_A':'Ecology_3_B' ]\n",
    "# from sklearn.decomposition import PCA\n",
    "# pca = PCA(n_components =1)\n",
    "# pca_Ecology_3 = pca.fit_transform(Ecology_3_df)\n",
    "# pca_Ecology_3\n",
    "\n"
   ]
  },
  {
   "cell_type": "markdown",
   "metadata": {},
   "source": [
    "#### Shops_2"
   ]
  },
  {
   "cell_type": "code",
   "execution_count": 9179,
   "metadata": {},
   "outputs": [],
   "source": [
    "# train_df['Shops_2'] = train_df['Shops_2'].fillna(0)\n",
    "# train_df['Shops_2'].value_counts()\n",
    "# Shops_2_df = train_df.loc[:,'Shops_2_A':'Shops_2_B' ]\n",
    "# from sklearn.decomposition import PCA\n",
    "# pca = PCA(n_components =1)\n",
    "# pca_Shops_2 = pca.fit_transform(Shops_2_df)\n",
    "# pca_Shops_2\n"
   ]
  },
  {
   "cell_type": "markdown",
   "metadata": {},
   "source": [
    "###  Предобработка данных\n"
   ]
  },
  {
   "cell_type": "markdown",
   "metadata": {},
   "source": [
    "### Стандартизация признаков"
   ]
  },
  {
   "cell_type": "code",
   "execution_count": 9180,
   "metadata": {},
   "outputs": [],
   "source": [
    "# scaler = StandardScaler()\n",
    "# train_df_scl = scaler.fit_transform(train_df)\n",
    "# не эффективно"
   ]
  },
  {
   "cell_type": "markdown",
   "metadata": {},
   "source": [
    "#### District"
   ]
  },
  {
   "cell_type": "code",
   "execution_count": 9181,
   "metadata": {},
   "outputs": [
    {
     "name": "stdout",
     "output_type": "stream",
     "text": [
      "<class 'pandas.core.frame.DataFrame'>\n",
      "RangeIndex: 10000 entries, 0 to 9999\n",
      "Data columns (total 23 columns):\n",
      " #   Column         Non-Null Count  Dtype  \n",
      "---  ------         --------------  -----  \n",
      " 0   DistrictId     10000 non-null  int32  \n",
      " 1   Rooms          10000 non-null  float64\n",
      " 2   Square         10000 non-null  float64\n",
      " 3   LifeSquare     7887 non-null   float64\n",
      " 4   KitchenSquare  10000 non-null  float64\n",
      " 5   Floor          10000 non-null  int64  \n",
      " 6   HouseFloor     10000 non-null  float64\n",
      " 7   HouseYear      10000 non-null  int64  \n",
      " 8   Ecology_1      10000 non-null  float64\n",
      " 9   Social_1       10000 non-null  int64  \n",
      " 10  Social_2       10000 non-null  int64  \n",
      " 11  Social_3       10000 non-null  int64  \n",
      " 12  Healthcare_1   5202 non-null   float64\n",
      " 13  Helthcare_2    10000 non-null  int64  \n",
      " 14  Shops_1        10000 non-null  int64  \n",
      " 15  Price          10000 non-null  float64\n",
      " 16  shops_distr    10000 non-null  int32  \n",
      " 17  Ecology_2_A    10000 non-null  uint8  \n",
      " 18  Ecology_2_B    10000 non-null  uint8  \n",
      " 19  Ecology_3_A    10000 non-null  uint8  \n",
      " 20  Ecology_3_B    10000 non-null  uint8  \n",
      " 21  Shops_2_A      10000 non-null  uint8  \n",
      " 22  Shops_2_B      10000 non-null  uint8  \n",
      "dtypes: float64(8), int32(2), int64(7), uint8(6)\n",
      "memory usage: 1.3 MB\n"
     ]
    }
   ],
   "source": [
    "train_df.info()"
   ]
  },
  {
   "cell_type": "code",
   "execution_count": 9182,
   "metadata": {},
   "outputs": [
    {
     "name": "stdout",
     "output_type": "stream",
     "text": [
      "<class 'pandas.core.frame.DataFrame'>\n",
      "RangeIndex: 205 entries, 0 to 204\n",
      "Data columns (total 2 columns):\n",
      " #   Column      Non-Null Count  Dtype\n",
      "---  ------      --------------  -----\n",
      " 0   index       205 non-null    int64\n",
      " 1   DistrictId  205 non-null    int64\n",
      "dtypes: int64(2)\n",
      "memory usage: 3.3 KB\n"
     ]
    }
   ],
   "source": [
    "district_size = train_df['DistrictId'].value_counts().reset_index()\n",
    "district_size.info() "
   ]
  },
  {
   "cell_type": "code",
   "execution_count": 9183,
   "metadata": {},
   "outputs": [],
   "source": [
    "district_size.rename(columns={'index': 'DistrictId', 'DistrictId':'DistritSize'}, inplace= True)\n",
    "train_df = pd.merge(train_df, district_size, on = 'DistrictId', how = 'left')\n",
    "# train_df.info()\n",
    "# district_size.head()"
   ]
  },
  {
   "cell_type": "code",
   "execution_count": 9184,
   "metadata": {},
   "outputs": [
    {
     "name": "stdout",
     "output_type": "stream",
     "text": [
      "<class 'pandas.core.frame.DataFrame'>\n",
      "Int64Index: 5000 entries, 0 to 4999\n",
      "Data columns (total 23 columns):\n",
      " #   Column         Non-Null Count  Dtype  \n",
      "---  ------         --------------  -----  \n",
      " 0   DistrictId     5000 non-null   int32  \n",
      " 1   Rooms          5000 non-null   float64\n",
      " 2   Square         5000 non-null   float64\n",
      " 3   LifeSquare     3959 non-null   float64\n",
      " 4   KitchenSquare  5000 non-null   float64\n",
      " 5   Floor          5000 non-null   int64  \n",
      " 6   HouseFloor     5000 non-null   float64\n",
      " 7   HouseYear      5000 non-null   int64  \n",
      " 8   Ecology_1      5000 non-null   float64\n",
      " 9   Social_1       5000 non-null   int64  \n",
      " 10  Social_2       5000 non-null   int64  \n",
      " 11  Social_3       5000 non-null   int64  \n",
      " 12  Healthcare_1   2623 non-null   float64\n",
      " 13  Helthcare_2    5000 non-null   int64  \n",
      " 14  Shops_1        5000 non-null   int64  \n",
      " 15  shops_distr    5000 non-null   int32  \n",
      " 16  Ecology_2_A    5000 non-null   uint8  \n",
      " 17  Ecology_2_B    5000 non-null   uint8  \n",
      " 18  Ecology_3_A    5000 non-null   uint8  \n",
      " 19  Ecology_3_B    5000 non-null   uint8  \n",
      " 20  Shops_2_A      5000 non-null   uint8  \n",
      " 21  Shops_2_B      5000 non-null   uint8  \n",
      " 22  DistritSize    5000 non-null   int64  \n",
      "dtypes: float64(7), int32(2), int64(8), uint8(6)\n",
      "memory usage: 693.4 KB\n"
     ]
    }
   ],
   "source": [
    "district_size = test_df['DistrictId'].value_counts().reset_index()\n",
    "district_size.rename(columns={'index': 'DistrictId', 'DistrictId':'DistritSize'}, inplace= True)\n",
    "test_df = pd.merge(test_df, district_size, on = 'DistrictId', how = 'left')\n",
    "test_df.info()"
   ]
  },
  {
   "cell_type": "code",
   "execution_count": 9185,
   "metadata": {},
   "outputs": [
    {
     "data": {
      "text/html": [
       "<div>\n",
       "<style scoped>\n",
       "    .dataframe tbody tr th:only-of-type {\n",
       "        vertical-align: middle;\n",
       "    }\n",
       "\n",
       "    .dataframe tbody tr th {\n",
       "        vertical-align: top;\n",
       "    }\n",
       "\n",
       "    .dataframe thead th {\n",
       "        text-align: right;\n",
       "    }\n",
       "</style>\n",
       "<table border=\"1\" class=\"dataframe\">\n",
       "  <thead>\n",
       "    <tr style=\"text-align: right;\">\n",
       "      <th></th>\n",
       "      <th>DistrictId</th>\n",
       "      <th>Rooms</th>\n",
       "      <th>Square</th>\n",
       "      <th>LifeSquare</th>\n",
       "      <th>KitchenSquare</th>\n",
       "      <th>Floor</th>\n",
       "      <th>HouseFloor</th>\n",
       "      <th>HouseYear</th>\n",
       "      <th>Ecology_1</th>\n",
       "      <th>Social_1</th>\n",
       "      <th>...</th>\n",
       "      <th>Helthcare_2</th>\n",
       "      <th>Shops_1</th>\n",
       "      <th>shops_distr</th>\n",
       "      <th>Ecology_2_A</th>\n",
       "      <th>Ecology_2_B</th>\n",
       "      <th>Ecology_3_A</th>\n",
       "      <th>Ecology_3_B</th>\n",
       "      <th>Shops_2_A</th>\n",
       "      <th>Shops_2_B</th>\n",
       "      <th>DistritSize</th>\n",
       "    </tr>\n",
       "  </thead>\n",
       "  <tbody>\n",
       "    <tr>\n",
       "      <th>0</th>\n",
       "      <td>44</td>\n",
       "      <td>1.0</td>\n",
       "      <td>36.847630</td>\n",
       "      <td>19.094182</td>\n",
       "      <td>5.0</td>\n",
       "      <td>5</td>\n",
       "      <td>9.0</td>\n",
       "      <td>1970</td>\n",
       "      <td>0.036122</td>\n",
       "      <td>24</td>\n",
       "      <td>...</td>\n",
       "      <td>1</td>\n",
       "      <td>1</td>\n",
       "      <td>2</td>\n",
       "      <td>0</td>\n",
       "      <td>1</td>\n",
       "      <td>0</td>\n",
       "      <td>1</td>\n",
       "      <td>0</td>\n",
       "      <td>1</td>\n",
       "      <td>46</td>\n",
       "    </tr>\n",
       "    <tr>\n",
       "      <th>1</th>\n",
       "      <td>62</td>\n",
       "      <td>1.0</td>\n",
       "      <td>42.493907</td>\n",
       "      <td>42.568133</td>\n",
       "      <td>10.0</td>\n",
       "      <td>7</td>\n",
       "      <td>17.0</td>\n",
       "      <td>2017</td>\n",
       "      <td>0.072158</td>\n",
       "      <td>2</td>\n",
       "      <td>...</td>\n",
       "      <td>0</td>\n",
       "      <td>0</td>\n",
       "      <td>2</td>\n",
       "      <td>0</td>\n",
       "      <td>1</td>\n",
       "      <td>0</td>\n",
       "      <td>1</td>\n",
       "      <td>1</td>\n",
       "      <td>0</td>\n",
       "      <td>122</td>\n",
       "    </tr>\n",
       "    <tr>\n",
       "      <th>2</th>\n",
       "      <td>27</td>\n",
       "      <td>2.0</td>\n",
       "      <td>59.463678</td>\n",
       "      <td>NaN</td>\n",
       "      <td>9.0</td>\n",
       "      <td>19</td>\n",
       "      <td>19.0</td>\n",
       "      <td>1977</td>\n",
       "      <td>0.211401</td>\n",
       "      <td>9</td>\n",
       "      <td>...</td>\n",
       "      <td>0</td>\n",
       "      <td>1</td>\n",
       "      <td>2</td>\n",
       "      <td>0</td>\n",
       "      <td>1</td>\n",
       "      <td>0</td>\n",
       "      <td>1</td>\n",
       "      <td>0</td>\n",
       "      <td>1</td>\n",
       "      <td>391</td>\n",
       "    </tr>\n",
       "    <tr>\n",
       "      <th>3</th>\n",
       "      <td>23</td>\n",
       "      <td>3.0</td>\n",
       "      <td>49.646030</td>\n",
       "      <td>33.893825</td>\n",
       "      <td>6.0</td>\n",
       "      <td>2</td>\n",
       "      <td>2.0</td>\n",
       "      <td>1965</td>\n",
       "      <td>0.014073</td>\n",
       "      <td>2</td>\n",
       "      <td>...</td>\n",
       "      <td>0</td>\n",
       "      <td>0</td>\n",
       "      <td>2</td>\n",
       "      <td>0</td>\n",
       "      <td>1</td>\n",
       "      <td>0</td>\n",
       "      <td>1</td>\n",
       "      <td>0</td>\n",
       "      <td>1</td>\n",
       "      <td>264</td>\n",
       "    </tr>\n",
       "    <tr>\n",
       "      <th>4</th>\n",
       "      <td>74</td>\n",
       "      <td>1.0</td>\n",
       "      <td>53.837056</td>\n",
       "      <td>NaN</td>\n",
       "      <td>1.0</td>\n",
       "      <td>8</td>\n",
       "      <td>17.0</td>\n",
       "      <td>1977</td>\n",
       "      <td>0.309479</td>\n",
       "      <td>35</td>\n",
       "      <td>...</td>\n",
       "      <td>0</td>\n",
       "      <td>6</td>\n",
       "      <td>0</td>\n",
       "      <td>0</td>\n",
       "      <td>1</td>\n",
       "      <td>0</td>\n",
       "      <td>1</td>\n",
       "      <td>0</td>\n",
       "      <td>1</td>\n",
       "      <td>61</td>\n",
       "    </tr>\n",
       "  </tbody>\n",
       "</table>\n",
       "<p>5 rows × 23 columns</p>\n",
       "</div>"
      ],
      "text/plain": [
       "   DistrictId  Rooms     Square  LifeSquare  KitchenSquare  Floor  HouseFloor  \\\n",
       "0          44    1.0  36.847630   19.094182            5.0      5         9.0   \n",
       "1          62    1.0  42.493907   42.568133           10.0      7        17.0   \n",
       "2          27    2.0  59.463678         NaN            9.0     19        19.0   \n",
       "3          23    3.0  49.646030   33.893825            6.0      2         2.0   \n",
       "4          74    1.0  53.837056         NaN            1.0      8        17.0   \n",
       "\n",
       "   HouseYear  Ecology_1  Social_1  ...  Helthcare_2  Shops_1  shops_distr  \\\n",
       "0       1970   0.036122        24  ...            1        1            2   \n",
       "1       2017   0.072158         2  ...            0        0            2   \n",
       "2       1977   0.211401         9  ...            0        1            2   \n",
       "3       1965   0.014073         2  ...            0        0            2   \n",
       "4       1977   0.309479        35  ...            0        6            0   \n",
       "\n",
       "   Ecology_2_A  Ecology_2_B  Ecology_3_A  Ecology_3_B  Shops_2_A  Shops_2_B  \\\n",
       "0            0            1            0            1          0          1   \n",
       "1            0            1            0            1          1          0   \n",
       "2            0            1            0            1          0          1   \n",
       "3            0            1            0            1          0          1   \n",
       "4            0            1            0            1          0          1   \n",
       "\n",
       "   DistritSize  \n",
       "0           46  \n",
       "1          122  \n",
       "2          391  \n",
       "3          264  \n",
       "4           61  \n",
       "\n",
       "[5 rows x 23 columns]"
      ]
     },
     "execution_count": 9185,
     "metadata": {},
     "output_type": "execute_result"
    }
   ],
   "source": [
    "test_df.head()"
   ]
  },
  {
   "cell_type": "markdown",
   "metadata": {},
   "source": [
    "#### Rooms"
   ]
  },
  {
   "cell_type": "code",
   "execution_count": 9186,
   "metadata": {},
   "outputs": [
    {
     "data": {
      "text/plain": [
       "2.0     3880\n",
       "1.0     3705\n",
       "3.0     2235\n",
       "4.0      150\n",
       "5.0       18\n",
       "0.0        8\n",
       "10.0       2\n",
       "19.0       1\n",
       "6.0        1\n",
       "Name: Rooms, dtype: int64"
      ]
     },
     "execution_count": 9186,
     "metadata": {},
     "output_type": "execute_result"
    }
   ],
   "source": [
    "train_df['Rooms'].value_counts()"
   ]
  },
  {
   "cell_type": "code",
   "execution_count": 9187,
   "metadata": {},
   "outputs": [],
   "source": [
    "median = train_df['Rooms'].median()\n",
    "train_df.loc[train_df['Rooms'].isin ([0]),'Rooms'] = median\n",
    "\n",
    "train_df.loc[train_df['Rooms']>3,'Rooms'] = 3\n",
    "# test\n",
    "test_df.loc[test_df['Rooms'].isin ([0]),'Rooms'] = median\n",
    "\n",
    "test_df.loc[test_df['Rooms']>3,'Rooms'] = 3"
   ]
  },
  {
   "cell_type": "markdown",
   "metadata": {},
   "source": [
    "#### Square, LifeSquare, KitchenSquare"
   ]
  },
  {
   "cell_type": "code",
   "execution_count": 9188,
   "metadata": {},
   "outputs": [
    {
     "data": {
      "image/png": "[encoded data removed]",
      "text/plain": [
       "<Figure size 1440x720 with 1 Axes>"
      ]
     },
     "metadata": {
      "needs_background": "light"
     },
     "output_type": "display_data"
    }
   ],
   "source": [
    "# train_df['Square'].value_counts()\n",
    "plt.figure (figsize=(20,10))\n",
    "plt.axis([0,150,0,10000])\n",
    "train_df['Square'].hist(bins = 40, edgecolor = 'black')\n",
    "# train_df['LifeSquare'].hist(bins = 40, edgecolor = 'black')\n",
    "# train_df['KitchenSquare'].hist(bins = 40, edgecolor = 'black')\n",
    "plt.ylabel('Count')\n",
    "plt.xlabel('Square')\n",
    "\n",
    "plt.title ('Square distribution')\n",
    "# print(hist_info)\n",
    "plt.show()"
   ]
  },
  {
   "cell_type": "markdown",
   "metadata": {},
   "source": [
    "По гистограмме видно, что основное количество площадей распределено в диапозоне от 25 до 120 метров."
   ]
  },
  {
   "cell_type": "code",
   "execution_count": 9189,
   "metadata": {},
   "outputs": [
    {
     "data": {
      "text/plain": [
       "count    5000.000000\n",
       "mean       56.449500\n",
       "std        19.092787\n",
       "min         1.378543\n",
       "25%        41.906231\n",
       "50%        52.921340\n",
       "75%        66.285129\n",
       "max       223.453689\n",
       "Name: Square, dtype: float64"
      ]
     },
     "execution_count": 9189,
     "metadata": {},
     "output_type": "execute_result"
    }
   ],
   "source": [
    "test_df['Square'].describe()"
   ]
  },
  {
   "cell_type": "code",
   "execution_count": 9190,
   "metadata": {},
   "outputs": [],
   "source": [
    "# train_df[train_df['Square']>120].shape"
   ]
  },
  {
   "cell_type": "code",
   "execution_count": 9191,
   "metadata": {},
   "outputs": [],
   "source": [
    "# train_df[train_df['Square']<25].shape"
   ]
  },
  {
   "cell_type": "code",
   "execution_count": 9192,
   "metadata": {},
   "outputs": [],
   "source": [
    "# median_sq = train_df['Square'].median()\n",
    "# q_sq025 = train_df['Square'].quantile([0.25])\n",
    "# q_sq025 = np.percentile(train_df.Square, 25 )\n",
    "# q_sq075 = np.percentile(train_df.Square, 75 )\n",
    "\n",
    "train_df.loc[train_df['Square']>100,'Square'] = 100\n",
    "train_df.loc[train_df['Square']<25,'Square'] = 25\n",
    "# test_df.loc[test_df['Square']<test_df['LifeSquare'],'Square'] = median_sq\n",
    "test_df.loc[test_df['Square']>100,'Square'] = 100\n",
    "test_df.loc[test_df['Square']<25,'Square'] = 25\n",
    "# test_df.loc[test_df['Square']<test_df['LifeSquare'],'Square'] = median_sq\n",
    "# train_df.loc[train_df['Square']>q_sq075,'Square'] = 100\n",
    "# train_df.loc[train_df['Square']<q_sq025,'Square'] = 25\n",
    "# test_df.loc[test_df['Square']>100,'Square'] = 100\n",
    "# test_df.loc[test_df['Square']<25,'Square'] = 25\n"
   ]
  },
  {
   "cell_type": "code",
   "execution_count": 9193,
   "metadata": {},
   "outputs": [],
   "source": [
    "# проверяем насколько изменились значения выборки\n",
    "# train_df['Square'].describe()"
   ]
  },
  {
   "cell_type": "code",
   "execution_count": 9194,
   "metadata": {},
   "outputs": [
    {
     "data": {
      "text/plain": [
       "count    10000.000000\n",
       "mean      3908.833936\n",
       "std       1281.223154\n",
       "min        752.588644\n",
       "25%       2926.462523\n",
       "50%       3915.923848\n",
       "75%       4700.324595\n",
       "max      19331.339523\n",
       "Name: square_per_meter, dtype: float64"
      ]
     },
     "execution_count": 9194,
     "metadata": {},
     "output_type": "execute_result"
    }
   ],
   "source": [
    "train_df['square_per_meter'] = train_df['Price'] / train_df['Square']\n",
    "train_df['square_per_meter'].describe()"
   ]
  },
  {
   "cell_type": "code",
   "execution_count": 9195,
   "metadata": {},
   "outputs": [
    {
     "data": {
      "image/png": "[encoded data removed]",
      "text/plain": [
       "<Figure size 1440x720 with 1 Axes>"
      ]
     },
     "metadata": {
      "needs_background": "light"
     },
     "output_type": "display_data"
    }
   ],
   "source": [
    "# LifeSquare\n",
    "plt.figure (figsize=(20,10))\n",
    "plt.axis([0,150,0,4000])\n",
    "\n",
    "train_df['LifeSquare'].hist(bins = 40, edgecolor = 'black')\n",
    "\n",
    "\n",
    "plt.ylabel('Count')\n",
    "plt.xlabel('LifeSquare')\n",
    "\n",
    "plt.title ('LifeSquare distribution')\n",
    "# print(hist_info)\n",
    "plt.show()"
   ]
  },
  {
   "cell_type": "code",
   "execution_count": 9196,
   "metadata": {},
   "outputs": [
    {
     "data": {
      "text/plain": [
       "count    3959.000000\n",
       "mean       36.158810\n",
       "std        17.825287\n",
       "min         0.333490\n",
       "25%        23.092026\n",
       "50%        32.925087\n",
       "75%        45.174091\n",
       "max       303.071094\n",
       "Name: LifeSquare, dtype: float64"
      ]
     },
     "execution_count": 9196,
     "metadata": {},
     "output_type": "execute_result"
    }
   ],
   "source": [
    "\n",
    "test_df['LifeSquare'].describe()"
   ]
  },
  {
   "cell_type": "code",
   "execution_count": 9197,
   "metadata": {},
   "outputs": [],
   "source": [
    "median_lsq = train_df['LifeSquare'].median()\n",
    "train_df.loc[train_df['LifeSquare'].isna(), 'LifeSquare']= 0\n",
    "test_df.loc[test_df['LifeSquare'].isna(), 'LifeSquare']= 0"
   ]
  },
  {
   "cell_type": "code",
   "execution_count": 9198,
   "metadata": {},
   "outputs": [],
   "source": [
    "train_df.loc[train_df['Square']<train_df['LifeSquare'],'LifeSquare'] = train_df['Square'] - train_df['KitchenSquare'] \n",
    "# test_df.loc[test_df['Square']<test_df['LifeSquare'],'Square'] = median_sq\n"
   ]
  },
  {
   "cell_type": "code",
   "execution_count": 9199,
   "metadata": {},
   "outputs": [],
   "source": [
    "# train_df.loc[train_df['LifeSquare']>80,'LifeSquare'] = median_lsq\n",
    "# test_df.loc[test_df['LifeSquare']>80,'LifeSquare'] = median_lsq\n",
    "# train_df.loc[train_df['LifeSquare']<20,'LifeSquare'] = median_lsq\n",
    "# test_df.loc[test_df['LifeSquare']<20,'LifeSquare'] = median_lsq\n",
    "train_df.loc[train_df['LifeSquare']== 0,'LifeSquare'] = median_lsq\n",
    "test_df.loc[test_df['LifeSquare']== 0,'LifeSquare'] = median_lsq\n",
    "train_df.loc[train_df['LifeSquare']>80,'LifeSquare'] = 80\n",
    "test_df.loc[test_df['LifeSquare']>80,'LifeSquare'] = 80\n",
    "# train_df.loc[train_df['LifeSquare']<20,'LifeSquare'] = 20\n",
    "# test_df.loc[test_df['LifeSquare']<20,'LifeSquare'] = 20"
   ]
  },
  {
   "cell_type": "code",
   "execution_count": 9200,
   "metadata": {},
   "outputs": [],
   "source": [
    "# train_df.loc[train_df['LifeSquare']== 0,'LifeSquare'] = median_lsq\n",
    "# test_df.loc[test_df['LifeSquare']== 0,'LifeSquare'] = median_lsq\n"
   ]
  },
  {
   "cell_type": "code",
   "execution_count": 9201,
   "metadata": {},
   "outputs": [],
   "source": [
    "# train_df[train_df['LifeSquare']<15].shape\n"
   ]
  },
  {
   "cell_type": "code",
   "execution_count": 9202,
   "metadata": {},
   "outputs": [],
   "source": [
    "train_df.loc[train_df['LifeSquare']<15,'LifeSquare'] = 12\n",
    "test_df.loc[test_df['LifeSquare']<15,'LifeSquare'] = 12"
   ]
  },
  {
   "cell_type": "code",
   "execution_count": 9203,
   "metadata": {},
   "outputs": [],
   "source": [
    "# проверяем насколько изменились значения выборки\n",
    "# train_df['LifeSquare'].describe()"
   ]
  },
  {
   "cell_type": "code",
   "execution_count": 9204,
   "metadata": {},
   "outputs": [],
   "source": [
    "# # KitchenSquare\n",
    "# plt.figure (figsize=(20,10))\n",
    "# plt.axis([0,50,0,15000])\n",
    "\n",
    "# train_df['KitchenSquare'].hist(bins = 40, edgecolor = 'black')\n",
    "\n",
    "\n",
    "# plt.ylabel('Count')\n",
    "# plt.xlabel('KitchenSquare')\n",
    "\n",
    "# plt.title ('KitchenSquare distribution')\n",
    "# # print(hist_info)\n",
    "# plt.show()"
   ]
  },
  {
   "cell_type": "code",
   "execution_count": 9205,
   "metadata": {},
   "outputs": [
    {
     "data": {
      "text/plain": [
       "count    5000.000000\n",
       "mean        5.976800\n",
       "std         9.950018\n",
       "min         0.000000\n",
       "25%         1.000000\n",
       "50%         6.000000\n",
       "75%         9.000000\n",
       "max       620.000000\n",
       "Name: KitchenSquare, dtype: float64"
      ]
     },
     "execution_count": 9205,
     "metadata": {},
     "output_type": "execute_result"
    }
   ],
   "source": [
    "test_df['KitchenSquare'].describe()"
   ]
  },
  {
   "cell_type": "code",
   "execution_count": 9206,
   "metadata": {},
   "outputs": [],
   "source": [
    "# train_df[train_df['KitchenSquare']>20].shape"
   ]
  },
  {
   "cell_type": "code",
   "execution_count": 9207,
   "metadata": {},
   "outputs": [],
   "source": [
    "median_ks = train_df['KitchenSquare'].median()\n",
    "train_df.loc[train_df['LifeSquare']<train_df['KitchenSquare'],'KitchenSquare'] = train_df['Square'] - train_df['LifeSquare'] \n",
    "# train_df.loc[train_df['LifeSquare']<train_df['KitchenSquare'],'KitchenSquare'] = 9\n",
    "test_df.loc[test_df['LifeSquare']<test_df['KitchenSquare'],'KitchenSquare'] = 9\n",
    "train_df.loc[train_df['KitchenSquare']>10,'KitchenSquare'] = median_ks \n",
    "train_df.loc[train_df['KitchenSquare']<3,'KitchenSquare'] = median_ks \n",
    "test_df.loc[test_df['KitchenSquare']>10,'KitchenSquare'] = median_ks \n",
    "test_df.loc[test_df['KitchenSquare']<3,'KitchenSquare'] = median_ks "
   ]
  },
  {
   "cell_type": "code",
   "execution_count": 9208,
   "metadata": {},
   "outputs": [],
   "source": [
    "# проверяем насколько изменились значения выборки\n",
    "# train_df['KitchenSquare'].describe()"
   ]
  },
  {
   "cell_type": "markdown",
   "metadata": {},
   "source": [
    "#### Дополнительные признаки по площадям"
   ]
  },
  {
   "cell_type": "code",
   "execution_count": 9209,
   "metadata": {},
   "outputs": [
    {
     "data": {
      "text/plain": [
       "<matplotlib.collections.PathCollection at 0x129400a6910>"
      ]
     },
     "execution_count": 9209,
     "metadata": {},
     "output_type": "execute_result"
    },
    {
     "data": {
      "image/png": "[encoded data removed]",
      "text/plain": [
       "<Figure size 432x288 with 1 Axes>"
      ]
     },
     "metadata": {
      "needs_background": "light"
     },
     "output_type": "display_data"
    }
   ],
   "source": [
    "import matplotlib.pyplot as plt \n",
    "# plt.scatter(train_df['Social_2'],train_df['Social_2'])\n",
    "# plt.scatter(train_df['Social_1'],train_df['Social_3'])\n",
    "plt.scatter(train_df['LifeSquare'],train_df['Rooms'])"
   ]
  },
  {
   "cell_type": "code",
   "execution_count": 9210,
   "metadata": {},
   "outputs": [
    {
     "data": {
      "text/plain": [
       "array([6, 0, 2, ..., 0, 0, 0])"
      ]
     },
     "execution_count": 9210,
     "metadata": {},
     "output_type": "execute_result"
    }
   ],
   "source": [
    "from sklearn.cluster import KMeans\n",
    "model_2 = KMeans(n_clusters =10, random_state = 100)\n",
    "from sklearn.preprocessing import MinMaxScaler\n",
    "scaler_1 = MinMaxScaler()\n",
    "# dist_sh_df = train_df.loc[train_df['DistrictId':'Shops_1'] ]\n",
    "feats_2 = ['LifeSquare','Rooms' ]\n",
    "sqare_un = train_df [feats_2]\n",
    "# train_sqare_un = train_df[feats]\n",
    "sk_sqare_un = scaler_1.fit_transform(sqare_un)\n",
    "# train_sqare_un_sk = scaler_1.fit_transform(test_dist_sh_df)\n",
    "\n",
    "Unionsqare = model_2.fit_predict(sk_sqare_un )\n",
    "Unionsqare"
   ]
  },
  {
   "cell_type": "code",
   "execution_count": 9211,
   "metadata": {},
   "outputs": [
    {
     "data": {
      "text/plain": [
       "35.590779361334455"
      ]
     },
     "execution_count": 9211,
     "metadata": {},
     "output_type": "execute_result"
    }
   ],
   "source": [
    "model_2.inertia_"
   ]
  },
  {
   "cell_type": "code",
   "execution_count": 9212,
   "metadata": {},
   "outputs": [],
   "source": [
    "train_df['Unionsqare'] = Unionsqare\n",
    "# test_df['shops_distr'] = T_km_distr"
   ]
  },
  {
   "cell_type": "code",
   "execution_count": 9213,
   "metadata": {},
   "outputs": [
    {
     "data": {
      "text/html": [
       "<div>\n",
       "<style scoped>\n",
       "    .dataframe tbody tr th:only-of-type {\n",
       "        vertical-align: middle;\n",
       "    }\n",
       "\n",
       "    .dataframe tbody tr th {\n",
       "        vertical-align: top;\n",
       "    }\n",
       "\n",
       "    .dataframe thead th {\n",
       "        text-align: right;\n",
       "    }\n",
       "</style>\n",
       "<table border=\"1\" class=\"dataframe\">\n",
       "  <thead>\n",
       "    <tr style=\"text-align: right;\">\n",
       "      <th></th>\n",
       "      <th>DistrictId</th>\n",
       "      <th>Rooms</th>\n",
       "      <th>Square</th>\n",
       "      <th>LifeSquare</th>\n",
       "      <th>KitchenSquare</th>\n",
       "      <th>Floor</th>\n",
       "      <th>HouseFloor</th>\n",
       "      <th>HouseYear</th>\n",
       "      <th>Ecology_1</th>\n",
       "      <th>Social_1</th>\n",
       "      <th>...</th>\n",
       "      <th>Ecology_2_A</th>\n",
       "      <th>Ecology_2_B</th>\n",
       "      <th>Ecology_3_A</th>\n",
       "      <th>Ecology_3_B</th>\n",
       "      <th>Shops_2_A</th>\n",
       "      <th>Shops_2_B</th>\n",
       "      <th>DistritSize</th>\n",
       "      <th>square_per_meter</th>\n",
       "      <th>Unionsqare</th>\n",
       "      <th>index_square</th>\n",
       "    </tr>\n",
       "  </thead>\n",
       "  <tbody>\n",
       "    <tr>\n",
       "      <th>0</th>\n",
       "      <td>27</td>\n",
       "      <td>3.0</td>\n",
       "      <td>100.000000</td>\n",
       "      <td>32.781260</td>\n",
       "      <td>10.0</td>\n",
       "      <td>4</td>\n",
       "      <td>10.0</td>\n",
       "      <td>2014</td>\n",
       "      <td>0.075424</td>\n",
       "      <td>11</td>\n",
       "      <td>...</td>\n",
       "      <td>0</td>\n",
       "      <td>1</td>\n",
       "      <td>0</td>\n",
       "      <td>1</td>\n",
       "      <td>0</td>\n",
       "      <td>1</td>\n",
       "      <td>851</td>\n",
       "      <td>3050.188711</td>\n",
       "      <td>6</td>\n",
       "      <td>10.000000</td>\n",
       "    </tr>\n",
       "    <tr>\n",
       "      <th>1</th>\n",
       "      <td>22</td>\n",
       "      <td>1.0</td>\n",
       "      <td>39.832524</td>\n",
       "      <td>23.169223</td>\n",
       "      <td>8.0</td>\n",
       "      <td>7</td>\n",
       "      <td>8.0</td>\n",
       "      <td>1966</td>\n",
       "      <td>0.118537</td>\n",
       "      <td>30</td>\n",
       "      <td>...</td>\n",
       "      <td>0</td>\n",
       "      <td>1</td>\n",
       "      <td>0</td>\n",
       "      <td>1</td>\n",
       "      <td>0</td>\n",
       "      <td>1</td>\n",
       "      <td>78</td>\n",
       "      <td>4462.045990</td>\n",
       "      <td>0</td>\n",
       "      <td>4.979065</td>\n",
       "    </tr>\n",
       "    <tr>\n",
       "      <th>2</th>\n",
       "      <td>1</td>\n",
       "      <td>3.0</td>\n",
       "      <td>78.342215</td>\n",
       "      <td>47.671972</td>\n",
       "      <td>10.0</td>\n",
       "      <td>2</td>\n",
       "      <td>17.0</td>\n",
       "      <td>1988</td>\n",
       "      <td>0.025609</td>\n",
       "      <td>33</td>\n",
       "      <td>...</td>\n",
       "      <td>0</td>\n",
       "      <td>1</td>\n",
       "      <td>0</td>\n",
       "      <td>1</td>\n",
       "      <td>0</td>\n",
       "      <td>1</td>\n",
       "      <td>652</td>\n",
       "      <td>3600.596698</td>\n",
       "      <td>2</td>\n",
       "      <td>7.834222</td>\n",
       "    </tr>\n",
       "    <tr>\n",
       "      <th>3</th>\n",
       "      <td>1</td>\n",
       "      <td>1.0</td>\n",
       "      <td>40.409907</td>\n",
       "      <td>32.781260</td>\n",
       "      <td>6.0</td>\n",
       "      <td>10</td>\n",
       "      <td>22.0</td>\n",
       "      <td>1977</td>\n",
       "      <td>0.007122</td>\n",
       "      <td>1</td>\n",
       "      <td>...</td>\n",
       "      <td>0</td>\n",
       "      <td>1</td>\n",
       "      <td>0</td>\n",
       "      <td>1</td>\n",
       "      <td>0</td>\n",
       "      <td>1</td>\n",
       "      <td>652</td>\n",
       "      <td>4160.019670</td>\n",
       "      <td>5</td>\n",
       "      <td>6.734984</td>\n",
       "    </tr>\n",
       "    <tr>\n",
       "      <th>4</th>\n",
       "      <td>94</td>\n",
       "      <td>2.0</td>\n",
       "      <td>64.285067</td>\n",
       "      <td>38.562517</td>\n",
       "      <td>9.0</td>\n",
       "      <td>16</td>\n",
       "      <td>16.0</td>\n",
       "      <td>1972</td>\n",
       "      <td>0.282798</td>\n",
       "      <td>33</td>\n",
       "      <td>...</td>\n",
       "      <td>0</td>\n",
       "      <td>1</td>\n",
       "      <td>0</td>\n",
       "      <td>1</td>\n",
       "      <td>0</td>\n",
       "      <td>1</td>\n",
       "      <td>89</td>\n",
       "      <td>5351.088794</td>\n",
       "      <td>1</td>\n",
       "      <td>7.142785</td>\n",
       "    </tr>\n",
       "  </tbody>\n",
       "</table>\n",
       "<p>5 rows × 27 columns</p>\n",
       "</div>"
      ],
      "text/plain": [
       "   DistrictId  Rooms      Square  LifeSquare  KitchenSquare  Floor  \\\n",
       "0          27    3.0  100.000000   32.781260           10.0      4   \n",
       "1          22    1.0   39.832524   23.169223            8.0      7   \n",
       "2           1    3.0   78.342215   47.671972           10.0      2   \n",
       "3           1    1.0   40.409907   32.781260            6.0     10   \n",
       "4          94    2.0   64.285067   38.562517            9.0     16   \n",
       "\n",
       "   HouseFloor  HouseYear  Ecology_1  Social_1  ...  Ecology_2_A  Ecology_2_B  \\\n",
       "0        10.0       2014   0.075424        11  ...            0            1   \n",
       "1         8.0       1966   0.118537        30  ...            0            1   \n",
       "2        17.0       1988   0.025609        33  ...            0            1   \n",
       "3        22.0       1977   0.007122         1  ...            0            1   \n",
       "4        16.0       1972   0.282798        33  ...            0            1   \n",
       "\n",
       "   Ecology_3_A  Ecology_3_B  Shops_2_A  Shops_2_B  DistritSize  \\\n",
       "0            0            1          0          1          851   \n",
       "1            0            1          0          1           78   \n",
       "2            0            1          0          1          652   \n",
       "3            0            1          0          1          652   \n",
       "4            0            1          0          1           89   \n",
       "\n",
       "   square_per_meter  Unionsqare  index_square  \n",
       "0       3050.188711           6     10.000000  \n",
       "1       4462.045990           0      4.979065  \n",
       "2       3600.596698           2      7.834222  \n",
       "3       4160.019670           5      6.734984  \n",
       "4       5351.088794           1      7.142785  \n",
       "\n",
       "[5 rows x 27 columns]"
      ]
     },
     "execution_count": 9213,
     "metadata": {},
     "output_type": "execute_result"
    }
   ],
   "source": [
    "train_df['index_square'] = train_df['Square'] / train_df['KitchenSquare']\n",
    "# train_df['index_square'] = (train_df['LifeSquare'] + train_df['KitchenSquare'])/train_df['Square']\n",
    "# train_df.loc[train_df['index_square']>1,'index_square'] = 1 \n",
    "train_df.head()"
   ]
  },
  {
   "cell_type": "markdown",
   "metadata": {},
   "source": [
    "### Floor"
   ]
  },
  {
   "cell_type": "code",
   "execution_count": 9214,
   "metadata": {},
   "outputs": [
    {
     "data": {
      "text/plain": [
       "count    10000.000000\n",
       "mean         8.526700\n",
       "std          5.241148\n",
       "min          1.000000\n",
       "25%          4.000000\n",
       "50%          7.000000\n",
       "75%         12.000000\n",
       "max         42.000000\n",
       "Name: Floor, dtype: float64"
      ]
     },
     "execution_count": 9214,
     "metadata": {},
     "output_type": "execute_result"
    }
   ],
   "source": [
    "train_df['Floor'].describe()"
   ]
  },
  {
   "cell_type": "code",
   "execution_count": 9215,
   "metadata": {},
   "outputs": [],
   "source": [
    "median_fl = train_df['Floor'].median()\n",
    "train_df.loc[train_df['Floor']== 0,'Floor'] = median_fl\n",
    "\n",
    "test_df.loc[test_df['Floor']== 0,'Floor'] = median_fl"
   ]
  },
  {
   "cell_type": "code",
   "execution_count": 9216,
   "metadata": {},
   "outputs": [],
   "source": [
    "# test_df['Floor'].describe()"
   ]
  },
  {
   "cell_type": "markdown",
   "metadata": {},
   "source": [
    "### HouseFloor"
   ]
  },
  {
   "cell_type": "code",
   "execution_count": 9217,
   "metadata": {},
   "outputs": [],
   "source": [
    "# train_df['HouseFloor'].describe()"
   ]
  },
  {
   "cell_type": "code",
   "execution_count": 9218,
   "metadata": {},
   "outputs": [],
   "source": [
    "median_hfl = train_df['HouseFloor'].median()\n",
    "train_df.loc[train_df['HouseFloor']== 0,'HouseFloor'] = median_hfl\n",
    "test_df.loc[test_df['HouseFloor']== 0,'HouseFloor'] = median_hfl\n"
   ]
  },
  {
   "cell_type": "code",
   "execution_count": 9219,
   "metadata": {},
   "outputs": [],
   "source": [
    "# test_df['HouseFloor'].describe()"
   ]
  },
  {
   "cell_type": "markdown",
   "metadata": {},
   "source": [
    "### HouseYear"
   ]
  },
  {
   "cell_type": "code",
   "execution_count": 9220,
   "metadata": {},
   "outputs": [
    {
     "data": {
      "text/plain": [
       "count    1.000000e+04\n",
       "mean     3.990166e+03\n",
       "std      2.005003e+05\n",
       "min      1.910000e+03\n",
       "25%      1.974000e+03\n",
       "50%      1.977000e+03\n",
       "75%      2.001000e+03\n",
       "max      2.005201e+07\n",
       "Name: HouseYear, dtype: float64"
      ]
     },
     "execution_count": 9220,
     "metadata": {},
     "output_type": "execute_result"
    }
   ],
   "source": [
    "train_df['HouseYear'].describe()"
   ]
  },
  {
   "cell_type": "code",
   "execution_count": 9221,
   "metadata": {},
   "outputs": [],
   "source": [
    "median_hy = train_df['HouseYear'].median()\n",
    "train_df.loc[train_df['HouseYear']== 0,'HouseYear'] =median_hy\n",
    "\n",
    "train_df.loc[train_df['HouseYear']<1974,'HouseYear'] = median_hy\n",
    "train_df.loc[train_df['HouseYear']>2001,'HouseYear'] = median_hy\n",
    "test_df.loc[test_df['HouseYear']== 0,'HouseYear'] =median_hy\n",
    "\n",
    "test_df.loc[test_df['HouseYear']<1974,'HouseYear'] = median_hy\n",
    "test_df.loc[test_df['HouseYear']>2001,'HouseYear'] = median_hy\n"
   ]
  },
  {
   "cell_type": "markdown",
   "metadata": {},
   "source": [
    "### Social"
   ]
  },
  {
   "cell_type": "code",
   "execution_count": 9222,
   "metadata": {},
   "outputs": [
    {
     "data": {
      "text/plain": [
       "<matplotlib.collections.PathCollection at 0x12940727e20>"
      ]
     },
     "execution_count": 9222,
     "metadata": {},
     "output_type": "execute_result"
    },
    {
     "data": {
      "image/png": "[encoded data removed]",
      "text/plain": [
       "<Figure size 432x288 with 1 Axes>"
      ]
     },
     "metadata": {
      "needs_background": "light"
     },
     "output_type": "display_data"
    }
   ],
   "source": [
    "import matplotlib.pyplot as plt \n",
    "# plt.scatter(train_df['Social_2'],train_df['Social_2'])\n",
    "# plt.scatter(train_df['Social_1'],train_df['Social_3'])\n",
    "plt.scatter(train_df['Social_1'],train_df['Social_2'])"
   ]
  },
  {
   "cell_type": "code",
   "execution_count": 9223,
   "metadata": {},
   "outputs": [
    {
     "data": {
      "text/plain": [
       "count    10000.000000\n",
       "mean      5352.157400\n",
       "std       4006.799803\n",
       "min        168.000000\n",
       "25%       1564.000000\n",
       "50%       5285.000000\n",
       "75%       7227.000000\n",
       "max      19083.000000\n",
       "Name: Social_2, dtype: float64"
      ]
     },
     "execution_count": 9223,
     "metadata": {},
     "output_type": "execute_result"
    }
   ],
   "source": [
    "train_df['Social_2'].describe()"
   ]
  },
  {
   "cell_type": "code",
   "execution_count": 9224,
   "metadata": {},
   "outputs": [],
   "source": [
    "median_s_2 = train_df['Social_2'].median()\n",
    "train_df.loc[train_df['Social_2']<1500,'Social_2'] =median_s_2\n",
    "train_df.loc[train_df['Social_2']>8000,'Social_2'] =median_s_2\n",
    "test_df.loc[test_df['Social_2']<1500,'Social_2'] =median_s_2\n",
    "test_df.loc[test_df['Social_2']>8000,'Social_2'] =median_s_2"
   ]
  },
  {
   "cell_type": "code",
   "execution_count": 9225,
   "metadata": {},
   "outputs": [
    {
     "data": {
      "text/plain": [
       "count    10000.000000\n",
       "mean        24.687000\n",
       "std         17.532614\n",
       "min          0.000000\n",
       "25%          6.000000\n",
       "50%         25.000000\n",
       "75%         36.000000\n",
       "max         74.000000\n",
       "Name: Social_1, dtype: float64"
      ]
     },
     "execution_count": 9225,
     "metadata": {},
     "output_type": "execute_result"
    }
   ],
   "source": [
    "train_df['Social_1'].describe()"
   ]
  },
  {
   "cell_type": "code",
   "execution_count": 9226,
   "metadata": {},
   "outputs": [],
   "source": [
    "median_s_1 = train_df['Social_1'].median()\n",
    "train_df.loc[train_df['Social_1']<6,'Social_1'] =median_s_1\n",
    "train_df.loc[train_df['Social_1']>36,'Social_1'] =median_s_1\n",
    "\n",
    "test_df.loc[test_df['Social_1']<6,'Social_1'] =median_s_1\n",
    "test_df.loc[test_df['Social_1']>36,'Social_1'] =median_s_1"
   ]
  },
  {
   "cell_type": "code",
   "execution_count": 9227,
   "metadata": {},
   "outputs": [],
   "source": [
    "from sklearn.preprocessing import StandardScaler\n",
    "scaler = StandardScaler(with_mean=False)\n",
    "feats2 = ['Social_1','Social_2']\n",
    "social_df = train_df [feats2]\n",
    "\n",
    "social_df_ckld = scaler.fit_transform(social_df)\n",
    "\n",
    "#test\n",
    "\n",
    "T_social_df = test_df [feats2]\n",
    "\n",
    "T_social_df_ckld = scaler.fit_transform(T_social_df )"
   ]
  },
  {
   "cell_type": "code",
   "execution_count": 9228,
   "metadata": {},
   "outputs": [
    {
     "data": {
      "text/plain": [
       "array([[ 2.47095526],\n",
       "       [-1.15648398],\n",
       "       [-1.02724361],\n",
       "       ...,\n",
       "       [ 0.8426549 ],\n",
       "       [-0.15129684],\n",
       "       [-0.15129684]])"
      ]
     },
     "execution_count": 9228,
     "metadata": {},
     "output_type": "execute_result"
    }
   ],
   "source": [
    "from sklearn.decomposition import PCA\n",
    "pca = PCA(n_components =1)\n",
    "pca_social = pca.fit_transform(social_df_ckld)\n",
    "pca_social\n",
    "# pca.explained_variance_ratio_"
   ]
  },
  {
   "cell_type": "code",
   "execution_count": 9229,
   "metadata": {},
   "outputs": [
    {
     "data": {
      "text/plain": [
       "array([[ 0.40638796],\n",
       "       [-0.14580777],\n",
       "       [ 3.29992779],\n",
       "       ...,\n",
       "       [-1.08842962],\n",
       "       [-2.35071119],\n",
       "       [-0.14580777]])"
      ]
     },
     "execution_count": 9229,
     "metadata": {},
     "output_type": "execute_result"
    }
   ],
   "source": [
    "from sklearn.decomposition import PCA\n",
    "pca = PCA(n_components =1)\n",
    "pca_social_T = pca.fit_transform(T_social_df_ckld)\n",
    "pca_social_T"
   ]
  },
  {
   "cell_type": "code",
   "execution_count": 9230,
   "metadata": {},
   "outputs": [],
   "source": [
    "train_df['PSA_social1_2'] = pca_social\n",
    "test_df['PSA_social1_2'] = pca_social_T"
   ]
  },
  {
   "cell_type": "code",
   "execution_count": 9231,
   "metadata": {},
   "outputs": [],
   "source": [
    "# train_df['Social_3'].describe()\n"
   ]
  },
  {
   "cell_type": "code",
   "execution_count": 9232,
   "metadata": {},
   "outputs": [
    {
     "data": {
      "image/png": "[encoded data removed]",
      "text/plain": [
       "<Figure size 1440x720 with 1 Axes>"
      ]
     },
     "metadata": {
      "needs_background": "light"
     },
     "output_type": "display_data"
    }
   ],
   "source": [
    "plt.figure (figsize=(20,10))\n",
    "plt.axis([0,100,0,5000])\n",
    "\n",
    "train_df['Social_3'].hist(bins = 40, edgecolor = 'black')\n",
    "\n",
    "\n",
    "plt.ylabel('Count')\n",
    "plt.xlabel('Social_3')\n",
    "\n",
    "plt.title ('Social_3 distribution')\n",
    "# print(hist_info)\n",
    "plt.show()"
   ]
  },
  {
   "cell_type": "code",
   "execution_count": 9233,
   "metadata": {},
   "outputs": [],
   "source": [
    "median_s_3 = train_df['Social_3'].median()\n",
    "# train_df.loc[train_df['Social_3']<1,'Social_3'] =median_s_3\n",
    "train_df.loc[train_df['Social_3']>30,'Social_3'] =median_s_3\n",
    "# train_df['Social_3'].describe()"
   ]
  },
  {
   "cell_type": "code",
   "execution_count": 9234,
   "metadata": {},
   "outputs": [],
   "source": [
    "\n",
    "# train_df.loc[train_df['Social_3']<1,'Social_3'] =median_s_3\n",
    "test_df.loc[test_df['Social_3']>30,'Social_3'] =median_s_3\n",
    "# test_df['Social_3'].describe()"
   ]
  },
  {
   "cell_type": "markdown",
   "metadata": {},
   "source": [
    "### Healthcare"
   ]
  },
  {
   "cell_type": "markdown",
   "metadata": {},
   "source": [
    "#### 1"
   ]
  },
  {
   "cell_type": "code",
   "execution_count": 9235,
   "metadata": {},
   "outputs": [],
   "source": [
    "train_df['Healthcare_1'] = train_df['Healthcare_1'].fillna(0)\n",
    "# train_df['Healthcare_1'].describe()\n",
    "test_df['Healthcare_1'] = test_df['Healthcare_1'].fillna(0)"
   ]
  },
  {
   "cell_type": "code",
   "execution_count": 9236,
   "metadata": {},
   "outputs": [
    {
     "data": {
      "image/png": "[encoded data removed]",
      "text/plain": [
       "<Figure size 1440x720 with 1 Axes>"
      ]
     },
     "metadata": {
      "needs_background": "light"
     },
     "output_type": "display_data"
    }
   ],
   "source": [
    "plt.figure (figsize=(20,10))\n",
    "plt.axis([0,3000,0,10000])\n",
    "\n",
    "train_df['Healthcare_1'].hist(bins = 40, edgecolor = 'black')\n",
    "\n",
    "\n",
    "plt.ylabel('Count')\n",
    "plt.xlabel('Healthcare_1')\n",
    "\n",
    "plt.title ('Healthcare_1 distribution')\n",
    "# print(hist_info)\n",
    "plt.show()"
   ]
  },
  {
   "cell_type": "code",
   "execution_count": 9237,
   "metadata": {},
   "outputs": [],
   "source": [
    "median_HC_1 = train_df['Healthcare_1'].median()\n",
    "train_df.loc[train_df['Healthcare_1']<10,'Healthcare_1'] =median_HC_1\n",
    "train_df.loc[train_df['Healthcare_1']>700,'Healthcare_1'] =median_HC_1\n",
    "# train_df['Healthcare_1'].describe()\n",
    "test_df.loc[test_df['Healthcare_1']<10,'Healthcare_1'] =median_HC_1\n",
    "test_df.loc[test_df['Healthcare_1']>700,'Healthcare_1'] =median_HC_1"
   ]
  },
  {
   "cell_type": "code",
   "execution_count": 9238,
   "metadata": {},
   "outputs": [],
   "source": [
    "# plt.figure (figsize=(20,10))\n",
    "# plt.axis([0,1550,0,10500])\n",
    "\n",
    "# train_df['Healthcare_1'].hist(bins = 40, edgecolor = 'black')\n",
    "\n",
    "\n",
    "# plt.ylabel('Count')\n",
    "# plt.xlabel('Healthcare_1')\n",
    "\n",
    "# plt.title ('Healthcare_1 distribution')\n",
    "# # print(hist_info)\n",
    "# plt.show()"
   ]
  },
  {
   "cell_type": "code",
   "execution_count": 9239,
   "metadata": {},
   "outputs": [],
   "source": [
    "train_df['Healthcare_1'] = train_df['Healthcare_1'].fillna(0)\n",
    "median_HC_1 = train_df['Healthcare_1'].median()\n",
    "train_df.loc[train_df['Healthcare_1']==0,'Healthcare_1'] =median_HC_1\n",
    "\n",
    "test_df['Healthcare_1'] = test_df['Healthcare_1'].fillna(0)\n",
    "\n",
    "test_df.loc[test_df['Healthcare_1']==0,'Healthcare_1'] =median_HC_1\n"
   ]
  },
  {
   "cell_type": "markdown",
   "metadata": {},
   "source": [
    "#### 2"
   ]
  },
  {
   "cell_type": "code",
   "execution_count": 9240,
   "metadata": {},
   "outputs": [],
   "source": [
    "# plt.figure (figsize=(20,10))\n",
    "\n",
    "\n",
    "# train_df['Helthcare_2'].hist(bins = 40, edgecolor = 'black')\n",
    "\n",
    "\n",
    "# plt.ylabel('Count')\n",
    "# plt.xlabel('Helthcare_2')\n",
    "\n",
    "# plt.title ('Helthcare_2 distribution')\n",
    "# # print(hist_info)\n",
    "# plt.show()"
   ]
  },
  {
   "cell_type": "code",
   "execution_count": 9241,
   "metadata": {},
   "outputs": [],
   "source": [
    "train_df['Helthcare_2'] = train_df['Helthcare_2'].fillna(0)\n",
    "median_HC_2 = train_df['Helthcare_2'].median()\n",
    "train_df.loc[train_df['Helthcare_2']==0,'Helthcare_2'] =median_HC_2\n",
    "# train_df.loc[train_df['Helthcare_2']>3,'Helthcare_2'] =median_HC_2\n",
    "\n",
    "test_df['Helthcare_2'] = test_df['Helthcare_2'].fillna(0)\n",
    "\n",
    "test_df.loc[test_df['Helthcare_2']==0,'Helthcare_2'] =median_HC_2"
   ]
  },
  {
   "cell_type": "code",
   "execution_count": 9242,
   "metadata": {},
   "outputs": [
    {
     "data": {
      "text/plain": [
       "count    5000.0000\n",
       "mean        1.7386\n",
       "std         1.1521\n",
       "min         1.0000\n",
       "25%         1.0000\n",
       "50%         1.0000\n",
       "75%         2.0000\n",
       "max         6.0000\n",
       "Name: Helthcare_2, dtype: float64"
      ]
     },
     "execution_count": 9242,
     "metadata": {},
     "output_type": "execute_result"
    }
   ],
   "source": [
    "test_df['Helthcare_2'].describe()"
   ]
  },
  {
   "cell_type": "code",
   "execution_count": 9243,
   "metadata": {},
   "outputs": [
    {
     "name": "stdout",
     "output_type": "stream",
     "text": [
      "<class 'pandas.core.frame.DataFrame'>\n",
      "Int64Index: 10000 entries, 0 to 9999\n",
      "Data columns (total 28 columns):\n",
      " #   Column            Non-Null Count  Dtype  \n",
      "---  ------            --------------  -----  \n",
      " 0   DistrictId        10000 non-null  int32  \n",
      " 1   Rooms             10000 non-null  float64\n",
      " 2   Square            10000 non-null  float64\n",
      " 3   LifeSquare        10000 non-null  float64\n",
      " 4   KitchenSquare     10000 non-null  float64\n",
      " 5   Floor             10000 non-null  int64  \n",
      " 6   HouseFloor        10000 non-null  float64\n",
      " 7   HouseYear         10000 non-null  int64  \n",
      " 8   Ecology_1         10000 non-null  float64\n",
      " 9   Social_1          10000 non-null  int64  \n",
      " 10  Social_2          10000 non-null  int64  \n",
      " 11  Social_3          10000 non-null  int64  \n",
      " 12  Healthcare_1      10000 non-null  float64\n",
      " 13  Helthcare_2       10000 non-null  int64  \n",
      " 14  Shops_1           10000 non-null  int64  \n",
      " 15  Price             10000 non-null  float64\n",
      " 16  shops_distr       10000 non-null  int32  \n",
      " 17  Ecology_2_A       10000 non-null  uint8  \n",
      " 18  Ecology_2_B       10000 non-null  uint8  \n",
      " 19  Ecology_3_A       10000 non-null  uint8  \n",
      " 20  Ecology_3_B       10000 non-null  uint8  \n",
      " 21  Shops_2_A         10000 non-null  uint8  \n",
      " 22  Shops_2_B         10000 non-null  uint8  \n",
      " 23  DistritSize       10000 non-null  int64  \n",
      " 24  square_per_meter  10000 non-null  float64\n",
      " 25  Unionsqare        10000 non-null  int32  \n",
      " 26  index_square      10000 non-null  float64\n",
      " 27  PSA_social1_2     10000 non-null  float64\n",
      "dtypes: float64(11), int32(3), int64(8), uint8(6)\n",
      "memory usage: 1.9 MB\n"
     ]
    }
   ],
   "source": [
    "train_df.info()"
   ]
  },
  {
   "cell_type": "code",
   "execution_count": 9244,
   "metadata": {},
   "outputs": [
    {
     "data": {
      "text/html": [
       "<div>\n",
       "<style scoped>\n",
       "    .dataframe tbody tr th:only-of-type {\n",
       "        vertical-align: middle;\n",
       "    }\n",
       "\n",
       "    .dataframe tbody tr th {\n",
       "        vertical-align: top;\n",
       "    }\n",
       "\n",
       "    .dataframe thead th {\n",
       "        text-align: right;\n",
       "    }\n",
       "</style>\n",
       "<table border=\"1\" class=\"dataframe\">\n",
       "  <thead>\n",
       "    <tr style=\"text-align: right;\">\n",
       "      <th></th>\n",
       "      <th>DistrictId</th>\n",
       "      <th>Rooms</th>\n",
       "      <th>Square</th>\n",
       "      <th>LifeSquare</th>\n",
       "      <th>KitchenSquare</th>\n",
       "      <th>Floor</th>\n",
       "      <th>HouseFloor</th>\n",
       "      <th>HouseYear</th>\n",
       "      <th>Ecology_1</th>\n",
       "      <th>Social_1</th>\n",
       "      <th>...</th>\n",
       "      <th>Ecology_2_B</th>\n",
       "      <th>Ecology_3_A</th>\n",
       "      <th>Ecology_3_B</th>\n",
       "      <th>Shops_2_A</th>\n",
       "      <th>Shops_2_B</th>\n",
       "      <th>DistritSize</th>\n",
       "      <th>square_per_meter</th>\n",
       "      <th>Unionsqare</th>\n",
       "      <th>index_square</th>\n",
       "      <th>PSA_social1_2</th>\n",
       "    </tr>\n",
       "  </thead>\n",
       "  <tbody>\n",
       "    <tr>\n",
       "      <th>9999</th>\n",
       "      <td>94</td>\n",
       "      <td>1.0</td>\n",
       "      <td>35.815476</td>\n",
       "      <td>22.301367</td>\n",
       "      <td>6.0</td>\n",
       "      <td>9</td>\n",
       "      <td>9.0</td>\n",
       "      <td>1975</td>\n",
       "      <td>0.127376</td>\n",
       "      <td>25</td>\n",
       "      <td>...</td>\n",
       "      <td>1</td>\n",
       "      <td>0</td>\n",
       "      <td>1</td>\n",
       "      <td>0</td>\n",
       "      <td>1</td>\n",
       "      <td>89</td>\n",
       "      <td>4961.140965</td>\n",
       "      <td>0</td>\n",
       "      <td>5.969246</td>\n",
       "      <td>-0.151297</td>\n",
       "    </tr>\n",
       "  </tbody>\n",
       "</table>\n",
       "<p>1 rows × 28 columns</p>\n",
       "</div>"
      ],
      "text/plain": [
       "      DistrictId  Rooms     Square  LifeSquare  KitchenSquare  Floor  \\\n",
       "9999          94    1.0  35.815476   22.301367            6.0      9   \n",
       "\n",
       "      HouseFloor  HouseYear  Ecology_1  Social_1  ...  Ecology_2_B  \\\n",
       "9999         9.0       1975   0.127376        25  ...            1   \n",
       "\n",
       "      Ecology_3_A  Ecology_3_B  Shops_2_A  Shops_2_B  DistritSize  \\\n",
       "9999            0            1          0          1           89   \n",
       "\n",
       "      square_per_meter  Unionsqare  index_square  PSA_social1_2  \n",
       "9999       4961.140965           0      5.969246      -0.151297  \n",
       "\n",
       "[1 rows x 28 columns]"
      ]
     },
     "execution_count": 9244,
     "metadata": {},
     "output_type": "execute_result"
    }
   ],
   "source": [
    "train_df.tail(1)"
   ]
  },
  {
   "cell_type": "code",
   "execution_count": 9245,
   "metadata": {},
   "outputs": [
    {
     "data": {
      "text/html": [
       "<div>\n",
       "<style scoped>\n",
       "    .dataframe tbody tr th:only-of-type {\n",
       "        vertical-align: middle;\n",
       "    }\n",
       "\n",
       "    .dataframe tbody tr th {\n",
       "        vertical-align: top;\n",
       "    }\n",
       "\n",
       "    .dataframe thead th {\n",
       "        text-align: right;\n",
       "    }\n",
       "</style>\n",
       "<table border=\"1\" class=\"dataframe\">\n",
       "  <thead>\n",
       "    <tr style=\"text-align: right;\">\n",
       "      <th></th>\n",
       "      <th>DistrictId</th>\n",
       "      <th>Rooms</th>\n",
       "      <th>Square</th>\n",
       "      <th>LifeSquare</th>\n",
       "      <th>KitchenSquare</th>\n",
       "      <th>Floor</th>\n",
       "      <th>HouseFloor</th>\n",
       "      <th>HouseYear</th>\n",
       "      <th>Ecology_1</th>\n",
       "      <th>Social_1</th>\n",
       "      <th>...</th>\n",
       "      <th>Ecology_2_B</th>\n",
       "      <th>Ecology_3_A</th>\n",
       "      <th>Ecology_3_B</th>\n",
       "      <th>Shops_2_A</th>\n",
       "      <th>Shops_2_B</th>\n",
       "      <th>DistritSize</th>\n",
       "      <th>square_per_meter</th>\n",
       "      <th>Unionsqare</th>\n",
       "      <th>index_square</th>\n",
       "      <th>PSA_social1_2</th>\n",
       "    </tr>\n",
       "  </thead>\n",
       "  <tbody>\n",
       "    <tr>\n",
       "      <th>DistrictId</th>\n",
       "      <td>1.00</td>\n",
       "      <td>0.07</td>\n",
       "      <td>-0.04</td>\n",
       "      <td>-0.04</td>\n",
       "      <td>0.06</td>\n",
       "      <td>-0.12</td>\n",
       "      <td>-0.17</td>\n",
       "      <td>0.04</td>\n",
       "      <td>0.07</td>\n",
       "      <td>0.01</td>\n",
       "      <td>...</td>\n",
       "      <td>-0.09</td>\n",
       "      <td>0.03</td>\n",
       "      <td>-0.03</td>\n",
       "      <td>0.02</td>\n",
       "      <td>-0.02</td>\n",
       "      <td>-0.52</td>\n",
       "      <td>0.38</td>\n",
       "      <td>-0.13</td>\n",
       "      <td>-0.07</td>\n",
       "      <td>-0.06</td>\n",
       "    </tr>\n",
       "    <tr>\n",
       "      <th>Rooms</th>\n",
       "      <td>0.07</td>\n",
       "      <td>1.00</td>\n",
       "      <td>0.79</td>\n",
       "      <td>0.58</td>\n",
       "      <td>0.06</td>\n",
       "      <td>-0.00</td>\n",
       "      <td>-0.04</td>\n",
       "      <td>0.04</td>\n",
       "      <td>-0.03</td>\n",
       "      <td>0.04</td>\n",
       "      <td>...</td>\n",
       "      <td>0.00</td>\n",
       "      <td>0.01</td>\n",
       "      <td>-0.01</td>\n",
       "      <td>0.00</td>\n",
       "      <td>-0.00</td>\n",
       "      <td>-0.09</td>\n",
       "      <td>-0.03</td>\n",
       "      <td>0.15</td>\n",
       "      <td>0.65</td>\n",
       "      <td>-0.04</td>\n",
       "    </tr>\n",
       "    <tr>\n",
       "      <th>Square</th>\n",
       "      <td>-0.04</td>\n",
       "      <td>0.79</td>\n",
       "      <td>1.00</td>\n",
       "      <td>0.68</td>\n",
       "      <td>0.13</td>\n",
       "      <td>0.14</td>\n",
       "      <td>0.13</td>\n",
       "      <td>0.05</td>\n",
       "      <td>-0.07</td>\n",
       "      <td>-0.04</td>\n",
       "      <td>...</td>\n",
       "      <td>0.03</td>\n",
       "      <td>-0.03</td>\n",
       "      <td>0.03</td>\n",
       "      <td>0.06</td>\n",
       "      <td>-0.06</td>\n",
       "      <td>0.07</td>\n",
       "      <td>-0.17</td>\n",
       "      <td>0.18</td>\n",
       "      <td>0.80</td>\n",
       "      <td>0.03</td>\n",
       "    </tr>\n",
       "    <tr>\n",
       "      <th>LifeSquare</th>\n",
       "      <td>-0.04</td>\n",
       "      <td>0.58</td>\n",
       "      <td>0.68</td>\n",
       "      <td>1.00</td>\n",
       "      <td>0.06</td>\n",
       "      <td>0.09</td>\n",
       "      <td>0.09</td>\n",
       "      <td>-0.02</td>\n",
       "      <td>-0.05</td>\n",
       "      <td>-0.04</td>\n",
       "      <td>...</td>\n",
       "      <td>0.02</td>\n",
       "      <td>-0.03</td>\n",
       "      <td>0.03</td>\n",
       "      <td>0.02</td>\n",
       "      <td>-0.02</td>\n",
       "      <td>0.08</td>\n",
       "      <td>-0.14</td>\n",
       "      <td>0.29</td>\n",
       "      <td>0.55</td>\n",
       "      <td>0.03</td>\n",
       "    </tr>\n",
       "    <tr>\n",
       "      <th>KitchenSquare</th>\n",
       "      <td>0.06</td>\n",
       "      <td>0.06</td>\n",
       "      <td>0.13</td>\n",
       "      <td>0.06</td>\n",
       "      <td>1.00</td>\n",
       "      <td>0.16</td>\n",
       "      <td>0.30</td>\n",
       "      <td>0.40</td>\n",
       "      <td>-0.02</td>\n",
       "      <td>0.04</td>\n",
       "      <td>...</td>\n",
       "      <td>0.04</td>\n",
       "      <td>0.01</td>\n",
       "      <td>-0.01</td>\n",
       "      <td>0.01</td>\n",
       "      <td>-0.01</td>\n",
       "      <td>-0.12</td>\n",
       "      <td>0.14</td>\n",
       "      <td>-0.19</td>\n",
       "      <td>-0.46</td>\n",
       "      <td>-0.04</td>\n",
       "    </tr>\n",
       "    <tr>\n",
       "      <th>Floor</th>\n",
       "      <td>-0.12</td>\n",
       "      <td>-0.00</td>\n",
       "      <td>0.14</td>\n",
       "      <td>0.09</td>\n",
       "      <td>0.16</td>\n",
       "      <td>1.00</td>\n",
       "      <td>0.45</td>\n",
       "      <td>0.06</td>\n",
       "      <td>-0.02</td>\n",
       "      <td>-0.05</td>\n",
       "      <td>...</td>\n",
       "      <td>0.05</td>\n",
       "      <td>-0.03</td>\n",
       "      <td>0.03</td>\n",
       "      <td>0.01</td>\n",
       "      <td>-0.01</td>\n",
       "      <td>0.10</td>\n",
       "      <td>0.02</td>\n",
       "      <td>0.08</td>\n",
       "      <td>0.03</td>\n",
       "      <td>0.07</td>\n",
       "    </tr>\n",
       "    <tr>\n",
       "      <th>HouseFloor</th>\n",
       "      <td>-0.17</td>\n",
       "      <td>-0.04</td>\n",
       "      <td>0.13</td>\n",
       "      <td>0.09</td>\n",
       "      <td>0.30</td>\n",
       "      <td>0.45</td>\n",
       "      <td>1.00</td>\n",
       "      <td>0.15</td>\n",
       "      <td>-0.02</td>\n",
       "      <td>-0.06</td>\n",
       "      <td>...</td>\n",
       "      <td>0.07</td>\n",
       "      <td>-0.02</td>\n",
       "      <td>0.02</td>\n",
       "      <td>-0.00</td>\n",
       "      <td>0.00</td>\n",
       "      <td>0.14</td>\n",
       "      <td>-0.04</td>\n",
       "      <td>0.04</td>\n",
       "      <td>-0.04</td>\n",
       "      <td>0.07</td>\n",
       "    </tr>\n",
       "    <tr>\n",
       "      <th>HouseYear</th>\n",
       "      <td>0.04</td>\n",
       "      <td>0.04</td>\n",
       "      <td>0.05</td>\n",
       "      <td>-0.02</td>\n",
       "      <td>0.40</td>\n",
       "      <td>0.06</td>\n",
       "      <td>0.15</td>\n",
       "      <td>1.00</td>\n",
       "      <td>-0.04</td>\n",
       "      <td>0.08</td>\n",
       "      <td>...</td>\n",
       "      <td>0.02</td>\n",
       "      <td>0.02</td>\n",
       "      <td>-0.02</td>\n",
       "      <td>-0.00</td>\n",
       "      <td>0.00</td>\n",
       "      <td>-0.16</td>\n",
       "      <td>0.13</td>\n",
       "      <td>-0.20</td>\n",
       "      <td>-0.20</td>\n",
       "      <td>-0.07</td>\n",
       "    </tr>\n",
       "    <tr>\n",
       "      <th>Ecology_1</th>\n",
       "      <td>0.07</td>\n",
       "      <td>-0.03</td>\n",
       "      <td>-0.07</td>\n",
       "      <td>-0.05</td>\n",
       "      <td>-0.02</td>\n",
       "      <td>-0.02</td>\n",
       "      <td>-0.02</td>\n",
       "      <td>-0.04</td>\n",
       "      <td>1.00</td>\n",
       "      <td>-0.01</td>\n",
       "      <td>...</td>\n",
       "      <td>-0.11</td>\n",
       "      <td>0.22</td>\n",
       "      <td>-0.22</td>\n",
       "      <td>-0.08</td>\n",
       "      <td>0.08</td>\n",
       "      <td>-0.17</td>\n",
       "      <td>-0.01</td>\n",
       "      <td>-0.03</td>\n",
       "      <td>-0.05</td>\n",
       "      <td>0.14</td>\n",
       "    </tr>\n",
       "    <tr>\n",
       "      <th>Social_1</th>\n",
       "      <td>0.01</td>\n",
       "      <td>0.04</td>\n",
       "      <td>-0.04</td>\n",
       "      <td>-0.04</td>\n",
       "      <td>0.04</td>\n",
       "      <td>-0.05</td>\n",
       "      <td>-0.06</td>\n",
       "      <td>0.08</td>\n",
       "      <td>-0.01</td>\n",
       "      <td>1.00</td>\n",
       "      <td>...</td>\n",
       "      <td>0.02</td>\n",
       "      <td>0.12</td>\n",
       "      <td>-0.12</td>\n",
       "      <td>0.03</td>\n",
       "      <td>-0.03</td>\n",
       "      <td>-0.23</td>\n",
       "      <td>0.16</td>\n",
       "      <td>-0.09</td>\n",
       "      <td>-0.06</td>\n",
       "      <td>-0.87</td>\n",
       "    </tr>\n",
       "    <tr>\n",
       "      <th>Social_2</th>\n",
       "      <td>0.10</td>\n",
       "      <td>0.03</td>\n",
       "      <td>-0.01</td>\n",
       "      <td>-0.02</td>\n",
       "      <td>0.02</td>\n",
       "      <td>-0.07</td>\n",
       "      <td>-0.06</td>\n",
       "      <td>0.05</td>\n",
       "      <td>-0.23</td>\n",
       "      <td>0.51</td>\n",
       "      <td>...</td>\n",
       "      <td>-0.05</td>\n",
       "      <td>0.00</td>\n",
       "      <td>-0.00</td>\n",
       "      <td>0.07</td>\n",
       "      <td>-0.07</td>\n",
       "      <td>-0.27</td>\n",
       "      <td>0.15</td>\n",
       "      <td>-0.09</td>\n",
       "      <td>-0.03</td>\n",
       "      <td>-0.87</td>\n",
       "    </tr>\n",
       "    <tr>\n",
       "      <th>Social_3</th>\n",
       "      <td>0.39</td>\n",
       "      <td>0.06</td>\n",
       "      <td>-0.03</td>\n",
       "      <td>-0.02</td>\n",
       "      <td>0.03</td>\n",
       "      <td>-0.07</td>\n",
       "      <td>-0.10</td>\n",
       "      <td>0.00</td>\n",
       "      <td>0.25</td>\n",
       "      <td>-0.13</td>\n",
       "      <td>...</td>\n",
       "      <td>-0.07</td>\n",
       "      <td>0.12</td>\n",
       "      <td>-0.12</td>\n",
       "      <td>-0.11</td>\n",
       "      <td>0.11</td>\n",
       "      <td>-0.41</td>\n",
       "      <td>0.36</td>\n",
       "      <td>-0.09</td>\n",
       "      <td>-0.05</td>\n",
       "      <td>0.09</td>\n",
       "    </tr>\n",
       "    <tr>\n",
       "      <th>Healthcare_1</th>\n",
       "      <td>-0.11</td>\n",
       "      <td>0.00</td>\n",
       "      <td>0.03</td>\n",
       "      <td>0.03</td>\n",
       "      <td>-0.04</td>\n",
       "      <td>0.07</td>\n",
       "      <td>0.08</td>\n",
       "      <td>-0.08</td>\n",
       "      <td>0.13</td>\n",
       "      <td>0.06</td>\n",
       "      <td>...</td>\n",
       "      <td>0.01</td>\n",
       "      <td>0.01</td>\n",
       "      <td>-0.01</td>\n",
       "      <td>-0.10</td>\n",
       "      <td>0.10</td>\n",
       "      <td>0.05</td>\n",
       "      <td>-0.03</td>\n",
       "      <td>0.06</td>\n",
       "      <td>0.06</td>\n",
       "      <td>0.19</td>\n",
       "    </tr>\n",
       "    <tr>\n",
       "      <th>Helthcare_2</th>\n",
       "      <td>0.26</td>\n",
       "      <td>0.04</td>\n",
       "      <td>-0.02</td>\n",
       "      <td>-0.03</td>\n",
       "      <td>0.06</td>\n",
       "      <td>-0.06</td>\n",
       "      <td>-0.08</td>\n",
       "      <td>0.12</td>\n",
       "      <td>0.03</td>\n",
       "      <td>0.12</td>\n",
       "      <td>...</td>\n",
       "      <td>-0.08</td>\n",
       "      <td>0.11</td>\n",
       "      <td>-0.11</td>\n",
       "      <td>-0.09</td>\n",
       "      <td>0.09</td>\n",
       "      <td>-0.37</td>\n",
       "      <td>0.27</td>\n",
       "      <td>-0.10</td>\n",
       "      <td>-0.05</td>\n",
       "      <td>-0.16</td>\n",
       "    </tr>\n",
       "    <tr>\n",
       "      <th>Shops_1</th>\n",
       "      <td>0.17</td>\n",
       "      <td>0.05</td>\n",
       "      <td>0.01</td>\n",
       "      <td>0.01</td>\n",
       "      <td>0.11</td>\n",
       "      <td>0.02</td>\n",
       "      <td>0.00</td>\n",
       "      <td>0.16</td>\n",
       "      <td>-0.08</td>\n",
       "      <td>0.09</td>\n",
       "      <td>...</td>\n",
       "      <td>0.05</td>\n",
       "      <td>-0.00</td>\n",
       "      <td>0.00</td>\n",
       "      <td>-0.14</td>\n",
       "      <td>0.14</td>\n",
       "      <td>-0.41</td>\n",
       "      <td>0.22</td>\n",
       "      <td>-0.09</td>\n",
       "      <td>-0.06</td>\n",
       "      <td>-0.22</td>\n",
       "    </tr>\n",
       "    <tr>\n",
       "      <th>Price</th>\n",
       "      <td>0.27</td>\n",
       "      <td>0.56</td>\n",
       "      <td>0.60</td>\n",
       "      <td>0.41</td>\n",
       "      <td>0.23</td>\n",
       "      <td>0.13</td>\n",
       "      <td>0.09</td>\n",
       "      <td>0.15</td>\n",
       "      <td>-0.06</td>\n",
       "      <td>0.10</td>\n",
       "      <td>...</td>\n",
       "      <td>0.02</td>\n",
       "      <td>0.05</td>\n",
       "      <td>-0.05</td>\n",
       "      <td>-0.07</td>\n",
       "      <td>0.07</td>\n",
       "      <td>-0.38</td>\n",
       "      <td>0.65</td>\n",
       "      <td>-0.01</td>\n",
       "      <td>0.38</td>\n",
       "      <td>-0.12</td>\n",
       "    </tr>\n",
       "    <tr>\n",
       "      <th>shops_distr</th>\n",
       "      <td>-0.65</td>\n",
       "      <td>-0.02</td>\n",
       "      <td>0.05</td>\n",
       "      <td>0.05</td>\n",
       "      <td>0.01</td>\n",
       "      <td>0.12</td>\n",
       "      <td>0.12</td>\n",
       "      <td>0.03</td>\n",
       "      <td>-0.09</td>\n",
       "      <td>0.03</td>\n",
       "      <td>...</td>\n",
       "      <td>0.10</td>\n",
       "      <td>-0.11</td>\n",
       "      <td>0.11</td>\n",
       "      <td>-0.02</td>\n",
       "      <td>0.02</td>\n",
       "      <td>0.23</td>\n",
       "      <td>-0.17</td>\n",
       "      <td>0.08</td>\n",
       "      <td>0.04</td>\n",
       "      <td>-0.05</td>\n",
       "    </tr>\n",
       "    <tr>\n",
       "      <th>Ecology_2_A</th>\n",
       "      <td>0.09</td>\n",
       "      <td>-0.00</td>\n",
       "      <td>-0.03</td>\n",
       "      <td>-0.02</td>\n",
       "      <td>-0.04</td>\n",
       "      <td>-0.05</td>\n",
       "      <td>-0.07</td>\n",
       "      <td>-0.02</td>\n",
       "      <td>0.11</td>\n",
       "      <td>-0.02</td>\n",
       "      <td>...</td>\n",
       "      <td>-1.00</td>\n",
       "      <td>-0.02</td>\n",
       "      <td>0.02</td>\n",
       "      <td>0.02</td>\n",
       "      <td>-0.02</td>\n",
       "      <td>-0.05</td>\n",
       "      <td>0.00</td>\n",
       "      <td>-0.02</td>\n",
       "      <td>-0.01</td>\n",
       "      <td>-0.01</td>\n",
       "    </tr>\n",
       "    <tr>\n",
       "      <th>Ecology_2_B</th>\n",
       "      <td>-0.09</td>\n",
       "      <td>0.00</td>\n",
       "      <td>0.03</td>\n",
       "      <td>0.02</td>\n",
       "      <td>0.04</td>\n",
       "      <td>0.05</td>\n",
       "      <td>0.07</td>\n",
       "      <td>0.02</td>\n",
       "      <td>-0.11</td>\n",
       "      <td>0.02</td>\n",
       "      <td>...</td>\n",
       "      <td>1.00</td>\n",
       "      <td>0.02</td>\n",
       "      <td>-0.02</td>\n",
       "      <td>-0.02</td>\n",
       "      <td>0.02</td>\n",
       "      <td>0.05</td>\n",
       "      <td>-0.00</td>\n",
       "      <td>0.02</td>\n",
       "      <td>0.01</td>\n",
       "      <td>0.01</td>\n",
       "    </tr>\n",
       "    <tr>\n",
       "      <th>Ecology_3_A</th>\n",
       "      <td>0.03</td>\n",
       "      <td>0.01</td>\n",
       "      <td>-0.03</td>\n",
       "      <td>-0.03</td>\n",
       "      <td>0.01</td>\n",
       "      <td>-0.03</td>\n",
       "      <td>-0.02</td>\n",
       "      <td>0.02</td>\n",
       "      <td>0.22</td>\n",
       "      <td>0.12</td>\n",
       "      <td>...</td>\n",
       "      <td>0.02</td>\n",
       "      <td>1.00</td>\n",
       "      <td>-1.00</td>\n",
       "      <td>-0.05</td>\n",
       "      <td>0.05</td>\n",
       "      <td>-0.11</td>\n",
       "      <td>0.09</td>\n",
       "      <td>-0.07</td>\n",
       "      <td>-0.03</td>\n",
       "      <td>-0.07</td>\n",
       "    </tr>\n",
       "    <tr>\n",
       "      <th>Ecology_3_B</th>\n",
       "      <td>-0.03</td>\n",
       "      <td>-0.01</td>\n",
       "      <td>0.03</td>\n",
       "      <td>0.03</td>\n",
       "      <td>-0.01</td>\n",
       "      <td>0.03</td>\n",
       "      <td>0.02</td>\n",
       "      <td>-0.02</td>\n",
       "      <td>-0.22</td>\n",
       "      <td>-0.12</td>\n",
       "      <td>...</td>\n",
       "      <td>-0.02</td>\n",
       "      <td>-1.00</td>\n",
       "      <td>1.00</td>\n",
       "      <td>0.05</td>\n",
       "      <td>-0.05</td>\n",
       "      <td>0.11</td>\n",
       "      <td>-0.09</td>\n",
       "      <td>0.07</td>\n",
       "      <td>0.03</td>\n",
       "      <td>0.07</td>\n",
       "    </tr>\n",
       "    <tr>\n",
       "      <th>Shops_2_A</th>\n",
       "      <td>0.02</td>\n",
       "      <td>0.00</td>\n",
       "      <td>0.06</td>\n",
       "      <td>0.02</td>\n",
       "      <td>0.01</td>\n",
       "      <td>0.01</td>\n",
       "      <td>-0.00</td>\n",
       "      <td>-0.00</td>\n",
       "      <td>-0.08</td>\n",
       "      <td>0.03</td>\n",
       "      <td>...</td>\n",
       "      <td>-0.02</td>\n",
       "      <td>-0.05</td>\n",
       "      <td>0.05</td>\n",
       "      <td>1.00</td>\n",
       "      <td>-1.00</td>\n",
       "      <td>0.14</td>\n",
       "      <td>-0.13</td>\n",
       "      <td>0.05</td>\n",
       "      <td>0.05</td>\n",
       "      <td>-0.06</td>\n",
       "    </tr>\n",
       "    <tr>\n",
       "      <th>Shops_2_B</th>\n",
       "      <td>-0.02</td>\n",
       "      <td>-0.00</td>\n",
       "      <td>-0.06</td>\n",
       "      <td>-0.02</td>\n",
       "      <td>-0.01</td>\n",
       "      <td>-0.01</td>\n",
       "      <td>0.00</td>\n",
       "      <td>0.00</td>\n",
       "      <td>0.08</td>\n",
       "      <td>-0.03</td>\n",
       "      <td>...</td>\n",
       "      <td>0.02</td>\n",
       "      <td>0.05</td>\n",
       "      <td>-0.05</td>\n",
       "      <td>-1.00</td>\n",
       "      <td>1.00</td>\n",
       "      <td>-0.14</td>\n",
       "      <td>0.13</td>\n",
       "      <td>-0.05</td>\n",
       "      <td>-0.05</td>\n",
       "      <td>0.06</td>\n",
       "    </tr>\n",
       "    <tr>\n",
       "      <th>DistritSize</th>\n",
       "      <td>-0.52</td>\n",
       "      <td>-0.09</td>\n",
       "      <td>0.07</td>\n",
       "      <td>0.08</td>\n",
       "      <td>-0.12</td>\n",
       "      <td>0.10</td>\n",
       "      <td>0.14</td>\n",
       "      <td>-0.16</td>\n",
       "      <td>-0.17</td>\n",
       "      <td>-0.23</td>\n",
       "      <td>...</td>\n",
       "      <td>0.05</td>\n",
       "      <td>-0.11</td>\n",
       "      <td>0.11</td>\n",
       "      <td>0.14</td>\n",
       "      <td>-0.14</td>\n",
       "      <td>1.00</td>\n",
       "      <td>-0.55</td>\n",
       "      <td>0.25</td>\n",
       "      <td>0.13</td>\n",
       "      <td>0.29</td>\n",
       "    </tr>\n",
       "    <tr>\n",
       "      <th>square_per_meter</th>\n",
       "      <td>0.38</td>\n",
       "      <td>-0.03</td>\n",
       "      <td>-0.17</td>\n",
       "      <td>-0.14</td>\n",
       "      <td>0.14</td>\n",
       "      <td>0.02</td>\n",
       "      <td>-0.04</td>\n",
       "      <td>0.13</td>\n",
       "      <td>-0.01</td>\n",
       "      <td>0.16</td>\n",
       "      <td>...</td>\n",
       "      <td>-0.00</td>\n",
       "      <td>0.09</td>\n",
       "      <td>-0.09</td>\n",
       "      <td>-0.13</td>\n",
       "      <td>0.13</td>\n",
       "      <td>-0.55</td>\n",
       "      <td>1.00</td>\n",
       "      <td>-0.20</td>\n",
       "      <td>-0.23</td>\n",
       "      <td>-0.18</td>\n",
       "    </tr>\n",
       "    <tr>\n",
       "      <th>Unionsqare</th>\n",
       "      <td>-0.13</td>\n",
       "      <td>0.15</td>\n",
       "      <td>0.18</td>\n",
       "      <td>0.29</td>\n",
       "      <td>-0.19</td>\n",
       "      <td>0.08</td>\n",
       "      <td>0.04</td>\n",
       "      <td>-0.20</td>\n",
       "      <td>-0.03</td>\n",
       "      <td>-0.09</td>\n",
       "      <td>...</td>\n",
       "      <td>0.02</td>\n",
       "      <td>-0.07</td>\n",
       "      <td>0.07</td>\n",
       "      <td>0.05</td>\n",
       "      <td>-0.05</td>\n",
       "      <td>0.25</td>\n",
       "      <td>-0.20</td>\n",
       "      <td>1.00</td>\n",
       "      <td>0.26</td>\n",
       "      <td>0.11</td>\n",
       "    </tr>\n",
       "    <tr>\n",
       "      <th>index_square</th>\n",
       "      <td>-0.07</td>\n",
       "      <td>0.65</td>\n",
       "      <td>0.80</td>\n",
       "      <td>0.55</td>\n",
       "      <td>-0.46</td>\n",
       "      <td>0.03</td>\n",
       "      <td>-0.04</td>\n",
       "      <td>-0.20</td>\n",
       "      <td>-0.05</td>\n",
       "      <td>-0.06</td>\n",
       "      <td>...</td>\n",
       "      <td>0.01</td>\n",
       "      <td>-0.03</td>\n",
       "      <td>0.03</td>\n",
       "      <td>0.05</td>\n",
       "      <td>-0.05</td>\n",
       "      <td>0.13</td>\n",
       "      <td>-0.23</td>\n",
       "      <td>0.26</td>\n",
       "      <td>1.00</td>\n",
       "      <td>0.05</td>\n",
       "    </tr>\n",
       "    <tr>\n",
       "      <th>PSA_social1_2</th>\n",
       "      <td>-0.06</td>\n",
       "      <td>-0.04</td>\n",
       "      <td>0.03</td>\n",
       "      <td>0.03</td>\n",
       "      <td>-0.04</td>\n",
       "      <td>0.07</td>\n",
       "      <td>0.07</td>\n",
       "      <td>-0.07</td>\n",
       "      <td>0.14</td>\n",
       "      <td>-0.87</td>\n",
       "      <td>...</td>\n",
       "      <td>0.01</td>\n",
       "      <td>-0.07</td>\n",
       "      <td>0.07</td>\n",
       "      <td>-0.06</td>\n",
       "      <td>0.06</td>\n",
       "      <td>0.29</td>\n",
       "      <td>-0.18</td>\n",
       "      <td>0.11</td>\n",
       "      <td>0.05</td>\n",
       "      <td>1.00</td>\n",
       "    </tr>\n",
       "  </tbody>\n",
       "</table>\n",
       "<p>28 rows × 28 columns</p>\n",
       "</div>"
      ],
      "text/plain": [
       "                  DistrictId  Rooms  Square  LifeSquare  KitchenSquare  Floor  \\\n",
       "DistrictId              1.00   0.07   -0.04       -0.04           0.06  -0.12   \n",
       "Rooms                   0.07   1.00    0.79        0.58           0.06  -0.00   \n",
       "Square                 -0.04   0.79    1.00        0.68           0.13   0.14   \n",
       "LifeSquare             -0.04   0.58    0.68        1.00           0.06   0.09   \n",
       "KitchenSquare           0.06   0.06    0.13        0.06           1.00   0.16   \n",
       "Floor                  -0.12  -0.00    0.14        0.09           0.16   1.00   \n",
       "HouseFloor             -0.17  -0.04    0.13        0.09           0.30   0.45   \n",
       "HouseYear               0.04   0.04    0.05       -0.02           0.40   0.06   \n",
       "Ecology_1               0.07  -0.03   -0.07       -0.05          -0.02  -0.02   \n",
       "Social_1                0.01   0.04   -0.04       -0.04           0.04  -0.05   \n",
       "Social_2                0.10   0.03   -0.01       -0.02           0.02  -0.07   \n",
       "Social_3                0.39   0.06   -0.03       -0.02           0.03  -0.07   \n",
       "Healthcare_1           -0.11   0.00    0.03        0.03          -0.04   0.07   \n",
       "Helthcare_2             0.26   0.04   -0.02       -0.03           0.06  -0.06   \n",
       "Shops_1                 0.17   0.05    0.01        0.01           0.11   0.02   \n",
       "Price                   0.27   0.56    0.60        0.41           0.23   0.13   \n",
       "shops_distr            -0.65  -0.02    0.05        0.05           0.01   0.12   \n",
       "Ecology_2_A             0.09  -0.00   -0.03       -0.02          -0.04  -0.05   \n",
       "Ecology_2_B            -0.09   0.00    0.03        0.02           0.04   0.05   \n",
       "Ecology_3_A             0.03   0.01   -0.03       -0.03           0.01  -0.03   \n",
       "Ecology_3_B            -0.03  -0.01    0.03        0.03          -0.01   0.03   \n",
       "Shops_2_A               0.02   0.00    0.06        0.02           0.01   0.01   \n",
       "Shops_2_B              -0.02  -0.00   -0.06       -0.02          -0.01  -0.01   \n",
       "DistritSize            -0.52  -0.09    0.07        0.08          -0.12   0.10   \n",
       "square_per_meter        0.38  -0.03   -0.17       -0.14           0.14   0.02   \n",
       "Unionsqare             -0.13   0.15    0.18        0.29          -0.19   0.08   \n",
       "index_square           -0.07   0.65    0.80        0.55          -0.46   0.03   \n",
       "PSA_social1_2          -0.06  -0.04    0.03        0.03          -0.04   0.07   \n",
       "\n",
       "                  HouseFloor  HouseYear  Ecology_1  Social_1  ...  \\\n",
       "DistrictId             -0.17       0.04       0.07      0.01  ...   \n",
       "Rooms                  -0.04       0.04      -0.03      0.04  ...   \n",
       "Square                  0.13       0.05      -0.07     -0.04  ...   \n",
       "LifeSquare              0.09      -0.02      -0.05     -0.04  ...   \n",
       "KitchenSquare           0.30       0.40      -0.02      0.04  ...   \n",
       "Floor                   0.45       0.06      -0.02     -0.05  ...   \n",
       "HouseFloor              1.00       0.15      -0.02     -0.06  ...   \n",
       "HouseYear               0.15       1.00      -0.04      0.08  ...   \n",
       "Ecology_1              -0.02      -0.04       1.00     -0.01  ...   \n",
       "Social_1               -0.06       0.08      -0.01      1.00  ...   \n",
       "Social_2               -0.06       0.05      -0.23      0.51  ...   \n",
       "Social_3               -0.10       0.00       0.25     -0.13  ...   \n",
       "Healthcare_1            0.08      -0.08       0.13      0.06  ...   \n",
       "Helthcare_2            -0.08       0.12       0.03      0.12  ...   \n",
       "Shops_1                 0.00       0.16      -0.08      0.09  ...   \n",
       "Price                   0.09       0.15      -0.06      0.10  ...   \n",
       "shops_distr             0.12       0.03      -0.09      0.03  ...   \n",
       "Ecology_2_A            -0.07      -0.02       0.11     -0.02  ...   \n",
       "Ecology_2_B             0.07       0.02      -0.11      0.02  ...   \n",
       "Ecology_3_A            -0.02       0.02       0.22      0.12  ...   \n",
       "Ecology_3_B             0.02      -0.02      -0.22     -0.12  ...   \n",
       "Shops_2_A              -0.00      -0.00      -0.08      0.03  ...   \n",
       "Shops_2_B               0.00       0.00       0.08     -0.03  ...   \n",
       "DistritSize             0.14      -0.16      -0.17     -0.23  ...   \n",
       "square_per_meter       -0.04       0.13      -0.01      0.16  ...   \n",
       "Unionsqare              0.04      -0.20      -0.03     -0.09  ...   \n",
       "index_square           -0.04      -0.20      -0.05     -0.06  ...   \n",
       "PSA_social1_2           0.07      -0.07       0.14     -0.87  ...   \n",
       "\n",
       "                  Ecology_2_B  Ecology_3_A  Ecology_3_B  Shops_2_A  Shops_2_B  \\\n",
       "DistrictId              -0.09         0.03        -0.03       0.02      -0.02   \n",
       "Rooms                    0.00         0.01        -0.01       0.00      -0.00   \n",
       "Square                   0.03        -0.03         0.03       0.06      -0.06   \n",
       "LifeSquare               0.02        -0.03         0.03       0.02      -0.02   \n",
       "KitchenSquare            0.04         0.01        -0.01       0.01      -0.01   \n",
       "Floor                    0.05        -0.03         0.03       0.01      -0.01   \n",
       "HouseFloor               0.07        -0.02         0.02      -0.00       0.00   \n",
       "HouseYear                0.02         0.02        -0.02      -0.00       0.00   \n",
       "Ecology_1               -0.11         0.22        -0.22      -0.08       0.08   \n",
       "Social_1                 0.02         0.12        -0.12       0.03      -0.03   \n",
       "Social_2                -0.05         0.00        -0.00       0.07      -0.07   \n",
       "Social_3                -0.07         0.12        -0.12      -0.11       0.11   \n",
       "Healthcare_1             0.01         0.01        -0.01      -0.10       0.10   \n",
       "Helthcare_2             -0.08         0.11        -0.11      -0.09       0.09   \n",
       "Shops_1                  0.05        -0.00         0.00      -0.14       0.14   \n",
       "Price                    0.02         0.05        -0.05      -0.07       0.07   \n",
       "shops_distr              0.10        -0.11         0.11      -0.02       0.02   \n",
       "Ecology_2_A             -1.00        -0.02         0.02       0.02      -0.02   \n",
       "Ecology_2_B              1.00         0.02        -0.02      -0.02       0.02   \n",
       "Ecology_3_A              0.02         1.00        -1.00      -0.05       0.05   \n",
       "Ecology_3_B             -0.02        -1.00         1.00       0.05      -0.05   \n",
       "Shops_2_A               -0.02        -0.05         0.05       1.00      -1.00   \n",
       "Shops_2_B                0.02         0.05        -0.05      -1.00       1.00   \n",
       "DistritSize              0.05        -0.11         0.11       0.14      -0.14   \n",
       "square_per_meter        -0.00         0.09        -0.09      -0.13       0.13   \n",
       "Unionsqare               0.02        -0.07         0.07       0.05      -0.05   \n",
       "index_square             0.01        -0.03         0.03       0.05      -0.05   \n",
       "PSA_social1_2            0.01        -0.07         0.07      -0.06       0.06   \n",
       "\n",
       "                  DistritSize  square_per_meter  Unionsqare  index_square  \\\n",
       "DistrictId              -0.52              0.38       -0.13         -0.07   \n",
       "Rooms                   -0.09             -0.03        0.15          0.65   \n",
       "Square                   0.07             -0.17        0.18          0.80   \n",
       "LifeSquare               0.08             -0.14        0.29          0.55   \n",
       "KitchenSquare           -0.12              0.14       -0.19         -0.46   \n",
       "Floor                    0.10              0.02        0.08          0.03   \n",
       "HouseFloor               0.14             -0.04        0.04         -0.04   \n",
       "HouseYear               -0.16              0.13       -0.20         -0.20   \n",
       "Ecology_1               -0.17             -0.01       -0.03         -0.05   \n",
       "Social_1                -0.23              0.16       -0.09         -0.06   \n",
       "Social_2                -0.27              0.15       -0.09         -0.03   \n",
       "Social_3                -0.41              0.36       -0.09         -0.05   \n",
       "Healthcare_1             0.05             -0.03        0.06          0.06   \n",
       "Helthcare_2             -0.37              0.27       -0.10         -0.05   \n",
       "Shops_1                 -0.41              0.22       -0.09         -0.06   \n",
       "Price                   -0.38              0.65       -0.01          0.38   \n",
       "shops_distr              0.23             -0.17        0.08          0.04   \n",
       "Ecology_2_A             -0.05              0.00       -0.02         -0.01   \n",
       "Ecology_2_B              0.05             -0.00        0.02          0.01   \n",
       "Ecology_3_A             -0.11              0.09       -0.07         -0.03   \n",
       "Ecology_3_B              0.11             -0.09        0.07          0.03   \n",
       "Shops_2_A                0.14             -0.13        0.05          0.05   \n",
       "Shops_2_B               -0.14              0.13       -0.05         -0.05   \n",
       "DistritSize              1.00             -0.55        0.25          0.13   \n",
       "square_per_meter        -0.55              1.00       -0.20         -0.23   \n",
       "Unionsqare               0.25             -0.20        1.00          0.26   \n",
       "index_square             0.13             -0.23        0.26          1.00   \n",
       "PSA_social1_2            0.29             -0.18        0.11          0.05   \n",
       "\n",
       "                  PSA_social1_2  \n",
       "DistrictId                -0.06  \n",
       "Rooms                     -0.04  \n",
       "Square                     0.03  \n",
       "LifeSquare                 0.03  \n",
       "KitchenSquare             -0.04  \n",
       "Floor                      0.07  \n",
       "HouseFloor                 0.07  \n",
       "HouseYear                 -0.07  \n",
       "Ecology_1                  0.14  \n",
       "Social_1                  -0.87  \n",
       "Social_2                  -0.87  \n",
       "Social_3                   0.09  \n",
       "Healthcare_1               0.19  \n",
       "Helthcare_2               -0.16  \n",
       "Shops_1                   -0.22  \n",
       "Price                     -0.12  \n",
       "shops_distr               -0.05  \n",
       "Ecology_2_A               -0.01  \n",
       "Ecology_2_B                0.01  \n",
       "Ecology_3_A               -0.07  \n",
       "Ecology_3_B                0.07  \n",
       "Shops_2_A                 -0.06  \n",
       "Shops_2_B                  0.06  \n",
       "DistritSize                0.29  \n",
       "square_per_meter          -0.18  \n",
       "Unionsqare                 0.11  \n",
       "index_square               0.05  \n",
       "PSA_social1_2              1.00  \n",
       "\n",
       "[28 rows x 28 columns]"
      ]
     },
     "execution_count": 9245,
     "metadata": {},
     "output_type": "execute_result"
    }
   ],
   "source": [
    "corr_matrix = train_df.corr().round(2)\n",
    "corr_matrix"
   ]
  },
  {
   "cell_type": "markdown",
   "metadata": {},
   "source": [
    "### Построение модели"
   ]
  },
  {
   "cell_type": "code",
   "execution_count": 9266,
   "metadata": {},
   "outputs": [],
   "source": [
    "# feat = ['shops_distr','Rooms',\t'Square',\t'KitchenSquare',\t'Floor',\t'Ecology_1','Helthcare_2',\t'PSA_social1_2',\t'Ecology_2_A',\t'Ecology_2_B',\t'Ecology_3_A',\t'Ecology_3_B',\t'Shops_2_A','Shops_2_B', 'Social_2']\n",
    "#  0.615 feat = ['DistrictId',  'Rooms',\t'Square', 'Social_1', 'Social_2',\t'Healthcare_1',\t'Helthcare_2',\t'Shops_1',\t'Ecology_2_A',\t'Ecology_2_B',\t'Ecology_3_A',\t'Ecology_3_B',\t'Shops_2_A','Shops_2_B']\n",
    "# 0.620  all\n",
    "# feat = ['DistrictId',  'Rooms',\t'Square',\t'KitchenSquare',\t'Floor',\t'Ecology_1',\t'Social_1',\t'Social_2',\t'Healthcare_1',\t'Helthcare_2',\t'Shops_1',\t'Ecology_2_A',\t'Ecology_2_B',\t'Ecology_3_A',\t'Ecology_3_B',\t'Shops_2_A','Shops_2_B', 'Social_2', 'shops_distr',\t'PSA_social1_2']\n",
    "# feat = ['DistrictId',  'Rooms',\t'Square',\t'KitchenSquare',\t'Floor',\t'Ecology_1',\t'Social_1',\t'Social_2',\t'Healthcare_1',\t'Helthcare_2',\t'Shops_1',\t'Ecology_2_A',\t'Ecology_2_B',\t'Ecology_3_A',\t'Ecology_3_B',\t'Shops_2_A','Shops_2_B', 'Social_2', 'shops_distr',\t'PSA_social1_2','DistritSize', 'index_square','Unionsqare' ]\n",
    "feat = ['DistrictId', 'Rooms', 'Square', 'KitchenSquare', 'Floor', 'HouseYear',\n",
    "                 'Ecology_1', 'Social_1', 'Social_3',\n",
    "                 'Healthcare_1',\t'Helthcare_2']\n",
    "x = train_df [feat]\n",
    "y = train_df['Price']\n",
    "x_train, x_valid, y_train, y_valid = train_test_split(x,y, test_size=0.3, random_state=21)\n"
   ]
  },
  {
   "cell_type": "markdown",
   "metadata": {},
   "source": [
    "### Линейная регрессия"
   ]
  },
  {
   "cell_type": "code",
   "execution_count": 9267,
   "metadata": {},
   "outputs": [],
   "source": [
    "from sklearn.linear_model import LinearRegression\n",
    "lr = LinearRegression()\n"
   ]
  },
  {
   "cell_type": "code",
   "execution_count": 9268,
   "metadata": {},
   "outputs": [
    {
     "data": {
      "text/html": [
       "<style>#sk-container-id-211 {color: black;background-color: white;}#sk-container-id-211 pre{padding: 0;}#sk-container-id-211 div.sk-toggleable {background-color: white;}#sk-container-id-211 label.sk-toggleable__label {cursor: pointer;display: block;width: 100%;margin-bottom: 0;padding: 0.3em;box-sizing: border-box;text-align: center;}#sk-container-id-211 label.sk-toggleable__label-arrow:before {content: \"▸\";float: left;margin-right: 0.25em;color: #696969;}#sk-container-id-211 label.sk-toggleable__label-arrow:hover:before {color: black;}#sk-container-id-211 div.sk-estimator:hover label.sk-toggleable__label-arrow:before {color: black;}#sk-container-id-211 div.sk-toggleable__content {max-height: 0;max-width: 0;overflow: hidden;text-align: left;background-color: #f0f8ff;}#sk-container-id-211 div.sk-toggleable__content pre {margin: 0.2em;color: black;border-radius: 0.25em;background-color: #f0f8ff;}#sk-container-id-211 input.sk-toggleable__control:checked~div.sk-toggleable__content {max-height: 200px;max-width: 100%;overflow: auto;}#sk-container-id-211 input.sk-toggleable__control:checked~label.sk-toggleable__label-arrow:before {content: \"▾\";}#sk-container-id-211 div.sk-estimator input.sk-toggleable__control:checked~label.sk-toggleable__label {background-color: #d4ebff;}#sk-container-id-211 div.sk-label input.sk-toggleable__control:checked~label.sk-toggleable__label {background-color: #d4ebff;}#sk-container-id-211 input.sk-hidden--visually {border: 0;clip: rect(1px 1px 1px 1px);clip: rect(1px, 1px, 1px, 1px);height: 1px;margin: -1px;overflow: hidden;padding: 0;position: absolute;width: 1px;}#sk-container-id-211 div.sk-estimator {font-family: monospace;background-color: #f0f8ff;border: 1px dotted black;border-radius: 0.25em;box-sizing: border-box;margin-bottom: 0.5em;}#sk-container-id-211 div.sk-estimator:hover {background-color: #d4ebff;}#sk-container-id-211 div.sk-parallel-item::after {content: \"\";width: 100%;border-bottom: 1px solid gray;flex-grow: 1;}#sk-container-id-211 div.sk-label:hover label.sk-toggleable__label {background-color: #d4ebff;}#sk-container-id-211 div.sk-serial::before {content: \"\";position: absolute;border-left: 1px solid gray;box-sizing: border-box;top: 0;bottom: 0;left: 50%;z-index: 0;}#sk-container-id-211 div.sk-serial {display: flex;flex-direction: column;align-items: center;background-color: white;padding-right: 0.2em;padding-left: 0.2em;position: relative;}#sk-container-id-211 div.sk-item {position: relative;z-index: 1;}#sk-container-id-211 div.sk-parallel {display: flex;align-items: stretch;justify-content: center;background-color: white;position: relative;}#sk-container-id-211 div.sk-item::before, #sk-container-id-211 div.sk-parallel-item::before {content: \"\";position: absolute;border-left: 1px solid gray;box-sizing: border-box;top: 0;bottom: 0;left: 50%;z-index: -1;}#sk-container-id-211 div.sk-parallel-item {display: flex;flex-direction: column;z-index: 1;position: relative;background-color: white;}#sk-container-id-211 div.sk-parallel-item:first-child::after {align-self: flex-end;width: 50%;}#sk-container-id-211 div.sk-parallel-item:last-child::after {align-self: flex-start;width: 50%;}#sk-container-id-211 div.sk-parallel-item:only-child::after {width: 0;}#sk-container-id-211 div.sk-dashed-wrapped {border: 1px dashed gray;margin: 0 0.4em 0.5em 0.4em;box-sizing: border-box;padding-bottom: 0.4em;background-color: white;}#sk-container-id-211 div.sk-label label {font-family: monospace;font-weight: bold;display: inline-block;line-height: 1.2em;}#sk-container-id-211 div.sk-label-container {text-align: center;}#sk-container-id-211 div.sk-container {/* jupyter's `normalize.less` sets `[hidden] { display: none; }` but bootstrap.min.css set `[hidden] { display: none !important; }` so we also need the `!important` here to be able to override the default hidden behavior on the sphinx rendered scikit-learn.org. See: https://github.com/scikit-learn/scikit-learn/issues/21755 */display: inline-block !important;position: relative;}#sk-container-id-211 div.sk-text-repr-fallback {display: none;}</style><div id=\"sk-container-id-211\" class=\"sk-top-container\"><div class=\"sk-text-repr-fallback\"><pre>LinearRegression()</pre><b>In a Jupyter environment, please rerun this cell to show the HTML representation or trust the notebook. <br />On GitHub, the HTML representation is unable to render, please try loading this page with nbviewer.org.</b></div><div class=\"sk-container\" hidden><div class=\"sk-item\"><div class=\"sk-estimator sk-toggleable\"><input class=\"sk-toggleable__control sk-hidden--visually\" id=\"sk-estimator-id-211\" type=\"checkbox\" checked><label for=\"sk-estimator-id-211\" class=\"sk-toggleable__label sk-toggleable__label-arrow\">LinearRegression</label><div class=\"sk-toggleable__content\"><pre>LinearRegression()</pre></div></div></div></div></div>"
      ],
      "text/plain": [
       "LinearRegression()"
      ]
     },
     "execution_count": 9268,
     "metadata": {},
     "output_type": "execute_result"
    }
   ],
   "source": [
    "lr.fit (x_train,y_train)"
   ]
  },
  {
   "cell_type": "code",
   "execution_count": 9269,
   "metadata": {},
   "outputs": [
    {
     "data": {
      "text/plain": [
       "array([134995.17415203, 204791.57940714, 189704.90612221, ...,\n",
       "       234420.12600371, 164705.53484683, 200892.73598125])"
      ]
     },
     "execution_count": 9269,
     "metadata": {},
     "output_type": "execute_result"
    }
   ],
   "source": [
    "y_pred_1 = lr.predict(x_valid)\n",
    "y_pred_1"
   ]
  },
  {
   "cell_type": "code",
   "execution_count": 9270,
   "metadata": {},
   "outputs": [
    {
     "data": {
      "text/plain": [
       "array([292256.53285855, 133129.08492576, 223080.23411269, ...,\n",
       "       163153.23523484, 110324.93834028, 237182.05046285])"
      ]
     },
     "execution_count": 9270,
     "metadata": {},
     "output_type": "execute_result"
    }
   ],
   "source": [
    "#check_test = pd.DataFrame({'y_valid':y_valid['Price'],y_pred_1: y_pred_1.flatten()}, columns = ['y_valid','y_pred_1'])\n",
    "y_pred_tr = lr.predict(x_train)\n",
    "y_pred_tr"
   ]
  },
  {
   "cell_type": "code",
   "execution_count": 9271,
   "metadata": {},
   "outputs": [
    {
     "data": {
      "text/plain": [
       "0.176035686955753"
      ]
     },
     "execution_count": 9271,
     "metadata": {},
     "output_type": "execute_result"
    }
   ],
   "source": [
    "r2_lr = r2_score(y_pred_1, y_valid)\n",
    "r2_lr\n"
   ]
  },
  {
   "cell_type": "code",
   "execution_count": 9272,
   "metadata": {},
   "outputs": [
    {
     "data": {
      "text/plain": [
       "0.12671058127131818"
      ]
     },
     "execution_count": 9272,
     "metadata": {},
     "output_type": "execute_result"
    }
   ],
   "source": [
    "r2_lr_train = r2_score(y_pred_tr, y_train)\n",
    "r2_lr_train"
   ]
  },
  {
   "cell_type": "code",
   "execution_count": 9273,
   "metadata": {},
   "outputs": [],
   "source": [
    "scaler = StandardScaler()\n",
    "x_train_scl = scaler.fit_transform(x_train)\n",
    "x_train_scl = pd.DataFrame(x_train_scl, columns=x_train.columns)\n",
    " "
   ]
  },
  {
   "cell_type": "code",
   "execution_count": 9274,
   "metadata": {},
   "outputs": [],
   "source": [
    "scaler = StandardScaler()\n",
    "x_valid_scl = scaler.fit_transform(x_valid)\n",
    "x_valid_scl = pd.DataFrame(x_valid_scl, columns=x_valid.columns)"
   ]
  },
  {
   "cell_type": "code",
   "execution_count": 9275,
   "metadata": {},
   "outputs": [
    {
     "data": {
      "text/plain": [
       "0.13297108897114895"
      ]
     },
     "execution_count": 9275,
     "metadata": {},
     "output_type": "execute_result"
    }
   ],
   "source": [
    "lr.fit(x_train_scl, y_train)\n",
    "y_pred_4 = lr.predict(x_valid_scl)\n",
    "r2_lr = r2_score(y_pred_4, y_valid)\n",
    "r2_lr"
   ]
  },
  {
   "cell_type": "code",
   "execution_count": 9276,
   "metadata": {},
   "outputs": [
    {
     "data": {
      "text/plain": [
       "<BarContainer object of 11 artists>"
      ]
     },
     "execution_count": 9276,
     "metadata": {},
     "output_type": "execute_result"
    },
    {
     "data": {
      "image/png": "[encoded data removed]",
      "text/plain": [
       "<Figure size 432x288 with 1 Axes>"
      ]
     },
     "metadata": {
      "needs_background": "light"
     },
     "output_type": "display_data"
    }
   ],
   "source": [
    "# проверяем и удаляем признаки с практически нулевыми весами.\n",
    "plt.barh(x_train.columns, lr.coef_.flatten())"
   ]
  },
  {
   "cell_type": "markdown",
   "metadata": {},
   "source": [
    "### RandomForestRegressor"
   ]
  },
  {
   "cell_type": "code",
   "execution_count": 9277,
   "metadata": {},
   "outputs": [
    {
     "data": {
      "text/html": [
       "<style>#sk-container-id-212 {color: black;background-color: white;}#sk-container-id-212 pre{padding: 0;}#sk-container-id-212 div.sk-toggleable {background-color: white;}#sk-container-id-212 label.sk-toggleable__label {cursor: pointer;display: block;width: 100%;margin-bottom: 0;padding: 0.3em;box-sizing: border-box;text-align: center;}#sk-container-id-212 label.sk-toggleable__label-arrow:before {content: \"▸\";float: left;margin-right: 0.25em;color: #696969;}#sk-container-id-212 label.sk-toggleable__label-arrow:hover:before {color: black;}#sk-container-id-212 div.sk-estimator:hover label.sk-toggleable__label-arrow:before {color: black;}#sk-container-id-212 div.sk-toggleable__content {max-height: 0;max-width: 0;overflow: hidden;text-align: left;background-color: #f0f8ff;}#sk-container-id-212 div.sk-toggleable__content pre {margin: 0.2em;color: black;border-radius: 0.25em;background-color: #f0f8ff;}#sk-container-id-212 input.sk-toggleable__control:checked~div.sk-toggleable__content {max-height: 200px;max-width: 100%;overflow: auto;}#sk-container-id-212 input.sk-toggleable__control:checked~label.sk-toggleable__label-arrow:before {content: \"▾\";}#sk-container-id-212 div.sk-estimator input.sk-toggleable__control:checked~label.sk-toggleable__label {background-color: #d4ebff;}#sk-container-id-212 div.sk-label input.sk-toggleable__control:checked~label.sk-toggleable__label {background-color: #d4ebff;}#sk-container-id-212 input.sk-hidden--visually {border: 0;clip: rect(1px 1px 1px 1px);clip: rect(1px, 1px, 1px, 1px);height: 1px;margin: -1px;overflow: hidden;padding: 0;position: absolute;width: 1px;}#sk-container-id-212 div.sk-estimator {font-family: monospace;background-color: #f0f8ff;border: 1px dotted black;border-radius: 0.25em;box-sizing: border-box;margin-bottom: 0.5em;}#sk-container-id-212 div.sk-estimator:hover {background-color: #d4ebff;}#sk-container-id-212 div.sk-parallel-item::after {content: \"\";width: 100%;border-bottom: 1px solid gray;flex-grow: 1;}#sk-container-id-212 div.sk-label:hover label.sk-toggleable__label {background-color: #d4ebff;}#sk-container-id-212 div.sk-serial::before {content: \"\";position: absolute;border-left: 1px solid gray;box-sizing: border-box;top: 0;bottom: 0;left: 50%;z-index: 0;}#sk-container-id-212 div.sk-serial {display: flex;flex-direction: column;align-items: center;background-color: white;padding-right: 0.2em;padding-left: 0.2em;position: relative;}#sk-container-id-212 div.sk-item {position: relative;z-index: 1;}#sk-container-id-212 div.sk-parallel {display: flex;align-items: stretch;justify-content: center;background-color: white;position: relative;}#sk-container-id-212 div.sk-item::before, #sk-container-id-212 div.sk-parallel-item::before {content: \"\";position: absolute;border-left: 1px solid gray;box-sizing: border-box;top: 0;bottom: 0;left: 50%;z-index: -1;}#sk-container-id-212 div.sk-parallel-item {display: flex;flex-direction: column;z-index: 1;position: relative;background-color: white;}#sk-container-id-212 div.sk-parallel-item:first-child::after {align-self: flex-end;width: 50%;}#sk-container-id-212 div.sk-parallel-item:last-child::after {align-self: flex-start;width: 50%;}#sk-container-id-212 div.sk-parallel-item:only-child::after {width: 0;}#sk-container-id-212 div.sk-dashed-wrapped {border: 1px dashed gray;margin: 0 0.4em 0.5em 0.4em;box-sizing: border-box;padding-bottom: 0.4em;background-color: white;}#sk-container-id-212 div.sk-label label {font-family: monospace;font-weight: bold;display: inline-block;line-height: 1.2em;}#sk-container-id-212 div.sk-label-container {text-align: center;}#sk-container-id-212 div.sk-container {/* jupyter's `normalize.less` sets `[hidden] { display: none; }` but bootstrap.min.css set `[hidden] { display: none !important; }` so we also need the `!important` here to be able to override the default hidden behavior on the sphinx rendered scikit-learn.org. See: https://github.com/scikit-learn/scikit-learn/issues/21755 */display: inline-block !important;position: relative;}#sk-container-id-212 div.sk-text-repr-fallback {display: none;}</style><div id=\"sk-container-id-212\" class=\"sk-top-container\"><div class=\"sk-text-repr-fallback\"><pre>RandomForestRegressor(n_estimators=50, random_state=42)</pre><b>In a Jupyter environment, please rerun this cell to show the HTML representation or trust the notebook. <br />On GitHub, the HTML representation is unable to render, please try loading this page with nbviewer.org.</b></div><div class=\"sk-container\" hidden><div class=\"sk-item\"><div class=\"sk-estimator sk-toggleable\"><input class=\"sk-toggleable__control sk-hidden--visually\" id=\"sk-estimator-id-212\" type=\"checkbox\" checked><label for=\"sk-estimator-id-212\" class=\"sk-toggleable__label sk-toggleable__label-arrow\">RandomForestRegressor</label><div class=\"sk-toggleable__content\"><pre>RandomForestRegressor(n_estimators=50, random_state=42)</pre></div></div></div></div></div>"
      ],
      "text/plain": [
       "RandomForestRegressor(n_estimators=50, random_state=42)"
      ]
     },
     "execution_count": 9277,
     "metadata": {},
     "output_type": "execute_result"
    }
   ],
   "source": [
    "forest = RandomForestRegressor(random_state=42, n_estimators=50)\n",
    "forest.fit(x_train, y_train)"
   ]
  },
  {
   "cell_type": "code",
   "execution_count": 9278,
   "metadata": {},
   "outputs": [],
   "source": [
    "y_pred_2 = forest.predict(x_valid)\n",
    "y_pred_3 = forest.predict(x_train)"
   ]
  },
  {
   "cell_type": "code",
   "execution_count": 9279,
   "metadata": {},
   "outputs": [
    {
     "data": {
      "text/plain": [
       "0.9466030700300363"
      ]
     },
     "execution_count": 9279,
     "metadata": {},
     "output_type": "execute_result"
    }
   ],
   "source": [
    "r2_fr_train = r2_score(y_pred_3, y_train)\n",
    "r2_fr_train"
   ]
  },
  {
   "cell_type": "code",
   "execution_count": 9280,
   "metadata": {},
   "outputs": [
    {
     "data": {
      "text/plain": [
       "0.6110214468286959"
      ]
     },
     "execution_count": 9280,
     "metadata": {},
     "output_type": "execute_result"
    }
   ],
   "source": [
    "r2_fr = r2_score(y_pred_2, y_valid)\n",
    "r2_fr"
   ]
  },
  {
   "cell_type": "markdown",
   "metadata": {},
   "source": [
    "# Prediction"
   ]
  },
  {
   "cell_type": "code",
   "execution_count": 9281,
   "metadata": {},
   "outputs": [
    {
     "data": {
      "text/html": [
       "<style>#sk-container-id-213 {color: black;background-color: white;}#sk-container-id-213 pre{padding: 0;}#sk-container-id-213 div.sk-toggleable {background-color: white;}#sk-container-id-213 label.sk-toggleable__label {cursor: pointer;display: block;width: 100%;margin-bottom: 0;padding: 0.3em;box-sizing: border-box;text-align: center;}#sk-container-id-213 label.sk-toggleable__label-arrow:before {content: \"▸\";float: left;margin-right: 0.25em;color: #696969;}#sk-container-id-213 label.sk-toggleable__label-arrow:hover:before {color: black;}#sk-container-id-213 div.sk-estimator:hover label.sk-toggleable__label-arrow:before {color: black;}#sk-container-id-213 div.sk-toggleable__content {max-height: 0;max-width: 0;overflow: hidden;text-align: left;background-color: #f0f8ff;}#sk-container-id-213 div.sk-toggleable__content pre {margin: 0.2em;color: black;border-radius: 0.25em;background-color: #f0f8ff;}#sk-container-id-213 input.sk-toggleable__control:checked~div.sk-toggleable__content {max-height: 200px;max-width: 100%;overflow: auto;}#sk-container-id-213 input.sk-toggleable__control:checked~label.sk-toggleable__label-arrow:before {content: \"▾\";}#sk-container-id-213 div.sk-estimator input.sk-toggleable__control:checked~label.sk-toggleable__label {background-color: #d4ebff;}#sk-container-id-213 div.sk-label input.sk-toggleable__control:checked~label.sk-toggleable__label {background-color: #d4ebff;}#sk-container-id-213 input.sk-hidden--visually {border: 0;clip: rect(1px 1px 1px 1px);clip: rect(1px, 1px, 1px, 1px);height: 1px;margin: -1px;overflow: hidden;padding: 0;position: absolute;width: 1px;}#sk-container-id-213 div.sk-estimator {font-family: monospace;background-color: #f0f8ff;border: 1px dotted black;border-radius: 0.25em;box-sizing: border-box;margin-bottom: 0.5em;}#sk-container-id-213 div.sk-estimator:hover {background-color: #d4ebff;}#sk-container-id-213 div.sk-parallel-item::after {content: \"\";width: 100%;border-bottom: 1px solid gray;flex-grow: 1;}#sk-container-id-213 div.sk-label:hover label.sk-toggleable__label {background-color: #d4ebff;}#sk-container-id-213 div.sk-serial::before {content: \"\";position: absolute;border-left: 1px solid gray;box-sizing: border-box;top: 0;bottom: 0;left: 50%;z-index: 0;}#sk-container-id-213 div.sk-serial {display: flex;flex-direction: column;align-items: center;background-color: white;padding-right: 0.2em;padding-left: 0.2em;position: relative;}#sk-container-id-213 div.sk-item {position: relative;z-index: 1;}#sk-container-id-213 div.sk-parallel {display: flex;align-items: stretch;justify-content: center;background-color: white;position: relative;}#sk-container-id-213 div.sk-item::before, #sk-container-id-213 div.sk-parallel-item::before {content: \"\";position: absolute;border-left: 1px solid gray;box-sizing: border-box;top: 0;bottom: 0;left: 50%;z-index: -1;}#sk-container-id-213 div.sk-parallel-item {display: flex;flex-direction: column;z-index: 1;position: relative;background-color: white;}#sk-container-id-213 div.sk-parallel-item:first-child::after {align-self: flex-end;width: 50%;}#sk-container-id-213 div.sk-parallel-item:last-child::after {align-self: flex-start;width: 50%;}#sk-container-id-213 div.sk-parallel-item:only-child::after {width: 0;}#sk-container-id-213 div.sk-dashed-wrapped {border: 1px dashed gray;margin: 0 0.4em 0.5em 0.4em;box-sizing: border-box;padding-bottom: 0.4em;background-color: white;}#sk-container-id-213 div.sk-label label {font-family: monospace;font-weight: bold;display: inline-block;line-height: 1.2em;}#sk-container-id-213 div.sk-label-container {text-align: center;}#sk-container-id-213 div.sk-container {/* jupyter's `normalize.less` sets `[hidden] { display: none; }` but bootstrap.min.css set `[hidden] { display: none !important; }` so we also need the `!important` here to be able to override the default hidden behavior on the sphinx rendered scikit-learn.org. See: https://github.com/scikit-learn/scikit-learn/issues/21755 */display: inline-block !important;position: relative;}#sk-container-id-213 div.sk-text-repr-fallback {display: none;}</style><div id=\"sk-container-id-213\" class=\"sk-top-container\"><div class=\"sk-text-repr-fallback\"><pre>GradientBoostingRegressor(max_depth=5, n_estimators=200, random_state=42)</pre><b>In a Jupyter environment, please rerun this cell to show the HTML representation or trust the notebook. <br />On GitHub, the HTML representation is unable to render, please try loading this page with nbviewer.org.</b></div><div class=\"sk-container\" hidden><div class=\"sk-item\"><div class=\"sk-estimator sk-toggleable\"><input class=\"sk-toggleable__control sk-hidden--visually\" id=\"sk-estimator-id-213\" type=\"checkbox\" checked><label for=\"sk-estimator-id-213\" class=\"sk-toggleable__label sk-toggleable__label-arrow\">GradientBoostingRegressor</label><div class=\"sk-toggleable__content\"><pre>GradientBoostingRegressor(max_depth=5, n_estimators=200, random_state=42)</pre></div></div></div></div></div>"
      ],
      "text/plain": [
       "GradientBoostingRegressor(max_depth=5, n_estimators=200, random_state=42)"
      ]
     },
     "execution_count": 9281,
     "metadata": {},
     "output_type": "execute_result"
    }
   ],
   "source": [
    "from sklearn.ensemble import GradientBoostingRegressor\n",
    "final_model = GradientBoostingRegressor(random_state=42, n_estimators=200, max_depth=5)\n",
    "final_model.fit(x_train, y_train)"
   ]
  },
  {
   "cell_type": "code",
   "execution_count": 9282,
   "metadata": {},
   "outputs": [],
   "source": [
    "y_train_preds = final_model.predict(x_train)\n",
    "y_test_preds = final_model.predict(x_valid)"
   ]
  },
  {
   "cell_type": "code",
   "execution_count": 9283,
   "metadata": {},
   "outputs": [
    {
     "data": {
      "text/plain": [
       "0.6110214468286959"
      ]
     },
     "execution_count": 9283,
     "metadata": {},
     "output_type": "execute_result"
    }
   ],
   "source": [
    "r2_gb = r2_score(y_pred_2, y_valid)\n",
    "r2_gb"
   ]
  },
  {
   "cell_type": "code",
   "execution_count": 9284,
   "metadata": {},
   "outputs": [],
   "source": [
    "forest.fit(x,y)\n",
    "y_pred_fin = forest.predict(test_df[feat])\n",
    "\n"
   ]
  }
 ],
 "metadata": {
  "kernelspec": {
   "display_name": "Python 3.9.4 ('venv': venv)",
   "language": "python",
   "name": "python3"
  },
  "language_info": {
   "codemirror_mode": {
    "name": "ipython",
    "version": 3
   },
   "file_extension": ".py",
   "mimetype": "text/x-python",
   "name": "python",
   "nbconvert_exporter": "python",
   "pygments_lexer": "ipython3",
   "version": "3.9.13"
  },
  "orig_nbformat": 4,
  "vscode": {
   "interpreter": {
    "hash": "617a553ad79216cfdc544a93bbe728cc3e48d24e2ccce165ef10e305764cfb76"
   }
  }
 },
 "nbformat": 4,
 "nbformat_minor": 2
}
