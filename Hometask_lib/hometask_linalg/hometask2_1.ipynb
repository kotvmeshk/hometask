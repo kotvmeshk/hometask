{
 "cells": [
  {
   "cell_type": "code",
   "execution_count": 3,
   "metadata": {},
   "outputs": [],
   "source": [
    "import numpy as np\n",
    "from numpy.linalg import norm\n"
   ]
  },
  {
   "cell_type": "markdown",
   "metadata": {},
   "source": [
    "## методичка 1"
   ]
  },
  {
   "cell_type": "markdown",
   "metadata": {},
   "source": [
    "### задание 1"
   ]
  },
  {
   "cell_type": "markdown",
   "metadata": {},
   "source": [
    "а) произведение неопределено число строк не = количеству столбцов\n",
    "б) не определено 2х5 ; 5х3 ; 2 не = 3\n",
    "в) 8х8\n",
    "г) 4х4"
   ]
  },
  {
   "cell_type": "markdown",
   "metadata": {},
   "source": [
    "### задание 2"
   ]
  },
  {
   "cell_type": "code",
   "execution_count": 8,
   "metadata": {},
   "outputs": [
    {
     "name": "stdout",
     "output_type": "stream",
     "text": [
      "[[ 5 -1]\n",
      " [ 3  5]]\n"
     ]
    }
   ],
   "source": [
    "a = np.array([[1, -2],[3,0]])\n",
    "\n",
    "b = np.array([[4, 1],[0,5]])\n",
    "\n",
    "c=a+b\n",
    "print(c)  "
   ]
  },
  {
   "cell_type": "code",
   "execution_count": 9,
   "metadata": {},
   "outputs": [
    {
     "name": "stdout",
     "output_type": "stream",
     "text": [
      "[[ 4 -9]\n",
      " [12  3]]\n"
     ]
    }
   ],
   "source": [
    "c2 = a@b\n",
    "print (c2)"
   ]
  },
  {
   "cell_type": "markdown",
   "metadata": {},
   "source": [
    "### задание 3"
   ]
  },
  {
   "cell_type": "code",
   "execution_count": 13,
   "metadata": {},
   "outputs": [
    {
     "data": {
      "text/plain": [
       "array([[ 11,  -5],\n",
       "       [  9, -12]])"
      ]
     },
     "execution_count": 13,
     "metadata": {},
     "output_type": "execute_result"
    }
   ],
   "source": [
    "A = np.array([[1, 7],[3,-6]])\n",
    "\n",
    "B = np.array([[0, 5],[2,-1]])\n",
    "\n",
    "C = np.array([[2, -4],[1,1]])\n",
    "\n",
    "D = 3*A - 2*B + 4*C\n",
    "D\n",
    "\n",
    "\n",
    "\n"
   ]
  },
  {
   "cell_type": "markdown",
   "metadata": {},
   "source": [
    "### задание 4"
   ]
  },
  {
   "cell_type": "code",
   "execution_count": 12,
   "metadata": {},
   "outputs": [
    {
     "data": {
      "text/plain": [
       "array([[ 4,  5,  2],\n",
       "       [ 1, -2,  3]])"
      ]
     },
     "execution_count": 12,
     "metadata": {},
     "output_type": "execute_result"
    }
   ],
   "source": [
    "A = np.array([[4, 1],[5,-2], [2,3]])\n",
    "A_T = A.T\n",
    "A_T\n",
    "\n"
   ]
  },
  {
   "cell_type": "code",
   "execution_count": 14,
   "metadata": {},
   "outputs": [
    {
     "data": {
      "text/plain": [
       "array([[ 11,  -9,  23],\n",
       "       [  6,  27, -12]])"
      ]
     },
     "execution_count": 14,
     "metadata": {},
     "output_type": "execute_result"
    }
   ],
   "source": [
    "AA_T = A@A_T\n",
    "AA_T"
   ]
  },
  {
   "cell_type": "code",
   "execution_count": 15,
   "metadata": {},
   "outputs": [
    {
     "ename": "ValueError",
     "evalue": "matmul: Input operand 1 has a mismatch in its core dimension 0, with gufunc signature (n?,k),(k,m?)->(n?,m?) (size 2 is different from 3)",
     "output_type": "error",
     "traceback": [
      "\u001b[1;31m---------------------------------------------------------------------------\u001b[0m",
      "\u001b[1;31mValueError\u001b[0m                                Traceback (most recent call last)",
      "\u001b[1;32mc:\\piprojekts\\hometask\\Hometask_lib\\hometask_linalg\\hometask2_1.ipynb Cell 10'\u001b[0m in \u001b[0;36m<module>\u001b[1;34m\u001b[0m\n\u001b[1;32m----> <a href='vscode-notebook-cell:/c%3A/piprojekts/hometask/Hometask_lib/hometask_linalg/hometask2_1.ipynb#ch0000009?line=0'>1</a>\u001b[0m A_TA \u001b[39m=\u001b[39m A_T\u001b[39m@A\u001b[39;49m\n",
      "\u001b[1;31mValueError\u001b[0m: matmul: Input operand 1 has a mismatch in its core dimension 0, with gufunc signature (n?,k),(k,m?)->(n?,m?) (size 2 is different from 3)"
     ]
    }
   ],
   "source": [
    "# A_TA = A_T@A\n",
    "произведение не определено"
   ]
  }
 ],
 "metadata": {
  "kernelspec": {
   "display_name": "Python 3.9.13 ('venv': venv)",
   "language": "python",
   "name": "python3"
  },
  "language_info": {
   "codemirror_mode": {
    "name": "ipython",
    "version": 3
   },
   "file_extension": ".py",
   "mimetype": "text/x-python",
   "name": "python",
   "nbconvert_exporter": "python",
   "pygments_lexer": "ipython3",
   "version": "3.9.13"
  },
  "orig_nbformat": 4,
  "vscode": {
   "interpreter": {
    "hash": "617a553ad79216cfdc544a93bbe728cc3e48d24e2ccce165ef10e305764cfb76"
   }
  }
 },
 "nbformat": 4,
 "nbformat_minor": 2
}
