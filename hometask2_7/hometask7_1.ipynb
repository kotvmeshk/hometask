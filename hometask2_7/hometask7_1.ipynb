{
 "cells": [
  {
   "cell_type": "code",
   "execution_count": 2,
   "metadata": {},
   "outputs": [
    {
     "name": "stdout",
     "output_type": "stream",
     "text": [
      "[-9.2         0.9         6.46666667]\n"
     ]
    }
   ],
   "source": [
    "%matplotlib inline\n",
    "import numpy as np\n",
    "A = np.array ([[1,2,3], [4,0,6],[7,8,9]])\n",
    "B = np.array ([12,2,1])\n",
    "C = np.linalg.solve(A,B)\n",
    "print (C)"
   ]
  }
 ],
 "metadata": {
  "interpreter": {
   "hash": "f47e27b6adae66f011a5b107fe07cd7a05071e3e7f8ab6b0e20bec49ac3143c6"
  },
  "kernelspec": {
   "display_name": "Python 3.9.4 64-bit ('venv': venv)",
   "language": "python",
   "name": "python3"
  },
  "language_info": {
   "codemirror_mode": {
    "name": "ipython",
    "version": 3
   },
   "file_extension": ".py",
   "mimetype": "text/x-python",
   "name": "python",
   "nbconvert_exporter": "python",
   "pygments_lexer": "ipython3",
   "version": "3.9.4"
  },
  "orig_nbformat": 4
 },
 "nbformat": 4,
 "nbformat_minor": 2
}
