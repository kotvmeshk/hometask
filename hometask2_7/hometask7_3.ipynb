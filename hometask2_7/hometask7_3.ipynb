{
 "cells": [
  {
   "cell_type": "code",
   "execution_count": 13,
   "metadata": {},
   "outputs": [
    {
     "name": "stdout",
     "output_type": "stream",
     "text": [
      "2\n",
      "3\n"
     ]
    }
   ],
   "source": [
    "%matplotlib inline\n",
    "import numpy as np\n",
    "A = np.array ([[1,2,3], [4,5,6],[7,8,9]])\n",
    "B = np.array ([12,2,1])\n",
    "\n",
    "print (np.linalg.matrix_rank(A,0.0001))\n",
    "C = np.array ([[1,2,3,12], [4,5,6,2],[7,8,9,1]])\n",
    "print (np.linalg.matrix_rank(C,0.0001))"
   ]
  },
  {
   "cell_type": "markdown",
   "metadata": {},
   "source": [
    " Ранг расширенной матрицы больше ранга исходной матрицы, система решений не имеет."
   ]
  },
  {
   "cell_type": "code",
   "execution_count": 18,
   "metadata": {},
   "outputs": [
    {
     "name": "stdout",
     "output_type": "stream",
     "text": [
      "2\n",
      "2\n",
      "[0. 0. 4.]\n"
     ]
    }
   ],
   "source": [
    "%matplotlib inline\n",
    "import numpy as np\n",
    "A = np.array ([[1,2,3], [4,5,6],[7,8,9]])\n",
    "B = np.array ([12,24,36])\n",
    "\n",
    "print (np.linalg.matrix_rank(A,0.0001))\n",
    "C = np.array ([[1,2,3,12], [4,5,6,24],[7,8,9,36]])\n",
    "print (np.linalg.matrix_rank(C,0.0001))\n",
    "k = np.linalg.solve(A,B)\n",
    "print (k)"
   ]
  }
 ],
 "metadata": {
  "interpreter": {
   "hash": "f47e27b6adae66f011a5b107fe07cd7a05071e3e7f8ab6b0e20bec49ac3143c6"
  },
  "kernelspec": {
   "display_name": "Python 3.9.4 64-bit ('venv': venv)",
   "language": "python",
   "name": "python3"
  },
  "language_info": {
   "codemirror_mode": {
    "name": "ipython",
    "version": 3
   },
   "file_extension": ".py",
   "mimetype": "text/x-python",
   "name": "python",
   "nbconvert_exporter": "python",
   "pygments_lexer": "ipython3",
   "version": "3.9.4"
  },
  "orig_nbformat": 4
 },
 "nbformat": 4,
 "nbformat_minor": 2
}
