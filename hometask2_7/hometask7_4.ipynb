{
 "cells": [
  {
   "cell_type": "code",
   "execution_count": 21,
   "metadata": {},
   "outputs": [
    {
     "name": "stdout",
     "output_type": "stream",
     "text": [
      "[[0. 1. 0.]\n",
      " [0. 0. 1.]\n",
      " [1. 0. 0.]]\n",
      "[[ 1.    0.    0.  ]\n",
      " [ 0.25  1.    0.  ]\n",
      " [ 0.5  -0.4   1.  ]]\n",
      "[[  4.    28.    73.  ]\n",
      " [  0.    -5.   -15.25]\n",
      " [  0.     0.   -21.6 ]]\n",
      "[[ -2. -12. -52.]\n",
      " [  3.  26.  70.]\n",
      " [ -1. -14. -18.]]\n",
      "[4. 5. 3.]\n",
      "[ 7.56944444 -0.57638889 -0.13888889]\n"
     ]
    }
   ],
   "source": [
    "%matplotlib inline\n",
    "import scipy.linalg as linalg\n",
    "import numpy as np\n",
    "\n",
    "A = np.array ([[1,2,3], [2,16,21],[4,28,73]])\n",
    "\n",
    "P,L,U = scipy.linalg.lu(A)\n",
    "print (P)\n",
    "print (L)\n",
    "print (U)\n",
    "print (np.dot(P,A)-np.dot(L,U))\n",
    "B = np.array ([4,6,3])\n",
    "C = np.linalg.solve(L,B)\n",
    "print (C)\n",
    "D = np.linalg.solve(U,C)\n",
    "print (D)\n"
   ]
  }
 ],
 "metadata": {
  "interpreter": {
   "hash": "f47e27b6adae66f011a5b107fe07cd7a05071e3e7f8ab6b0e20bec49ac3143c6"
  },
  "kernelspec": {
   "display_name": "Python 3.9.4 64-bit ('venv': venv)",
   "language": "python",
   "name": "python3"
  },
  "language_info": {
   "codemirror_mode": {
    "name": "ipython",
    "version": 3
   },
   "file_extension": ".py",
   "mimetype": "text/x-python",
   "name": "python",
   "nbconvert_exporter": "python",
   "pygments_lexer": "ipython3",
   "version": "3.9.4"
  },
  "orig_nbformat": 4
 },
 "nbformat": 4,
 "nbformat_minor": 2
}
